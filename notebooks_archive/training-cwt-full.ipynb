{
 "cells": [
  {
   "cell_type": "code",
   "execution_count": null,
   "metadata": {
    "_cell_guid": "b1076dfc-b9ad-4769-8c92-a6c4dae69d19",
    "_uuid": "8f2839f25d086af736a60e9eeb907d3b93b6e0e5",
    "execution": {
     "iopub.execute_input": "2024-03-10T14:37:49.961977Z",
     "iopub.status.busy": "2024-03-10T14:37:49.961359Z",
     "iopub.status.idle": "2024-03-10T14:37:49.967228Z",
     "shell.execute_reply": "2024-03-10T14:37:49.966318Z",
     "shell.execute_reply.started": "2024-03-10T14:37:49.961940Z"
    },
    "trusted": true
   },
   "outputs": [],
   "source": [
    "# This Python 3 environment comes with many helpful analytics libraries installed\n",
    "# It is defined by the kaggle/python Docker image: https://github.com/kaggle/docker-python\n",
    "# For example, here's several helpful packages to load\n",
    "\n",
    "import numpy as np # linear algebra\n",
    "import pandas as pd # data processing, CSV file I/O (e.g. pd.read_csv)\n",
    "\n",
    "# Input data files are available in the read-only \"../input/\" directory\n",
    "# For example, running this (by clicking run or pressing Shift+Enter) will list all files under the input directory\n",
    "\n",
    "\n",
    "\n",
    "# You can write up to 20GB to the current directory (/kaggle/working/) that gets preserved as output when you create a version using \"Save & Run All\" \n",
    "# You can also write temporary files to /kaggle/temp/, but they won't be saved outside of the current session"
   ]
  },
  {
   "cell_type": "code",
   "execution_count": null,
   "metadata": {
    "execution": {
     "iopub.execute_input": "2024-03-10T14:37:49.998027Z",
     "iopub.status.busy": "2024-03-10T14:37:49.997118Z",
     "iopub.status.idle": "2024-03-10T14:37:50.004700Z",
     "shell.execute_reply": "2024-03-10T14:37:50.003826Z",
     "shell.execute_reply.started": "2024-03-10T14:37:49.997993Z"
    },
    "trusted": true
   },
   "outputs": [],
   "source": [
    "data.shape"
   ]
  },
  {
   "cell_type": "code",
   "execution_count": null,
   "metadata": {
    "execution": {
     "iopub.execute_input": "2024-03-10T14:37:50.006542Z",
     "iopub.status.busy": "2024-03-10T14:37:50.006215Z",
     "iopub.status.idle": "2024-03-10T14:37:50.019513Z",
     "shell.execute_reply": "2024-03-10T14:37:50.018628Z",
     "shell.execute_reply.started": "2024-03-10T14:37:50.006519Z"
    },
    "trusted": true
   },
   "outputs": [],
   "source": [
    "import tensorflow as tf\n",
    "from tensorflow.keras import layers, models\n",
    "def compile_model(num_classes):\n",
    "    # Define the input shape\n",
    "    input_shape = (19, 107, 450)\n",
    "\n",
    "    # Define the number of classes\n",
    "    # Assuming you have three classes\n",
    "\n",
    "    # Define the model\n",
    "    model = models.Sequential()\n",
    "\n",
    "    # Convolutional layers\n",
    "    model.add(layers.Conv2D(64, (5, 5), activation='relu', padding='same', input_shape=input_shape))\n",
    "    model.add(layers.BatchNormalization())\n",
    "    model.add(layers.MaxPooling2D((2, 2)))\n",
    "    model.add(layers.Dropout(0.25))\n",
    "\n",
    "    model.add(layers.Conv2D(128, (3, 3), activation='relu', padding='same'))\n",
    "    model.add(layers.BatchNormalization())\n",
    "    model.add(layers.MaxPooling2D((2, 2)))\n",
    "    model.add(layers.Dropout(0.25))\n",
    "\n",
    "    model.add(layers.Conv2D(256, (3, 3), activation='relu', padding='same'))\n",
    "    model.add(layers.BatchNormalization())\n",
    "    model.add(layers.MaxPooling2D((2, 2)))\n",
    "    model.add(layers.Dropout(0.25))\n",
    "\n",
    "    # Flatten the output for dense layers\n",
    "    model.add(layers.Flatten())\n",
    "\n",
    "    # Dense layers\n",
    "    model.add(layers.Dense(512, activation='relu'))\n",
    "    model.add(layers.BatchNormalization())\n",
    "    model.add(layers.Dropout(0.5))\n",
    "\n",
    "    model.add(layers.Dense(256, activation='relu'))\n",
    "    model.add(layers.BatchNormalization())\n",
    "    model.add(layers.Dropout(0.5))\n",
    "\n",
    "    model.add(layers.Dense(num_classes, activation='softmax'))\n",
    "\n",
    "    # Compile the model\n",
    "    model.compile(optimizer='adam', loss='categorical_crossentropy', metrics=['accuracy'])\n",
    "\n",
    "    # Print a summary of the model architecture\n",
    "    model.summary()\n",
    "\n",
    "    return model\n",
    "\n"
   ]
  },
  {
   "cell_type": "code",
   "execution_count": null,
   "metadata": {},
   "outputs": [],
   "source": []
  },
  {
   "cell_type": "code",
   "execution_count": null,
   "metadata": {
    "execution": {
     "iopub.execute_input": "2024-03-10T14:37:50.021576Z",
     "iopub.status.busy": "2024-03-10T14:37:50.021046Z",
     "iopub.status.idle": "2024-03-10T14:37:50.033917Z",
     "shell.execute_reply": "2024-03-10T14:37:50.033029Z",
     "shell.execute_reply.started": "2024-03-10T14:37:50.021551Z"
    },
    "trusted": true
   },
   "outputs": [],
   "source": [
    "from sklearn.metrics import classification_report\n",
    "\n",
    "def train(epoch, data,labels,test_data,test_labels, model,batch_size=32):\n",
    "    \n",
    "    \n",
    "    \n",
    "    for i in range(epoch):\n",
    "        length = len(data)\n",
    "        print(length)\n",
    "        indices = np.arange(length)\n",
    "        np.random.shuffle(indices)\n",
    "        batch_size = batch_size\n",
    "        j=0\n",
    "        while j < length:\n",
    "            batch_indices = indices[j:j + batch_size]\n",
    "            j += batch_size\n",
    "            print(j)\n",
    "            model.fit(abs(data[batch_indices]), labels[batch_indices])\n",
    "        print(\"Epoch:\", i)\n",
    "        \n",
    "        \n",
    "        pred=model.predict(abs(data[indices[0:500]]))\n",
    "\n",
    "        train_pred= np.argmax(pred, axis=1)\n",
    "        true_labels=np.argmax(labels[indices[0:500]],axis=1)\n",
    "        print(\"training report\")\n",
    "        print(classification_report(true_labels,train_pred))\n",
    "\n",
    "        \n",
    "        pred=model.predict(abs(test_data))\n",
    "\n",
    "        test_pred= np.argmax(pred, axis=1)\n",
    "        test_try=np.argmax(test_labels,axis=1)\n",
    "        print(\"testing report\")\n",
    "        print(classification_report(test_try,test_pred))\n",
    "\n"
   ]
  },
  {
   "cell_type": "code",
   "execution_count": null,
   "metadata": {
    "execution": {
     "iopub.execute_input": "2024-03-10T14:37:50.058134Z",
     "iopub.status.busy": "2024-03-10T14:37:50.057830Z",
     "iopub.status.idle": "2024-03-10T14:37:53.275831Z",
     "shell.execute_reply": "2024-03-10T14:37:53.274146Z",
     "shell.execute_reply.started": "2024-03-10T14:37:50.058109Z"
    },
    "trusted": true
   },
   "outputs": [],
   "source": [
    "\n",
    "\n",
    "model=compile_model(3)\n",
    "\n",
    "training_data_file = '/kaggle/input/npy-cwt-train-test/training_data.npy'\n",
    "training_label_file = '/kaggle/input/npy-cwt-train-test/training_labels.npy'\n",
    "testing_data_file = '/kaggle/input/npy-cwt-train-test/testing_data.npy'\n",
    "testing_label_file = '/kaggle/input/npy-cwt-train-test/testing_labels.npy'\n",
    "\n",
    "\n",
    "\n",
    "data = np.load(training_data_file,mmap_mode='r')\n",
    "labels = np.load(training_label_file,mmap_mode='r')\n",
    "test_data = np.load(testing_data_file,mmap_mode='r')\n",
    "test_labels = np.load(testing_label_file,mmap_mode='r')\n",
    "\n",
    "integer_labels = np.argmax(labels, axis=1)\n",
    "integer_labels_test = np.argmax(test_labels, axis=1)\n",
    "\n",
    "\n",
    "from tensorflow.keras.preprocessing.image import ImageDataGenerator\n",
    "\n",
    "data_augmentation = ImageDataGenerator(\n",
    "    rotation_range=20,\n",
    "    width_shift_range=0.2,\n",
    "    height_shift_range=0.2,\n",
    "    shear_range=0.2,\n",
    "    zoom_range=0.2,\n",
    "    horizontal_flip=True\n",
    ")\n",
    "train_generator = data_augmentation.flow(data, labels, batch_size=32)\n",
    "\n",
    "\n",
    "\n"
   ]
  },
  {
   "cell_type": "code",
   "execution_count": null,
   "metadata": {
    "execution": {
     "iopub.status.busy": "2024-03-10T14:37:53.276494Z",
     "iopub.status.idle": "2024-03-10T14:37:53.276815Z",
     "shell.execute_reply": "2024-03-10T14:37:53.276672Z",
     "shell.execute_reply.started": "2024-03-10T14:37:53.276658Z"
    },
    "trusted": true
   },
   "outputs": [],
   "source": [
    "model=compile_model(3)\n"
   ]
  },
  {
   "cell_type": "code",
   "execution_count": null,
   "metadata": {
    "execution": {
     "iopub.status.busy": "2024-03-10T14:37:53.278007Z",
     "iopub.status.idle": "2024-03-10T14:37:53.278350Z",
     "shell.execute_reply": "2024-03-10T14:37:53.278190Z",
     "shell.execute_reply.started": "2024-03-10T14:37:53.278175Z"
    },
    "trusted": true
   },
   "outputs": [],
   "source": [
    "np.argmax(test_labels,axis=1)"
   ]
  },
  {
   "cell_type": "code",
   "execution_count": null,
   "metadata": {
    "execution": {
     "iopub.execute_input": "2024-03-10T14:37:59.264379Z",
     "iopub.status.busy": "2024-03-10T14:37:59.263985Z"
    },
    "trusted": true
   },
   "outputs": [],
   "source": [
    "\n",
    "model=compile_model(3)\n",
    "\n",
    "training_data_file = '/kaggle/input/npy-cwt-train-test/training_data.npy'\n",
    "training_label_file = '/kaggle/input/npy-cwt-train-test/training_labels.npy'\n",
    "testing_data_file = '/kaggle/input/npy-cwt-train-test/testing_data.npy'\n",
    "testing_label_file = '/kaggle/input/npy-cwt-train-test/testing_labels.npy'\n",
    "\n",
    "\n",
    "\n",
    "data = np.load(training_data_file,mmap_mode='r')\n",
    "labels = np.load(training_label_file,mmap_mode='r')\n",
    "test_data = np.load(testing_data_file,mmap_mode='r')\n",
    "test_labels = np.load(testing_label_file,mmap_mode='r')\n",
    "\n",
    "integer_labels = np.argmax(labels, axis=1)\n",
    "integer_labels_test = np.argmax(test_labels, axis=1)\n",
    "\n",
    "\n",
    "train(100,data,labels,test_data,test_labels,model,batch_size=200)"
   ]
  },
  {
   "cell_type": "code",
   "execution_count": null,
   "metadata": {
    "scrolled": true,
    "trusted": true
   },
   "outputs": [],
   "source": [
    "model=compile_model(2)\n",
    "\n",
    "training_data_file = '/kaggle/input/cwt-a-c/training_data_A_C.npy'\n",
    "training_label_file = '/kaggle/input/cwt-a-c/training_labels_A_C.npy'\n",
    "testing_data_file = '/kaggle/input/cwt-a-c/testing_data_A_C.npy'\n",
    "testing_label_file = '/kaggle/input/cwt-a-c/testing_labels_A_C.npy'\n",
    "\n",
    "\n",
    "\n",
    "data = np.load(training_data_file,mmap_mode='r')\n",
    "labels = np.load(training_label_file,mmap_mode='r')\n",
    "test_data = np.load(testing_data_file,mmap_mode='r')\n",
    "test_labels = np.load(testing_label_file,mmap_mode='r')\n",
    "\n",
    "integer_labels = np.argmax(labels, axis=1)\n",
    "integer_labels_test = np.argmax(test_labels, axis=1)\n",
    "\n",
    "\n",
    "train(50,data,labels,test_data,test_labels,model,batch_size=200)"
   ]
  },
  {
   "cell_type": "code",
   "execution_count": null,
   "metadata": {
    "trusted": true
   },
   "outputs": [],
   "source": [
    "model=compile_model(2)\n",
    "\n",
    "training_data_file = '/kaggle/input/cwt-a-f/training_data_A_F.npy'\n",
    "training_label_file = '/kaggle/input/cwt-a-f/training_labels_A_F.npy'\n",
    "testing_data_file = '/kaggle/input/cwt-a-f/testing_data_A_F.npy'\n",
    "testing_label_file = '/kaggle/input/cwt-a-f/testing_labels_A_F.npy'\n",
    "\n",
    "\n",
    "\n",
    "data = np.load(training_data_file,mmap_mode='r')\n",
    "labels = np.load(training_label_file,mmap_mode='r')\n",
    "test_data = np.load(testing_data_file,mmap_mode='r')\n",
    "test_labels = np.load(testing_label_file,mmap_mode='r')\n",
    "\n",
    "integer_labels = np.argmax(labels, axis=1)\n",
    "integer_labels_test = np.argmax(test_labels, axis=1)\n",
    "\n",
    "\n",
    "train(50,data,labels,test_data,test_labels,model,batch_size=200)"
   ]
  },
  {
   "cell_type": "code",
   "execution_count": null,
   "metadata": {
    "trusted": true
   },
   "outputs": [],
   "source": [
    "model=compile_model(2)\n",
    "\n",
    "training_data_file = '/kaggle/input/cwt-c-f/training_data_C_F.npy'\n",
    "training_label_file = '/kaggle/input/cwt-c-f/training_labels_C_F.npy'\n",
    "testing_data_file = '/kaggle/input/cwt-c-f/testing_data_C_F.npy'\n",
    "testing_label_file = '/kaggle/input/cwt-c-f/testing_labels_C_F.npy'\n",
    "\n",
    "\n",
    "\n",
    "data = np.load(training_data_file,mmap_mode='r')\n",
    "labels = np.load(training_label_file,mmap_mode='r')\n",
    "test_data = np.load(testing_data_file,mmap_mode='r')\n",
    "test_labels = np.load(testing_label_file,mmap_mode='r')\n",
    "\n",
    "integer_labels = np.argmax(labels, axis=1)\n",
    "integer_labels_test = np.argmax(test_labels, axis=1)\n",
    "\n",
    "\n",
    "train(50,data,labels,test_data,test_labels,model,batch_size=200)"
   ]
  },
  {
   "cell_type": "code",
   "execution_count": null,
   "metadata": {},
   "outputs": [],
   "source": []
  },
  {
   "cell_type": "code",
   "execution_count": null,
   "metadata": {},
   "outputs": [],
   "source": []
  }
 ],
 "metadata": {
  "kaggle": {
   "accelerator": "gpu",
   "dataSources": [
    {
     "datasetId": 4556465,
     "sourceId": 7785232,
     "sourceType": "datasetVersion"
    },
    {
     "datasetId": 4563559,
     "sourceId": 7795185,
     "sourceType": "datasetVersion"
    },
    {
     "datasetId": 4563566,
     "sourceId": 7795197,
     "sourceType": "datasetVersion"
    },
    {
     "datasetId": 4563584,
     "sourceId": 7795219,
     "sourceType": "datasetVersion"
    }
   ],
   "dockerImageVersionId": 30664,
   "isGpuEnabled": true,
   "isInternetEnabled": true,
   "language": "python",
   "sourceType": "notebook"
  },
  "kernelspec": {
   "display_name": "Python 3",
   "language": "python",
   "name": "python3"
  },
  "language_info": {
   "codemirror_mode": {
    "name": "ipython",
    "version": 3
   },
   "file_extension": ".py",
   "mimetype": "text/x-python",
   "name": "python",
   "nbconvert_exporter": "python",
   "pygments_lexer": "ipython3",
   "version": "3.10.13"
  }
 },
 "nbformat": 4,
 "nbformat_minor": 4
}
