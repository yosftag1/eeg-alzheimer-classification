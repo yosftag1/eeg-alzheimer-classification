{
 "cells": [
  {
   "cell_type": "markdown",
   "metadata": {},
   "source": [
    "# EEG Graph Construction using EEGRAPH\n",
    "\n",
    "This notebook converts EEG signals into graph representations for graph neural network analysis.\n",
    "\n",
    "## EEGRAPH Library Features\n",
    "\n",
    "### Connectivity Measures Implemented\n",
    "1. **Pearson Correlation**: Linear statistical relationship between channels\n",
    "2. **Squared Coherence**: Frequency-domain coherence across EEG bands\n",
    "3. **Cross-Correlation**: Time-domain correlation with lag analysis\n",
    "4. **Weighted Phase Lag Index (wPLI)**: Phase synchronization robust to volume conduction\n",
    "5. **Shannon Entropy**: Information-theoretic complexity measure\n",
    "\n",
    "### Frequency Bands Analyzed\n",
    "- **Delta** (0.5-4 Hz): Deep sleep, unconscious processes\n",
    "- **Theta** (4-8 Hz): Drowsiness, meditation, creativity  \n",
    "- **Alpha** (8-13 Hz): Relaxed awareness, eyes closed\n",
    "- **Beta** (13-30 Hz): Active thinking, concentration\n",
    "- **Gamma** (30-100 Hz): Higher cognitive functions\n",
    "\n",
    "## Processing Pipeline\n",
    "1. **Data Conversion**: Convert .set files to .edf format for EEGRAPH compatibility\n",
    "2. **Graph Construction**: Apply multiple connectivity measures\n",
    "3. **Feature Extraction**: Generate graph-based features for each subject\n",
    "4. **Multi-Scale Analysis**: Analyze connectivity across different time windows\n",
    "\n",
    "## Output\n",
    "- Graph adjacency matrices for each connectivity measure\n",
    "- Node features representing EEG channel properties\n",
    "- Multi-band connectivity graphs for comprehensive analysis\n",
    "- Processed data ready for graph neural network training"
   ]
  },
  {
   "cell_type": "code",
   "execution_count": null,
   "metadata": {
    "collapsed": true,
    "execution": {
     "iopub.execute_input": "2024-04-25T20:27:04.842870Z",
     "iopub.status.busy": "2024-04-25T20:27:04.842475Z",
     "iopub.status.idle": "2024-04-25T20:32:00.843265Z",
     "shell.execute_reply": "2024-04-25T20:32:00.841440Z",
     "shell.execute_reply.started": "2024-04-25T20:27:04.842841Z"
    },
    "jupyter": {
     "outputs_hidden": true
    },
    "trusted": true
   },
   "outputs": [
    {
     "name": "stdout",
     "output_type": "stream",
     "text": [
      "Collecting EEGRAPH\n",
      "  Downloading EEGRAPH-0.1.17-py3-none-any.whl.metadata (6.6 kB)\n",
      "Collecting numpy==1.21.1 (from EEGRAPH)\n",
      "  Downloading numpy-1.21.1.zip (10.3 MB)\n",
      "\u001b[2K     \u001b[90m━━━━━━━━━━━━━━━━━━━━━━━━━━━━━━━━━━━━━━━━\u001b[0m \u001b[32m10.3/10.3 MB\u001b[0m \u001b[31m59.6 MB/s\u001b[0m eta \u001b[36m0:00:00\u001b[0m00:01\u001b[0m0:01\u001b[0m\n",
      "\u001b[?25h  Installing build dependencies ... \u001b[?25ldone\n",
      "\u001b[?25h  Getting requirements to build wheel ... \u001b[?25ldone\n",
      "\u001b[?25h  Preparing metadata (pyproject.toml) ... \u001b[?25ldone\n",
      "\u001b[?25hRequirement already satisfied: pandas>=1.1.5 in /opt/conda/lib/python3.10/site-packages (from EEGRAPH) (2.2.2)\n",
      "Collecting mne==1.2 (from EEGRAPH)\n",
      "  Downloading mne-1.2.0-py3-none-any.whl.metadata (8.3 kB)\n",
      "Requirement already satisfied: networkx>=2.5 in /opt/conda/lib/python3.10/site-packages (from EEGRAPH) (3.2.1)\n",
      "Requirement already satisfied: plotly>=4.14.3 in /opt/conda/lib/python3.10/site-packages (from EEGRAPH) (5.18.0)\n",
      "Requirement already satisfied: scipy>=1.1.0 in /opt/conda/lib/python3.10/site-packages (from EEGRAPH) (1.11.4)\n",
      "Collecting scot==0.2.1 (from EEGRAPH)\n",
      "  Downloading scot-0.2.1-py2.py3-none-any.whl.metadata (227 bytes)\n",
      "Collecting antropy>=0.1.4 (from EEGRAPH)\n",
      "  Downloading antropy-0.1.6.tar.gz (17 kB)\n",
      "  Installing build dependencies ... \u001b[?25ldone\n",
      "\u001b[?25h  Getting requirements to build wheel ... \u001b[?25ldone\n",
      "\u001b[?25h  Preparing metadata (pyproject.toml) ... \u001b[?25ldone\n",
      "\u001b[?25hCollecting kaleido==0.2.1 (from EEGRAPH)\n",
      "  Downloading kaleido-0.2.1-py2.py3-none-manylinux1_x86_64.whl.metadata (15 kB)\n",
      "Requirement already satisfied: matplotlib in /opt/conda/lib/python3.10/site-packages (from mne==1.2->EEGRAPH) (3.7.5)\n",
      "Requirement already satisfied: tqdm in /opt/conda/lib/python3.10/site-packages (from mne==1.2->EEGRAPH) (4.66.1)\n",
      "Requirement already satisfied: pooch>=1.5 in /opt/conda/lib/python3.10/site-packages (from mne==1.2->EEGRAPH) (1.8.1)\n",
      "Requirement already satisfied: decorator in /opt/conda/lib/python3.10/site-packages (from mne==1.2->EEGRAPH) (5.1.1)\n",
      "Requirement already satisfied: packaging in /opt/conda/lib/python3.10/site-packages (from mne==1.2->EEGRAPH) (21.3)\n",
      "Requirement already satisfied: jinja2 in /opt/conda/lib/python3.10/site-packages (from mne==1.2->EEGRAPH) (3.1.2)\n",
      "Requirement already satisfied: scikit-learn in /opt/conda/lib/python3.10/site-packages (from antropy>=0.1.4->EEGRAPH) (1.2.2)\n",
      "Requirement already satisfied: numba>=0.57 in /opt/conda/lib/python3.10/site-packages (from antropy>=0.1.4->EEGRAPH) (0.58.1)\n",
      "Collecting stochastic (from antropy>=0.1.4->EEGRAPH)\n",
      "  Downloading stochastic-0.7.0-py3-none-any.whl.metadata (6.1 kB)\n",
      "INFO: pip is looking at multiple versions of pandas to determine which version is compatible with other requirements. This could take a while.\n",
      "Collecting pandas>=1.1.5 (from EEGRAPH)\n",
      "  Downloading pandas-2.2.1-cp310-cp310-manylinux_2_17_x86_64.manylinux2014_x86_64.whl.metadata (19 kB)\n",
      "  Downloading pandas-2.2.0-cp310-cp310-manylinux_2_17_x86_64.manylinux2014_x86_64.whl.metadata (19 kB)\n",
      "  Downloading pandas-2.1.4-cp310-cp310-manylinux_2_17_x86_64.manylinux2014_x86_64.whl.metadata (18 kB)\n",
      "  Downloading pandas-2.1.3-cp310-cp310-manylinux_2_17_x86_64.manylinux2014_x86_64.whl.metadata (18 kB)\n",
      "  Downloading pandas-2.1.2-cp310-cp310-manylinux_2_17_x86_64.manylinux2014_x86_64.whl.metadata (18 kB)\n",
      "  Downloading pandas-2.1.1-cp310-cp310-manylinux_2_17_x86_64.manylinux2014_x86_64.whl.metadata (18 kB)\n",
      "  Downloading pandas-2.1.0-cp310-cp310-manylinux_2_17_x86_64.manylinux2014_x86_64.whl.metadata (18 kB)\n",
      "INFO: pip is still looking at multiple versions of pandas to determine which version is compatible with other requirements. This could take a while.\n",
      "  Downloading pandas-2.0.3-cp310-cp310-manylinux_2_17_x86_64.manylinux2014_x86_64.whl.metadata (18 kB)\n",
      "Requirement already satisfied: python-dateutil>=2.8.2 in /opt/conda/lib/python3.10/site-packages (from pandas>=1.1.5->EEGRAPH) (2.9.0.post0)\n",
      "Requirement already satisfied: pytz>=2020.1 in /opt/conda/lib/python3.10/site-packages (from pandas>=1.1.5->EEGRAPH) (2023.3.post1)\n",
      "Requirement already satisfied: tzdata>=2022.1 in /opt/conda/lib/python3.10/site-packages (from pandas>=1.1.5->EEGRAPH) (2023.4)\n",
      "Requirement already satisfied: tenacity>=6.2.0 in /opt/conda/lib/python3.10/site-packages (from plotly>=4.14.3->EEGRAPH) (8.2.3)\n",
      "INFO: pip is looking at multiple versions of scipy to determine which version is compatible with other requirements. This could take a while.\n",
      "Collecting scipy>=1.1.0 (from EEGRAPH)\n",
      "  Downloading scipy-1.13.0-cp310-cp310-manylinux_2_17_x86_64.manylinux2014_x86_64.whl.metadata (60 kB)\n",
      "\u001b[2K     \u001b[90m━━━━━━━━━━━━━━━━━━━━━━━━━━━━━━━━━━━━━━━━\u001b[0m \u001b[32m60.6/60.6 kB\u001b[0m \u001b[31m2.9 MB/s\u001b[0m eta \u001b[36m0:00:00\u001b[0m\n",
      "\u001b[?25h  Downloading scipy-1.12.0-cp310-cp310-manylinux_2_17_x86_64.manylinux2014_x86_64.whl.metadata (60 kB)\n",
      "\u001b[2K     \u001b[90m━━━━━━━━━━━━━━━━━━━━━━━━━━━━━━━━━━━━━━━━\u001b[0m \u001b[32m60.4/60.4 kB\u001b[0m \u001b[31m3.3 MB/s\u001b[0m eta \u001b[36m0:00:00\u001b[0m\n",
      "\u001b[?25h  Downloading scipy-1.11.3-cp310-cp310-manylinux_2_17_x86_64.manylinux2014_x86_64.whl.metadata (60 kB)\n",
      "\u001b[2K     \u001b[90m━━━━━━━━━━━━━━━━━━━━━━━━━━━━━━━━━━━━━━━━\u001b[0m \u001b[32m60.4/60.4 kB\u001b[0m \u001b[31m3.3 MB/s\u001b[0m eta \u001b[36m0:00:00\u001b[0m\n",
      "\u001b[?25h  Downloading scipy-1.11.2-cp310-cp310-manylinux_2_17_x86_64.manylinux2014_x86_64.whl.metadata (59 kB)\n",
      "\u001b[2K     \u001b[90m━━━━━━━━━━━━━━━━━━━━━━━━━━━━━━━━━━━━━━━━\u001b[0m \u001b[32m59.1/59.1 kB\u001b[0m \u001b[31m3.0 MB/s\u001b[0m eta \u001b[36m0:00:00\u001b[0m\n",
      "\u001b[?25h  Downloading scipy-1.11.1-cp310-cp310-manylinux_2_17_x86_64.manylinux2014_x86_64.whl.metadata (59 kB)\n",
      "\u001b[2K     \u001b[90m━━━━━━━━━━━━━━━━━━━━━━━━━━━━━━━━━━━━━━━━\u001b[0m \u001b[32m59.1/59.1 kB\u001b[0m \u001b[31m3.4 MB/s\u001b[0m eta \u001b[36m0:00:00\u001b[0m\n",
      "\u001b[?25h  Downloading scipy-1.10.1-cp310-cp310-manylinux_2_17_x86_64.manylinux2014_x86_64.whl.metadata (58 kB)\n",
      "\u001b[2K     \u001b[90m━━━━━━━━━━━━━━━━━━━━━━━━━━━━━━━━━━━━━━━━\u001b[0m \u001b[32m58.9/58.9 kB\u001b[0m \u001b[31m3.1 MB/s\u001b[0m eta \u001b[36m0:00:00\u001b[0m\n",
      "\u001b[?25hRequirement already satisfied: llvmlite<0.42,>=0.41.0dev0 in /opt/conda/lib/python3.10/site-packages (from numba>=0.57->antropy>=0.1.4->EEGRAPH) (0.41.1)\n",
      "INFO: pip is looking at multiple versions of numba to determine which version is compatible with other requirements. This could take a while.\n",
      "Collecting numba>=0.57 (from antropy>=0.1.4->EEGRAPH)\n",
      "  Downloading numba-0.59.1-cp310-cp310-manylinux2014_x86_64.manylinux_2_17_x86_64.whl.metadata (2.7 kB)\n",
      "Collecting llvmlite<0.43,>=0.42.0dev0 (from numba>=0.57->antropy>=0.1.4->EEGRAPH)\n",
      "  Downloading llvmlite-0.42.0-cp310-cp310-manylinux_2_17_x86_64.manylinux2014_x86_64.whl.metadata (4.8 kB)\n",
      "Collecting numba>=0.57 (from antropy>=0.1.4->EEGRAPH)\n",
      "  Downloading numba-0.59.0-cp310-cp310-manylinux2014_x86_64.manylinux_2_17_x86_64.whl.metadata (2.7 kB)\n",
      "  Downloading numba-0.58.0-cp310-cp310-manylinux2014_x86_64.manylinux_2_17_x86_64.whl.metadata (2.7 kB)\n",
      "Requirement already satisfied: platformdirs>=2.5.0 in /opt/conda/lib/python3.10/site-packages (from pooch>=1.5->mne==1.2->EEGRAPH) (4.2.0)\n",
      "Requirement already satisfied: requests>=2.19.0 in /opt/conda/lib/python3.10/site-packages (from pooch>=1.5->mne==1.2->EEGRAPH) (2.31.0)\n",
      "Requirement already satisfied: pyparsing!=3.0.5,>=2.0.2 in /opt/conda/lib/python3.10/site-packages (from packaging->mne==1.2->EEGRAPH) (3.1.1)\n",
      "Requirement already satisfied: six>=1.5 in /opt/conda/lib/python3.10/site-packages (from python-dateutil>=2.8.2->pandas>=1.1.5->EEGRAPH) (1.16.0)\n",
      "Requirement already satisfied: MarkupSafe>=2.0 in /opt/conda/lib/python3.10/site-packages (from jinja2->mne==1.2->EEGRAPH) (2.1.3)\n",
      "Requirement already satisfied: contourpy>=1.0.1 in /opt/conda/lib/python3.10/site-packages (from matplotlib->mne==1.2->EEGRAPH) (1.2.0)\n",
      "Requirement already satisfied: cycler>=0.10 in /opt/conda/lib/python3.10/site-packages (from matplotlib->mne==1.2->EEGRAPH) (0.12.1)\n",
      "Requirement already satisfied: fonttools>=4.22.0 in /opt/conda/lib/python3.10/site-packages (from matplotlib->mne==1.2->EEGRAPH) (4.47.0)\n",
      "Requirement already satisfied: kiwisolver>=1.0.1 in /opt/conda/lib/python3.10/site-packages (from matplotlib->mne==1.2->EEGRAPH) (1.4.5)\n",
      "Requirement already satisfied: pillow>=6.2.0 in /opt/conda/lib/python3.10/site-packages (from matplotlib->mne==1.2->EEGRAPH) (9.5.0)\n",
      "Requirement already satisfied: joblib>=1.1.1 in /opt/conda/lib/python3.10/site-packages (from scikit-learn->antropy>=0.1.4->EEGRAPH) (1.4.0)\n",
      "Requirement already satisfied: threadpoolctl>=2.0.0 in /opt/conda/lib/python3.10/site-packages (from scikit-learn->antropy>=0.1.4->EEGRAPH) (3.2.0)\n",
      "Requirement already satisfied: charset-normalizer<4,>=2 in /opt/conda/lib/python3.10/site-packages (from requests>=2.19.0->pooch>=1.5->mne==1.2->EEGRAPH) (3.3.2)\n",
      "Requirement already satisfied: idna<4,>=2.5 in /opt/conda/lib/python3.10/site-packages (from requests>=2.19.0->pooch>=1.5->mne==1.2->EEGRAPH) (3.6)\n",
      "Requirement already satisfied: urllib3<3,>=1.21.1 in /opt/conda/lib/python3.10/site-packages (from requests>=2.19.0->pooch>=1.5->mne==1.2->EEGRAPH) (1.26.18)\n",
      "Requirement already satisfied: certifi>=2017.4.17 in /opt/conda/lib/python3.10/site-packages (from requests>=2.19.0->pooch>=1.5->mne==1.2->EEGRAPH) (2024.2.2)\n",
      "Downloading EEGRAPH-0.1.17-py3-none-any.whl (29 kB)\n",
      "Downloading kaleido-0.2.1-py2.py3-none-manylinux1_x86_64.whl (79.9 MB)\n",
      "\u001b[2K   \u001b[90m━━━━━━━━━━━━━━━━━━━━━━━━━━━━━━━━━━━━━━━━\u001b[0m \u001b[32m79.9/79.9 MB\u001b[0m \u001b[31m14.7 MB/s\u001b[0m eta \u001b[36m0:00:00\u001b[0m:00:01\u001b[0m00:01\u001b[0m\n",
      "\u001b[?25hDownloading mne-1.2.0-py3-none-any.whl (7.6 MB)\n",
      "\u001b[2K   \u001b[90m━━━━━━━━━━━━━━━━━━━━━━━━━━━━━━━━━━━━━━━━\u001b[0m \u001b[32m7.6/7.6 MB\u001b[0m \u001b[31m26.9 MB/s\u001b[0m eta \u001b[36m0:00:00\u001b[0m00:01\u001b[0m00:01\u001b[0mm\n",
      "\u001b[?25hDownloading scot-0.2.1-py2.py3-none-any.whl (57 kB)\n",
      "\u001b[2K   \u001b[90m━━━━━━━━━━━━━━━━━━━━━━━━━━━━━━━━━━━━━━━━\u001b[0m \u001b[32m57.7/57.7 kB\u001b[0m \u001b[31m3.2 MB/s\u001b[0m eta \u001b[36m0:00:00\u001b[0m\n",
      "\u001b[?25hDownloading pandas-2.0.3-cp310-cp310-manylinux_2_17_x86_64.manylinux2014_x86_64.whl (12.3 MB)\n",
      "\u001b[2K   \u001b[90m━━━━━━━━━━━━━━━━━━━━━━━━━━━━━━━━━━━━━━━━\u001b[0m \u001b[32m12.3/12.3 MB\u001b[0m \u001b[31m82.8 MB/s\u001b[0m eta \u001b[36m0:00:00\u001b[0m:00:01\u001b[0m00:01\u001b[0m\n",
      "\u001b[?25hDownloading scipy-1.10.1-cp310-cp310-manylinux_2_17_x86_64.manylinux2014_x86_64.whl (34.4 MB)\n",
      "\u001b[2K   \u001b[90m━━━━━━━━━━━━━━━━━━━━━━━━━━━━━━━━━━━━━━━━\u001b[0m \u001b[32m34.4/34.4 MB\u001b[0m \u001b[31m32.2 MB/s\u001b[0m eta \u001b[36m0:00:00\u001b[0m00:01\u001b[0mm00:01\u001b[0m\n",
      "\u001b[?25hDownloading numba-0.58.0-cp310-cp310-manylinux2014_x86_64.manylinux_2_17_x86_64.whl (3.6 MB)\n",
      "\u001b[2K   \u001b[90m━━━━━━━━━━━━━━━━━━━━━━━━━━━━━━━━━━━━━━━━\u001b[0m \u001b[32m3.6/3.6 MB\u001b[0m \u001b[31m81.0 MB/s\u001b[0m eta \u001b[36m0:00:00\u001b[0m:00:01\u001b[0m\n",
      "\u001b[?25hDownloading stochastic-0.7.0-py3-none-any.whl (48 kB)\n",
      "\u001b[2K   \u001b[90m━━━━━━━━━━━━━━━━━━━━━━━━━━━━━━━━━━━━━━━━\u001b[0m \u001b[32m48.1/48.1 kB\u001b[0m \u001b[31m2.6 MB/s\u001b[0m eta \u001b[36m0:00:00\u001b[0m\n",
      "\u001b[?25hBuilding wheels for collected packages: numpy, antropy\n",
      "  Building wheel for numpy (pyproject.toml) ... \u001b[?25ldone\n",
      "\u001b[?25h  Created wheel for numpy: filename=numpy-1.21.1-cp310-cp310-linux_x86_64.whl size=5312710 sha256=d58b4ac7d94e4e871ccb57ded61eee66536912de3a6241a565d6bea4e8a6e5ed\n",
      "  Stored in directory: /root/.cache/pip/wheels/cb/e9/ed/e7414af0de3ab84a43ebb26ea501fc425a1cecb1c2796e1eb6\n",
      "  Building wheel for antropy (pyproject.toml) ... \u001b[?25ldone\n",
      "\u001b[?25h  Created wheel for antropy: filename=antropy-0.1.6-py3-none-any.whl size=16879 sha256=a707cf2397fc4eb1baf0bfb86971c72f7ea6c4f172977b460c93aa7c44f1313e\n",
      "  Stored in directory: /root/.cache/pip/wheels/98/22/06/e91d7bb213c7133d5e2eb34258623e1e19928d5f05e1ee6812\n",
      "Successfully built numpy antropy\n",
      "Installing collected packages: scot, kaleido, numpy, scipy, pandas, numba, stochastic, mne, antropy, EEGRAPH\n",
      "  Attempting uninstall: numpy\n",
      "    Found existing installation: numpy 1.26.4\n",
      "    Uninstalling numpy-1.26.4:\n",
      "      Successfully uninstalled numpy-1.26.4\n",
      "  Attempting uninstall: scipy\n",
      "    Found existing installation: scipy 1.11.4\n",
      "    Uninstalling scipy-1.11.4:\n",
      "      Successfully uninstalled scipy-1.11.4\n",
      "  Attempting uninstall: pandas\n",
      "    Found existing installation: pandas 2.2.2\n",
      "    Uninstalling pandas-2.2.2:\n",
      "      Successfully uninstalled pandas-2.2.2\n",
      "  Attempting uninstall: numba\n",
      "    Found existing installation: numba 0.58.1\n",
      "    Uninstalling numba-0.58.1:\n",
      "      Successfully uninstalled numba-0.58.1\n",
      "  Attempting uninstall: mne\n",
      "    Found existing installation: mne 1.6.1\n",
      "    Uninstalling mne-1.6.1:\n",
      "      Successfully uninstalled mne-1.6.1\n",
      "\u001b[31mERROR: pip's dependency resolver does not currently take into account all the packages that are installed. This behaviour is the source of the following dependency conflicts.\n",
      "keras-nlp 0.9.3 requires keras-core, which is not installed.\n",
      "tensorflow-decision-forests 1.8.1 requires wurlitzer, which is not installed.\n",
      "albumentations 1.4.0 requires numpy>=1.24.4, but you have numpy 1.21.1 which is incompatible.\n",
      "apache-beam 2.46.0 requires dill<0.3.2,>=0.3.1.1, but you have dill 0.3.8 which is incompatible.\n",
      "apache-beam 2.46.0 requires pyarrow<10.0.0,>=3.0.0, but you have pyarrow 15.0.2 which is incompatible.\n",
      "arviz 0.18.0 requires numpy<2.0,>=1.23.0, but you have numpy 1.21.1 which is incompatible.\n",
      "astropy 6.0.1 requires numpy<2,>=1.22, but you have numpy 1.21.1 which is incompatible.\n",
      "beatrix-jupyterlab 2023.128.151533 requires jupyterlab~=3.6.0, but you have jupyterlab 4.1.6 which is incompatible.\n",
      "chex 0.1.86 requires numpy>=1.24.1, but you have numpy 1.21.1 which is incompatible.\n",
      "dipy 1.9.0 requires numpy>=1.22.4, but you have numpy 1.21.1 which is incompatible.\n",
      "featuretools 1.30.0 requires numpy>=1.25.0, but you have numpy 1.21.1 which is incompatible.\n",
      "flax 0.8.2 requires numpy>=1.22, but you have numpy 1.21.1 which is incompatible.\n",
      "inequality 1.0.1 requires numpy>=1.23, but you have numpy 1.21.1 which is incompatible.\n",
      "jax 0.4.26 requires numpy>=1.22, but you have numpy 1.21.1 which is incompatible.\n",
      "jaxlib 0.4.26 requires numpy>=1.22, but you have numpy 1.21.1 which is incompatible.\n",
      "kaggle-environments 1.14.3 requires scipy>=1.11.2, but you have scipy 1.10.1 which is incompatible.\n",
      "libpysal 4.9.2 requires numpy>=1.22, but you have numpy 1.21.1 which is incompatible.\n",
      "libpysal 4.9.2 requires packaging>=22, but you have packaging 21.3 which is incompatible.\n",
      "libpysal 4.9.2 requires shapely>=2.0.1, but you have shapely 1.8.5.post1 which is incompatible.\n",
      "mapclassify 2.6.1 requires numpy>=1.23, but you have numpy 1.21.1 which is incompatible.\n",
      "mizani 0.11.1 requires numpy>=1.23.0, but you have numpy 1.21.1 which is incompatible.\n",
      "mizani 0.11.1 requires pandas>=2.1.0, but you have pandas 2.0.3 which is incompatible.\n",
      "ml-dtypes 0.2.0 requires numpy>=1.21.2; python_version > \"3.9\", but you have numpy 1.21.1 which is incompatible.\n",
      "momepy 0.7.0 requires shapely>=2, but you have shapely 1.8.5.post1 which is incompatible.\n",
      "opencv-contrib-python 4.9.0.80 requires numpy>=1.21.2; python_version >= \"3.10\", but you have numpy 1.21.1 which is incompatible.\n",
      "opencv-python 4.9.0.80 requires numpy>=1.21.2; python_version >= \"3.10\", but you have numpy 1.21.1 which is incompatible.\n",
      "opencv-python-headless 4.9.0.80 requires numpy>=1.21.2; python_version >= \"3.10\", but you have numpy 1.21.1 which is incompatible.\n",
      "osmnx 1.9.2 requires shapely>=2.0, but you have shapely 1.8.5.post1 which is incompatible.\n",
      "plotnine 0.13.4 requires numpy>=1.23.0, but you have numpy 1.21.1 which is incompatible.\n",
      "plotnine 0.13.4 requires pandas<3.0.0,>=2.1.0, but you have pandas 2.0.3 which is incompatible.\n",
      "pyldavis 3.4.1 requires numpy>=1.24.2, but you have numpy 1.21.1 which is incompatible.\n",
      "pywavelets 1.5.0 requires numpy<2.0,>=1.22.4, but you have numpy 1.21.1 which is incompatible.\n",
      "scikit-image 0.22.0 requires numpy>=1.22, but you have numpy 1.21.1 which is incompatible.\n",
      "spaghetti 1.7.5.post1 requires numpy>=1.22, but you have numpy 1.21.1 which is incompatible.\n",
      "spglm 1.1.0 requires numpy>=1.23, but you have numpy 1.21.1 which is incompatible.\n",
      "spopt 0.6.0 requires numpy>=1.22, but you have numpy 1.21.1 which is incompatible.\n",
      "spopt 0.6.0 requires shapely>=2.0.1, but you have shapely 1.8.5.post1 which is incompatible.\n",
      "spreg 1.4.2 requires numpy>=1.23, but you have numpy 1.21.1 which is incompatible.\n",
      "tensorflow 2.15.0 requires keras<2.16,>=2.15.0, but you have keras 3.2.1 which is incompatible.\n",
      "tensorflow 2.15.0 requires numpy<2.0.0,>=1.23.5, but you have numpy 1.21.1 which is incompatible.\n",
      "tensorstore 0.1.56 requires ml-dtypes>=0.3.1, but you have ml-dtypes 0.2.0 which is incompatible.\n",
      "trx-python 0.2.9 requires numpy>=1.22, but you have numpy 1.21.1 which is incompatible.\n",
      "woodwork 0.30.0 requires numpy>=1.25.0, but you have numpy 1.21.1 which is incompatible.\n",
      "xarray 2024.3.0 requires numpy>=1.23, but you have numpy 1.21.1 which is incompatible.\n",
      "xarray 2024.3.0 requires packaging>=22, but you have packaging 21.3 which is incompatible.\n",
      "xarray-einstats 0.7.0 requires numpy>=1.22, but you have numpy 1.21.1 which is incompatible.\u001b[0m\u001b[31m\n",
      "\u001b[0mSuccessfully installed EEGRAPH-0.1.17 antropy-0.1.6 kaleido-0.2.1 mne-1.2.0 numba-0.58.0 numpy-1.21.1 pandas-2.0.3 scipy-1.10.1 scot-0.2.1 stochastic-0.7.0\n",
      "Collecting EDFlib-Python\n",
      "  Downloading EDFlib_Python-1.0.8-py3-none-any.whl.metadata (1.3 kB)\n",
      "Requirement already satisfied: numpy>=1.17 in /opt/conda/lib/python3.10/site-packages (from EDFlib-Python) (1.21.1)\n",
      "Downloading EDFlib_Python-1.0.8-py3-none-any.whl (26 kB)\n",
      "Installing collected packages: EDFlib-Python\n",
      "Successfully installed EDFlib-Python-1.0.8\n"
     ]
    }
   ],
   "source": [
    "# Install required packages for EEG graph analysis\n",
    "!pip install EEGRAPH\n",
    "!pip install EDFlib-Python"
   ]
  },
  {
   "cell_type": "code",
   "execution_count": null,
   "metadata": {
    "_cell_guid": "b1076dfc-b9ad-4769-8c92-a6c4dae69d19",
    "_uuid": "8f2839f25d086af736a60e9eeb907d3b93b6e0e5",
    "execution": {
     "iopub.execute_input": "2024-04-25T20:42:38.311451Z",
     "iopub.status.busy": "2024-04-25T20:42:38.311012Z",
     "iopub.status.idle": "2024-04-25T20:42:38.316973Z",
     "shell.execute_reply": "2024-04-25T20:42:38.315871Z",
     "shell.execute_reply.started": "2024-04-25T20:42:38.311414Z"
    },
    "trusted": true
   },
   "outputs": [],
   "source": [
    "# Import required libraries\n",
    "import numpy as np\n",
    "import pandas as pd\n",
    "import eegraph\n",
    "import os\n",
    "from mne.io import read_raw_eeglab"
   ]
  },
  {
   "cell_type": "code",
   "execution_count": null,
   "metadata": {
    "execution": {
     "iopub.execute_input": "2024-04-25T23:51:05.108300Z",
     "iopub.status.busy": "2024-04-25T23:51:05.107874Z",
     "iopub.status.idle": "2024-04-25T23:51:05.117682Z",
     "shell.execute_reply": "2024-04-25T23:51:05.116625Z",
     "shell.execute_reply.started": "2024-04-25T23:51:05.108272Z"
    },
    "trusted": true
   },
   "outputs": [],
   "source": [
    "def create_folder(folder_name):\n",
    "    \"\"\"Create a folder if it doesn't exist.\"\"\"\n",
    "    os.makedirs(folder_name, exist_ok=True)\n",
    "\n",
    "def run_analyses(file_path, window):\n",
    "    \"\"\"\n",
    "    Run comprehensive connectivity analysis using EEGRAPH.\n",
    "    \n",
    "    Args:\n",
    "        file_path (str): Path to EEG data file\n",
    "        window (int): Window size for analysis\n",
    "    \n",
    "    Returns:\n",
    "        tuple: Results from different connectivity measures\n",
    "    \"\"\"\n",
    "    # Initialize EEGRAPH\n",
    "    G = eegraph.Graph()\n",
    "    G.load_data(path=file_path)\n",
    "    \n",
    "    print(f\"Analyzing file: {file_path} with window size: {window}\")\n",
    "    \n",
    "    # 1. Pearson Correlation\n",
    "    print(\"  Computing Pearson correlation...\")\n",
    "    _, output1 = G.modelate(window_size=window, connectivity='pearson_correlation')\n",
    "    \n",
    "    # 2. Squared Coherence across frequency bands\n",
    "    print(\"  Computing squared coherence...\")\n",
    "    freq_bands = ['delta', 'theta', 'alpha', 'beta', 'gamma']\n",
    "    _, output2 = G.modelate(\n",
    "        window_size=window, \n",
    "        connectivity='squared_coherence', \n",
    "        bands=freq_bands\n",
    "    )\n",
    "    \n",
    "    # 3. Cross-Correlation\n",
    "    print(\"  Computing cross-correlation...\")\n",
    "    _, output4 = G.modelate(window_size=window, connectivity='cross_correlation')\n",
    "    \n",
    "    # 4. Weighted Phase Lag Index (wPLI)\n",
    "    print(\"  Computing wPLI...\")\n",
    "    _, output6 = G.modelate(\n",
    "        window_size=window, \n",
    "        connectivity='wpli', \n",
    "        bands=freq_bands\n",
    "    )\n",
    "    \n",
    "    # 5. Shannon Entropy\n",
    "    print(\"  Computing Shannon entropy...\")\n",
    "    _, output8 = G.modelate(window_size=window, connectivity='shannon_entropy')\n",
    "    \n",
    "    print(\"  All connectivity measures completed!\")\n",
    "    \n",
    "    return output1, output2, output4, output6, output8"
   ]
  },
  {
   "cell_type": "code",
   "execution_count": null,
   "metadata": {
    "execution": {
     "iopub.execute_input": "2024-04-25T20:49:29.749391Z",
     "iopub.status.busy": "2024-04-25T20:49:29.748694Z",
     "iopub.status.idle": "2024-04-25T20:59:11.297976Z",
     "shell.execute_reply": "2024-04-25T20:59:11.296530Z",
     "shell.execute_reply.started": "2024-04-25T20:49:29.749339Z"
    },
    "trusted": true
   },
   "outputs": [
    {
     "name": "stderr",
     "output_type": "stream",
     "text": [
      "/tmp/ipykernel_33/395673528.py:16: RuntimeWarning: Data will be preloaded. preload=False or a string preload is not supported when the data is stored in the .set file\n",
      "  raw = read_raw_eeglab(file_path)\n",
      "/tmp/ipykernel_33/395673528.py:22: RuntimeWarning: EDF format requires equal-length data blocks, so 0.2 seconds of zeros were appended to all channels when writing the final block.\n",
      "  raw.export(output_file,overwrite=True)\n",
      "/tmp/ipykernel_33/395673528.py:16: RuntimeWarning: Data will be preloaded. preload=False or a string preload is not supported when the data is stored in the .set file\n",
      "  raw = read_raw_eeglab(file_path)\n"
     ]
    },
    {
     "name": "stdout",
     "output_type": "stream",
     "text": [
      "Exported subject 001 to /kaggle/working/edf_files/subject_001.edf\n"
     ]
    },
    {
     "name": "stderr",
     "output_type": "stream",
     "text": [
      "/tmp/ipykernel_33/395673528.py:22: RuntimeWarning: EDF format requires equal-length data blocks, so 0.9 seconds of zeros were appended to all channels when writing the final block.\n",
      "  raw.export(output_file,overwrite=True)\n",
      "/tmp/ipykernel_33/395673528.py:16: RuntimeWarning: Data will be preloaded. preload=False or a string preload is not supported when the data is stored in the .set file\n",
      "  raw = read_raw_eeglab(file_path)\n",
      "/tmp/ipykernel_33/395673528.py:16: RuntimeWarning: The data contains 'boundary' events, indicating data discontinuities. Be cautious of filtering and epoching around these events.\n",
      "  raw = read_raw_eeglab(file_path)\n"
     ]
    },
    {
     "name": "stdout",
     "output_type": "stream",
     "text": [
      "Exported subject 002 to /kaggle/working/edf_files/subject_002.edf\n"
     ]
    },
    {
     "name": "stderr",
     "output_type": "stream",
     "text": [
      "/tmp/ipykernel_33/395673528.py:22: RuntimeWarning: EDF format requires equal-length data blocks, so 0.9 seconds of zeros were appended to all channels when writing the final block.\n",
      "  raw.export(output_file,overwrite=True)\n",
      "/tmp/ipykernel_33/395673528.py:16: RuntimeWarning: Data will be preloaded. preload=False or a string preload is not supported when the data is stored in the .set file\n",
      "  raw = read_raw_eeglab(file_path)\n",
      "/tmp/ipykernel_33/395673528.py:16: RuntimeWarning: The data contains 'boundary' events, indicating data discontinuities. Be cautious of filtering and epoching around these events.\n",
      "  raw = read_raw_eeglab(file_path)\n"
     ]
    },
    {
     "name": "stdout",
     "output_type": "stream",
     "text": [
      "Exported subject 003 to /kaggle/working/edf_files/subject_003.edf\n"
     ]
    },
    {
     "name": "stderr",
     "output_type": "stream",
     "text": [
      "/tmp/ipykernel_33/395673528.py:22: RuntimeWarning: EDF format requires equal-length data blocks, so 0.9 seconds of zeros were appended to all channels when writing the final block.\n",
      "  raw.export(output_file,overwrite=True)\n",
      "/tmp/ipykernel_33/395673528.py:16: RuntimeWarning: Data will be preloaded. preload=False or a string preload is not supported when the data is stored in the .set file\n",
      "  raw = read_raw_eeglab(file_path)\n"
     ]
    },
    {
     "name": "stdout",
     "output_type": "stream",
     "text": [
      "Exported subject 004 to /kaggle/working/edf_files/subject_004.edf\n"
     ]
    },
    {
     "name": "stderr",
     "output_type": "stream",
     "text": [
      "/tmp/ipykernel_33/395673528.py:22: RuntimeWarning: EDF format requires equal-length data blocks, so 0.9 seconds of zeros were appended to all channels when writing the final block.\n",
      "  raw.export(output_file,overwrite=True)\n",
      "/tmp/ipykernel_33/395673528.py:16: RuntimeWarning: Data will be preloaded. preload=False or a string preload is not supported when the data is stored in the .set file\n",
      "  raw = read_raw_eeglab(file_path)\n",
      "/tmp/ipykernel_33/395673528.py:16: RuntimeWarning: The data contains 'boundary' events, indicating data discontinuities. Be cautious of filtering and epoching around these events.\n",
      "  raw = read_raw_eeglab(file_path)\n"
     ]
    },
    {
     "name": "stdout",
     "output_type": "stream",
     "text": [
      "Exported subject 005 to /kaggle/working/edf_files/subject_005.edf\n"
     ]
    },
    {
     "name": "stderr",
     "output_type": "stream",
     "text": [
      "/tmp/ipykernel_33/395673528.py:22: RuntimeWarning: EDF format requires equal-length data blocks, so 0.6 seconds of zeros were appended to all channels when writing the final block.\n",
      "  raw.export(output_file,overwrite=True)\n",
      "/tmp/ipykernel_33/395673528.py:16: RuntimeWarning: Data will be preloaded. preload=False or a string preload is not supported when the data is stored in the .set file\n",
      "  raw = read_raw_eeglab(file_path)\n",
      "/tmp/ipykernel_33/395673528.py:16: RuntimeWarning: The data contains 'boundary' events, indicating data discontinuities. Be cautious of filtering and epoching around these events.\n",
      "  raw = read_raw_eeglab(file_path)\n"
     ]
    },
    {
     "name": "stdout",
     "output_type": "stream",
     "text": [
      "Exported subject 006 to /kaggle/working/edf_files/subject_006.edf\n"
     ]
    },
    {
     "name": "stderr",
     "output_type": "stream",
     "text": [
      "/tmp/ipykernel_33/395673528.py:22: RuntimeWarning: EDF format requires equal-length data blocks, so 0.58 seconds of zeros were appended to all channels when writing the final block.\n",
      "  raw.export(output_file,overwrite=True)\n",
      "/tmp/ipykernel_33/395673528.py:16: RuntimeWarning: Data will be preloaded. preload=False or a string preload is not supported when the data is stored in the .set file\n",
      "  raw = read_raw_eeglab(file_path)\n",
      "/tmp/ipykernel_33/395673528.py:16: RuntimeWarning: The data contains 'boundary' events, indicating data discontinuities. Be cautious of filtering and epoching around these events.\n",
      "  raw = read_raw_eeglab(file_path)\n"
     ]
    },
    {
     "name": "stdout",
     "output_type": "stream",
     "text": [
      "Exported subject 007 to /kaggle/working/edf_files/subject_007.edf\n"
     ]
    },
    {
     "name": "stderr",
     "output_type": "stream",
     "text": [
      "/tmp/ipykernel_33/395673528.py:22: RuntimeWarning: EDF format requires equal-length data blocks, so 0.6 seconds of zeros were appended to all channels when writing the final block.\n",
      "  raw.export(output_file,overwrite=True)\n",
      "/tmp/ipykernel_33/395673528.py:16: RuntimeWarning: Data will be preloaded. preload=False or a string preload is not supported when the data is stored in the .set file\n",
      "  raw = read_raw_eeglab(file_path)\n",
      "/tmp/ipykernel_33/395673528.py:16: RuntimeWarning: The data contains 'boundary' events, indicating data discontinuities. Be cautious of filtering and epoching around these events.\n",
      "  raw = read_raw_eeglab(file_path)\n"
     ]
    },
    {
     "name": "stdout",
     "output_type": "stream",
     "text": [
      "Exported subject 008 to /kaggle/working/edf_files/subject_008.edf\n"
     ]
    },
    {
     "name": "stderr",
     "output_type": "stream",
     "text": [
      "/tmp/ipykernel_33/395673528.py:22: RuntimeWarning: EDF format requires equal-length data blocks, so 0.4 seconds of zeros were appended to all channels when writing the final block.\n",
      "  raw.export(output_file,overwrite=True)\n",
      "/tmp/ipykernel_33/395673528.py:16: RuntimeWarning: Data will be preloaded. preload=False or a string preload is not supported when the data is stored in the .set file\n",
      "  raw = read_raw_eeglab(file_path)\n"
     ]
    },
    {
     "name": "stdout",
     "output_type": "stream",
     "text": [
      "Exported subject 009 to /kaggle/working/edf_files/subject_009.edf\n"
     ]
    },
    {
     "name": "stderr",
     "output_type": "stream",
     "text": [
      "/tmp/ipykernel_33/395673528.py:16: RuntimeWarning: The data contains 'boundary' events, indicating data discontinuities. Be cautious of filtering and epoching around these events.\n",
      "  raw = read_raw_eeglab(file_path)\n",
      "/tmp/ipykernel_33/395673528.py:22: RuntimeWarning: EDF format requires equal-length data blocks, so 0.28 seconds of zeros were appended to all channels when writing the final block.\n",
      "  raw.export(output_file,overwrite=True)\n",
      "/tmp/ipykernel_33/395673528.py:16: RuntimeWarning: Data will be preloaded. preload=False or a string preload is not supported when the data is stored in the .set file\n",
      "  raw = read_raw_eeglab(file_path)\n",
      "/tmp/ipykernel_33/395673528.py:16: RuntimeWarning: The data contains 'boundary' events, indicating data discontinuities. Be cautious of filtering and epoching around these events.\n",
      "  raw = read_raw_eeglab(file_path)\n"
     ]
    },
    {
     "name": "stdout",
     "output_type": "stream",
     "text": [
      "Exported subject 010 to /kaggle/working/edf_files/subject_010.edf\n"
     ]
    },
    {
     "name": "stderr",
     "output_type": "stream",
     "text": [
      "/tmp/ipykernel_33/395673528.py:22: RuntimeWarning: EDF format requires equal-length data blocks, so 0.08 seconds of zeros were appended to all channels when writing the final block.\n",
      "  raw.export(output_file,overwrite=True)\n",
      "/tmp/ipykernel_33/395673528.py:16: RuntimeWarning: Data will be preloaded. preload=False or a string preload is not supported when the data is stored in the .set file\n",
      "  raw = read_raw_eeglab(file_path)\n",
      "/tmp/ipykernel_33/395673528.py:16: RuntimeWarning: The data contains 'boundary' events, indicating data discontinuities. Be cautious of filtering and epoching around these events.\n",
      "  raw = read_raw_eeglab(file_path)\n"
     ]
    },
    {
     "name": "stdout",
     "output_type": "stream",
     "text": [
      "Exported subject 011 to /kaggle/working/edf_files/subject_011.edf\n"
     ]
    },
    {
     "name": "stderr",
     "output_type": "stream",
     "text": [
      "/tmp/ipykernel_33/395673528.py:22: RuntimeWarning: EDF format requires equal-length data blocks, so 0.48 seconds of zeros were appended to all channels when writing the final block.\n",
      "  raw.export(output_file,overwrite=True)\n",
      "/tmp/ipykernel_33/395673528.py:16: RuntimeWarning: Data will be preloaded. preload=False or a string preload is not supported when the data is stored in the .set file\n",
      "  raw = read_raw_eeglab(file_path)\n",
      "/tmp/ipykernel_33/395673528.py:16: RuntimeWarning: The data contains 'boundary' events, indicating data discontinuities. Be cautious of filtering and epoching around these events.\n",
      "  raw = read_raw_eeglab(file_path)\n"
     ]
    },
    {
     "name": "stdout",
     "output_type": "stream",
     "text": [
      "Exported subject 012 to /kaggle/working/edf_files/subject_012.edf\n"
     ]
    },
    {
     "name": "stderr",
     "output_type": "stream",
     "text": [
      "/tmp/ipykernel_33/395673528.py:22: RuntimeWarning: EDF format requires equal-length data blocks, so 0.9 seconds of zeros were appended to all channels when writing the final block.\n",
      "  raw.export(output_file,overwrite=True)\n",
      "/tmp/ipykernel_33/395673528.py:16: RuntimeWarning: Data will be preloaded. preload=False or a string preload is not supported when the data is stored in the .set file\n",
      "  raw = read_raw_eeglab(file_path)\n"
     ]
    },
    {
     "name": "stdout",
     "output_type": "stream",
     "text": [
      "Exported subject 013 to /kaggle/working/edf_files/subject_013.edf\n"
     ]
    },
    {
     "name": "stderr",
     "output_type": "stream",
     "text": [
      "/tmp/ipykernel_33/395673528.py:16: RuntimeWarning: The data contains 'boundary' events, indicating data discontinuities. Be cautious of filtering and epoching around these events.\n",
      "  raw = read_raw_eeglab(file_path)\n",
      "/tmp/ipykernel_33/395673528.py:22: RuntimeWarning: EDF format requires equal-length data blocks, so 0.56 seconds of zeros were appended to all channels when writing the final block.\n",
      "  raw.export(output_file,overwrite=True)\n",
      "/tmp/ipykernel_33/395673528.py:16: RuntimeWarning: Data will be preloaded. preload=False or a string preload is not supported when the data is stored in the .set file\n",
      "  raw = read_raw_eeglab(file_path)\n",
      "/tmp/ipykernel_33/395673528.py:16: RuntimeWarning: The data contains 'boundary' events, indicating data discontinuities. Be cautious of filtering and epoching around these events.\n",
      "  raw = read_raw_eeglab(file_path)\n"
     ]
    },
    {
     "name": "stdout",
     "output_type": "stream",
     "text": [
      "Exported subject 014 to /kaggle/working/edf_files/subject_014.edf\n"
     ]
    },
    {
     "name": "stderr",
     "output_type": "stream",
     "text": [
      "/tmp/ipykernel_33/395673528.py:22: RuntimeWarning: EDF format requires equal-length data blocks, so 0.62 seconds of zeros were appended to all channels when writing the final block.\n",
      "  raw.export(output_file,overwrite=True)\n",
      "/tmp/ipykernel_33/395673528.py:16: RuntimeWarning: Data will be preloaded. preload=False or a string preload is not supported when the data is stored in the .set file\n",
      "  raw = read_raw_eeglab(file_path)\n",
      "/tmp/ipykernel_33/395673528.py:16: RuntimeWarning: The data contains 'boundary' events, indicating data discontinuities. Be cautious of filtering and epoching around these events.\n",
      "  raw = read_raw_eeglab(file_path)\n"
     ]
    },
    {
     "name": "stdout",
     "output_type": "stream",
     "text": [
      "Exported subject 015 to /kaggle/working/edf_files/subject_015.edf\n"
     ]
    },
    {
     "name": "stderr",
     "output_type": "stream",
     "text": [
      "/tmp/ipykernel_33/395673528.py:22: RuntimeWarning: EDF format requires equal-length data blocks, so 0.64 seconds of zeros were appended to all channels when writing the final block.\n",
      "  raw.export(output_file,overwrite=True)\n",
      "/tmp/ipykernel_33/395673528.py:16: RuntimeWarning: Data will be preloaded. preload=False or a string preload is not supported when the data is stored in the .set file\n",
      "  raw = read_raw_eeglab(file_path)\n",
      "/tmp/ipykernel_33/395673528.py:16: RuntimeWarning: The data contains 'boundary' events, indicating data discontinuities. Be cautious of filtering and epoching around these events.\n",
      "  raw = read_raw_eeglab(file_path)\n"
     ]
    },
    {
     "name": "stdout",
     "output_type": "stream",
     "text": [
      "Exported subject 016 to /kaggle/working/edf_files/subject_016.edf\n"
     ]
    },
    {
     "name": "stderr",
     "output_type": "stream",
     "text": [
      "/tmp/ipykernel_33/395673528.py:22: RuntimeWarning: EDF format requires equal-length data blocks, so 0.6 seconds of zeros were appended to all channels when writing the final block.\n",
      "  raw.export(output_file,overwrite=True)\n",
      "/tmp/ipykernel_33/395673528.py:16: RuntimeWarning: Data will be preloaded. preload=False or a string preload is not supported when the data is stored in the .set file\n",
      "  raw = read_raw_eeglab(file_path)\n",
      "/tmp/ipykernel_33/395673528.py:16: RuntimeWarning: The data contains 'boundary' events, indicating data discontinuities. Be cautious of filtering and epoching around these events.\n",
      "  raw = read_raw_eeglab(file_path)\n"
     ]
    },
    {
     "name": "stdout",
     "output_type": "stream",
     "text": [
      "Exported subject 017 to /kaggle/working/edf_files/subject_017.edf\n"
     ]
    },
    {
     "name": "stderr",
     "output_type": "stream",
     "text": [
      "/tmp/ipykernel_33/395673528.py:22: RuntimeWarning: EDF format requires equal-length data blocks, so 0.9 seconds of zeros were appended to all channels when writing the final block.\n",
      "  raw.export(output_file,overwrite=True)\n",
      "/tmp/ipykernel_33/395673528.py:16: RuntimeWarning: Data will be preloaded. preload=False or a string preload is not supported when the data is stored in the .set file\n",
      "  raw = read_raw_eeglab(file_path)\n",
      "/tmp/ipykernel_33/395673528.py:16: RuntimeWarning: The data contains 'boundary' events, indicating data discontinuities. Be cautious of filtering and epoching around these events.\n",
      "  raw = read_raw_eeglab(file_path)\n"
     ]
    },
    {
     "name": "stdout",
     "output_type": "stream",
     "text": [
      "Exported subject 018 to /kaggle/working/edf_files/subject_018.edf\n"
     ]
    },
    {
     "name": "stderr",
     "output_type": "stream",
     "text": [
      "/tmp/ipykernel_33/395673528.py:22: RuntimeWarning: EDF format requires equal-length data blocks, so 0.38 seconds of zeros were appended to all channels when writing the final block.\n",
      "  raw.export(output_file,overwrite=True)\n",
      "/tmp/ipykernel_33/395673528.py:16: RuntimeWarning: Data will be preloaded. preload=False or a string preload is not supported when the data is stored in the .set file\n",
      "  raw = read_raw_eeglab(file_path)\n"
     ]
    },
    {
     "name": "stdout",
     "output_type": "stream",
     "text": [
      "Exported subject 019 to /kaggle/working/edf_files/subject_019.edf\n"
     ]
    },
    {
     "name": "stderr",
     "output_type": "stream",
     "text": [
      "/tmp/ipykernel_33/395673528.py:22: RuntimeWarning: EDF format requires equal-length data blocks, so 0.7 seconds of zeros were appended to all channels when writing the final block.\n",
      "  raw.export(output_file,overwrite=True)\n",
      "/tmp/ipykernel_33/395673528.py:16: RuntimeWarning: Data will be preloaded. preload=False or a string preload is not supported when the data is stored in the .set file\n",
      "  raw = read_raw_eeglab(file_path)\n",
      "/tmp/ipykernel_33/395673528.py:16: RuntimeWarning: The data contains 'boundary' events, indicating data discontinuities. Be cautious of filtering and epoching around these events.\n",
      "  raw = read_raw_eeglab(file_path)\n"
     ]
    },
    {
     "name": "stdout",
     "output_type": "stream",
     "text": [
      "Exported subject 020 to /kaggle/working/edf_files/subject_020.edf\n"
     ]
    },
    {
     "name": "stderr",
     "output_type": "stream",
     "text": [
      "/tmp/ipykernel_33/395673528.py:22: RuntimeWarning: EDF format requires equal-length data blocks, so 0.72 seconds of zeros were appended to all channels when writing the final block.\n",
      "  raw.export(output_file,overwrite=True)\n",
      "/tmp/ipykernel_33/395673528.py:16: RuntimeWarning: Data will be preloaded. preload=False or a string preload is not supported when the data is stored in the .set file\n",
      "  raw = read_raw_eeglab(file_path)\n",
      "/tmp/ipykernel_33/395673528.py:16: RuntimeWarning: The data contains 'boundary' events, indicating data discontinuities. Be cautious of filtering and epoching around these events.\n",
      "  raw = read_raw_eeglab(file_path)\n"
     ]
    },
    {
     "name": "stdout",
     "output_type": "stream",
     "text": [
      "Exported subject 021 to /kaggle/working/edf_files/subject_021.edf\n"
     ]
    },
    {
     "name": "stderr",
     "output_type": "stream",
     "text": [
      "/tmp/ipykernel_33/395673528.py:22: RuntimeWarning: EDF format requires equal-length data blocks, so 0.08 seconds of zeros were appended to all channels when writing the final block.\n",
      "  raw.export(output_file,overwrite=True)\n",
      "/tmp/ipykernel_33/395673528.py:16: RuntimeWarning: Data will be preloaded. preload=False or a string preload is not supported when the data is stored in the .set file\n",
      "  raw = read_raw_eeglab(file_path)\n",
      "/tmp/ipykernel_33/395673528.py:16: RuntimeWarning: The data contains 'boundary' events, indicating data discontinuities. Be cautious of filtering and epoching around these events.\n",
      "  raw = read_raw_eeglab(file_path)\n"
     ]
    },
    {
     "name": "stdout",
     "output_type": "stream",
     "text": [
      "Exported subject 022 to /kaggle/working/edf_files/subject_022.edf\n"
     ]
    },
    {
     "name": "stderr",
     "output_type": "stream",
     "text": [
      "/tmp/ipykernel_33/395673528.py:22: RuntimeWarning: EDF format requires equal-length data blocks, so 0.26 seconds of zeros were appended to all channels when writing the final block.\n",
      "  raw.export(output_file,overwrite=True)\n",
      "/tmp/ipykernel_33/395673528.py:16: RuntimeWarning: Data will be preloaded. preload=False or a string preload is not supported when the data is stored in the .set file\n",
      "  raw = read_raw_eeglab(file_path)\n",
      "/tmp/ipykernel_33/395673528.py:16: RuntimeWarning: The data contains 'boundary' events, indicating data discontinuities. Be cautious of filtering and epoching around these events.\n",
      "  raw = read_raw_eeglab(file_path)\n"
     ]
    },
    {
     "name": "stdout",
     "output_type": "stream",
     "text": [
      "Exported subject 023 to /kaggle/working/edf_files/subject_023.edf\n"
     ]
    },
    {
     "name": "stderr",
     "output_type": "stream",
     "text": [
      "/tmp/ipykernel_33/395673528.py:22: RuntimeWarning: EDF format requires equal-length data blocks, so 0.2 seconds of zeros were appended to all channels when writing the final block.\n",
      "  raw.export(output_file,overwrite=True)\n",
      "/tmp/ipykernel_33/395673528.py:16: RuntimeWarning: Data will be preloaded. preload=False or a string preload is not supported when the data is stored in the .set file\n",
      "  raw = read_raw_eeglab(file_path)\n",
      "/tmp/ipykernel_33/395673528.py:16: RuntimeWarning: The data contains 'boundary' events, indicating data discontinuities. Be cautious of filtering and epoching around these events.\n",
      "  raw = read_raw_eeglab(file_path)\n"
     ]
    },
    {
     "name": "stdout",
     "output_type": "stream",
     "text": [
      "Exported subject 024 to /kaggle/working/edf_files/subject_024.edf\n"
     ]
    },
    {
     "name": "stderr",
     "output_type": "stream",
     "text": [
      "/tmp/ipykernel_33/395673528.py:22: RuntimeWarning: EDF format requires equal-length data blocks, so 0.64 seconds of zeros were appended to all channels when writing the final block.\n",
      "  raw.export(output_file,overwrite=True)\n",
      "/tmp/ipykernel_33/395673528.py:16: RuntimeWarning: Data will be preloaded. preload=False or a string preload is not supported when the data is stored in the .set file\n",
      "  raw = read_raw_eeglab(file_path)\n",
      "/tmp/ipykernel_33/395673528.py:16: RuntimeWarning: The data contains 'boundary' events, indicating data discontinuities. Be cautious of filtering and epoching around these events.\n",
      "  raw = read_raw_eeglab(file_path)\n"
     ]
    },
    {
     "name": "stdout",
     "output_type": "stream",
     "text": [
      "Exported subject 025 to /kaggle/working/edf_files/subject_025.edf\n"
     ]
    },
    {
     "name": "stderr",
     "output_type": "stream",
     "text": [
      "/tmp/ipykernel_33/395673528.py:22: RuntimeWarning: EDF format requires equal-length data blocks, so 0.36 seconds of zeros were appended to all channels when writing the final block.\n",
      "  raw.export(output_file,overwrite=True)\n",
      "/tmp/ipykernel_33/395673528.py:16: RuntimeWarning: Data will be preloaded. preload=False or a string preload is not supported when the data is stored in the .set file\n",
      "  raw = read_raw_eeglab(file_path)\n",
      "/tmp/ipykernel_33/395673528.py:16: RuntimeWarning: The data contains 'boundary' events, indicating data discontinuities. Be cautious of filtering and epoching around these events.\n",
      "  raw = read_raw_eeglab(file_path)\n"
     ]
    },
    {
     "name": "stdout",
     "output_type": "stream",
     "text": [
      "Exported subject 026 to /kaggle/working/edf_files/subject_026.edf\n"
     ]
    },
    {
     "name": "stderr",
     "output_type": "stream",
     "text": [
      "/tmp/ipykernel_33/395673528.py:22: RuntimeWarning: EDF format requires equal-length data blocks, so 0.8 seconds of zeros were appended to all channels when writing the final block.\n",
      "  raw.export(output_file,overwrite=True)\n",
      "/tmp/ipykernel_33/395673528.py:16: RuntimeWarning: Data will be preloaded. preload=False or a string preload is not supported when the data is stored in the .set file\n",
      "  raw = read_raw_eeglab(file_path)\n",
      "/tmp/ipykernel_33/395673528.py:16: RuntimeWarning: The data contains 'boundary' events, indicating data discontinuities. Be cautious of filtering and epoching around these events.\n",
      "  raw = read_raw_eeglab(file_path)\n"
     ]
    },
    {
     "name": "stdout",
     "output_type": "stream",
     "text": [
      "Exported subject 027 to /kaggle/working/edf_files/subject_027.edf\n"
     ]
    },
    {
     "name": "stderr",
     "output_type": "stream",
     "text": [
      "/tmp/ipykernel_33/395673528.py:22: RuntimeWarning: EDF format requires equal-length data blocks, so 0.86 seconds of zeros were appended to all channels when writing the final block.\n",
      "  raw.export(output_file,overwrite=True)\n",
      "/tmp/ipykernel_33/395673528.py:16: RuntimeWarning: Data will be preloaded. preload=False or a string preload is not supported when the data is stored in the .set file\n",
      "  raw = read_raw_eeglab(file_path)\n",
      "/tmp/ipykernel_33/395673528.py:16: RuntimeWarning: The data contains 'boundary' events, indicating data discontinuities. Be cautious of filtering and epoching around these events.\n",
      "  raw = read_raw_eeglab(file_path)\n"
     ]
    },
    {
     "name": "stdout",
     "output_type": "stream",
     "text": [
      "Exported subject 028 to /kaggle/working/edf_files/subject_028.edf\n"
     ]
    },
    {
     "name": "stderr",
     "output_type": "stream",
     "text": [
      "/tmp/ipykernel_33/395673528.py:22: RuntimeWarning: EDF format requires equal-length data blocks, so 0.32 seconds of zeros were appended to all channels when writing the final block.\n",
      "  raw.export(output_file,overwrite=True)\n",
      "/tmp/ipykernel_33/395673528.py:16: RuntimeWarning: Data will be preloaded. preload=False or a string preload is not supported when the data is stored in the .set file\n",
      "  raw = read_raw_eeglab(file_path)\n",
      "/tmp/ipykernel_33/395673528.py:16: RuntimeWarning: The data contains 'boundary' events, indicating data discontinuities. Be cautious of filtering and epoching around these events.\n",
      "  raw = read_raw_eeglab(file_path)\n"
     ]
    },
    {
     "name": "stdout",
     "output_type": "stream",
     "text": [
      "Exported subject 029 to /kaggle/working/edf_files/subject_029.edf\n"
     ]
    },
    {
     "name": "stderr",
     "output_type": "stream",
     "text": [
      "/tmp/ipykernel_33/395673528.py:22: RuntimeWarning: EDF format requires equal-length data blocks, so 0.92 seconds of zeros were appended to all channels when writing the final block.\n",
      "  raw.export(output_file,overwrite=True)\n",
      "/tmp/ipykernel_33/395673528.py:16: RuntimeWarning: Data will be preloaded. preload=False or a string preload is not supported when the data is stored in the .set file\n",
      "  raw = read_raw_eeglab(file_path)\n",
      "/tmp/ipykernel_33/395673528.py:16: RuntimeWarning: The data contains 'boundary' events, indicating data discontinuities. Be cautious of filtering and epoching around these events.\n",
      "  raw = read_raw_eeglab(file_path)\n"
     ]
    },
    {
     "name": "stdout",
     "output_type": "stream",
     "text": [
      "Exported subject 030 to /kaggle/working/edf_files/subject_030.edf\n"
     ]
    },
    {
     "name": "stderr",
     "output_type": "stream",
     "text": [
      "/tmp/ipykernel_33/395673528.py:22: RuntimeWarning: EDF format requires equal-length data blocks, so 0.24 seconds of zeros were appended to all channels when writing the final block.\n",
      "  raw.export(output_file,overwrite=True)\n",
      "/tmp/ipykernel_33/395673528.py:16: RuntimeWarning: Data will be preloaded. preload=False or a string preload is not supported when the data is stored in the .set file\n",
      "  raw = read_raw_eeglab(file_path)\n",
      "/tmp/ipykernel_33/395673528.py:16: RuntimeWarning: The data contains 'boundary' events, indicating data discontinuities. Be cautious of filtering and epoching around these events.\n",
      "  raw = read_raw_eeglab(file_path)\n"
     ]
    },
    {
     "name": "stdout",
     "output_type": "stream",
     "text": [
      "Exported subject 031 to /kaggle/working/edf_files/subject_031.edf\n"
     ]
    },
    {
     "name": "stderr",
     "output_type": "stream",
     "text": [
      "/tmp/ipykernel_33/395673528.py:22: RuntimeWarning: EDF format requires equal-length data blocks, so 0.22 seconds of zeros were appended to all channels when writing the final block.\n",
      "  raw.export(output_file,overwrite=True)\n",
      "/tmp/ipykernel_33/395673528.py:16: RuntimeWarning: Data will be preloaded. preload=False or a string preload is not supported when the data is stored in the .set file\n",
      "  raw = read_raw_eeglab(file_path)\n",
      "/tmp/ipykernel_33/395673528.py:16: RuntimeWarning: The data contains 'boundary' events, indicating data discontinuities. Be cautious of filtering and epoching around these events.\n",
      "  raw = read_raw_eeglab(file_path)\n"
     ]
    },
    {
     "name": "stdout",
     "output_type": "stream",
     "text": [
      "Exported subject 032 to /kaggle/working/edf_files/subject_032.edf\n"
     ]
    },
    {
     "name": "stderr",
     "output_type": "stream",
     "text": [
      "/tmp/ipykernel_33/395673528.py:22: RuntimeWarning: EDF format requires equal-length data blocks, so 0.58 seconds of zeros were appended to all channels when writing the final block.\n",
      "  raw.export(output_file,overwrite=True)\n",
      "/tmp/ipykernel_33/395673528.py:16: RuntimeWarning: Data will be preloaded. preload=False or a string preload is not supported when the data is stored in the .set file\n",
      "  raw = read_raw_eeglab(file_path)\n",
      "/tmp/ipykernel_33/395673528.py:16: RuntimeWarning: The data contains 'boundary' events, indicating data discontinuities. Be cautious of filtering and epoching around these events.\n",
      "  raw = read_raw_eeglab(file_path)\n"
     ]
    },
    {
     "name": "stdout",
     "output_type": "stream",
     "text": [
      "Exported subject 033 to /kaggle/working/edf_files/subject_033.edf\n"
     ]
    },
    {
     "name": "stderr",
     "output_type": "stream",
     "text": [
      "/tmp/ipykernel_33/395673528.py:22: RuntimeWarning: EDF format requires equal-length data blocks, so 0.1 seconds of zeros were appended to all channels when writing the final block.\n",
      "  raw.export(output_file,overwrite=True)\n",
      "/tmp/ipykernel_33/395673528.py:16: RuntimeWarning: Data will be preloaded. preload=False or a string preload is not supported when the data is stored in the .set file\n",
      "  raw = read_raw_eeglab(file_path)\n",
      "/tmp/ipykernel_33/395673528.py:16: RuntimeWarning: The data contains 'boundary' events, indicating data discontinuities. Be cautious of filtering and epoching around these events.\n",
      "  raw = read_raw_eeglab(file_path)\n"
     ]
    },
    {
     "name": "stdout",
     "output_type": "stream",
     "text": [
      "Exported subject 034 to /kaggle/working/edf_files/subject_034.edf\n"
     ]
    },
    {
     "name": "stderr",
     "output_type": "stream",
     "text": [
      "/tmp/ipykernel_33/395673528.py:22: RuntimeWarning: EDF format requires equal-length data blocks, so 0.96 seconds of zeros were appended to all channels when writing the final block.\n",
      "  raw.export(output_file,overwrite=True)\n",
      "/tmp/ipykernel_33/395673528.py:16: RuntimeWarning: Data will be preloaded. preload=False or a string preload is not supported when the data is stored in the .set file\n",
      "  raw = read_raw_eeglab(file_path)\n",
      "/tmp/ipykernel_33/395673528.py:16: RuntimeWarning: The data contains 'boundary' events, indicating data discontinuities. Be cautious of filtering and epoching around these events.\n",
      "  raw = read_raw_eeglab(file_path)\n"
     ]
    },
    {
     "name": "stdout",
     "output_type": "stream",
     "text": [
      "Exported subject 035 to /kaggle/working/edf_files/subject_035.edf\n"
     ]
    },
    {
     "name": "stderr",
     "output_type": "stream",
     "text": [
      "/tmp/ipykernel_33/395673528.py:22: RuntimeWarning: EDF format requires equal-length data blocks, so 0.64 seconds of zeros were appended to all channels when writing the final block.\n",
      "  raw.export(output_file,overwrite=True)\n",
      "/tmp/ipykernel_33/395673528.py:16: RuntimeWarning: Data will be preloaded. preload=False or a string preload is not supported when the data is stored in the .set file\n",
      "  raw = read_raw_eeglab(file_path)\n"
     ]
    },
    {
     "name": "stdout",
     "output_type": "stream",
     "text": [
      "Exported subject 036 to /kaggle/working/edf_files/subject_036.edf\n"
     ]
    },
    {
     "name": "stderr",
     "output_type": "stream",
     "text": [
      "/tmp/ipykernel_33/395673528.py:22: RuntimeWarning: EDF format requires equal-length data blocks, so 0.9 seconds of zeros were appended to all channels when writing the final block.\n",
      "  raw.export(output_file,overwrite=True)\n",
      "/tmp/ipykernel_33/395673528.py:16: RuntimeWarning: Data will be preloaded. preload=False or a string preload is not supported when the data is stored in the .set file\n",
      "  raw = read_raw_eeglab(file_path)\n",
      "/tmp/ipykernel_33/395673528.py:16: RuntimeWarning: The data contains 'boundary' events, indicating data discontinuities. Be cautious of filtering and epoching around these events.\n",
      "  raw = read_raw_eeglab(file_path)\n"
     ]
    },
    {
     "name": "stdout",
     "output_type": "stream",
     "text": [
      "Exported subject 037 to /kaggle/working/edf_files/subject_037.edf\n"
     ]
    },
    {
     "name": "stderr",
     "output_type": "stream",
     "text": [
      "/tmp/ipykernel_33/395673528.py:22: RuntimeWarning: EDF format requires equal-length data blocks, so 0.6 seconds of zeros were appended to all channels when writing the final block.\n",
      "  raw.export(output_file,overwrite=True)\n",
      "/tmp/ipykernel_33/395673528.py:16: RuntimeWarning: Data will be preloaded. preload=False or a string preload is not supported when the data is stored in the .set file\n",
      "  raw = read_raw_eeglab(file_path)\n",
      "/tmp/ipykernel_33/395673528.py:16: RuntimeWarning: The data contains 'boundary' events, indicating data discontinuities. Be cautious of filtering and epoching around these events.\n",
      "  raw = read_raw_eeglab(file_path)\n"
     ]
    },
    {
     "name": "stdout",
     "output_type": "stream",
     "text": [
      "Exported subject 038 to /kaggle/working/edf_files/subject_038.edf\n"
     ]
    },
    {
     "name": "stderr",
     "output_type": "stream",
     "text": [
      "/tmp/ipykernel_33/395673528.py:22: RuntimeWarning: EDF format requires equal-length data blocks, so 0.92 seconds of zeros were appended to all channels when writing the final block.\n",
      "  raw.export(output_file,overwrite=True)\n",
      "/tmp/ipykernel_33/395673528.py:16: RuntimeWarning: Data will be preloaded. preload=False or a string preload is not supported when the data is stored in the .set file\n",
      "  raw = read_raw_eeglab(file_path)\n",
      "/tmp/ipykernel_33/395673528.py:16: RuntimeWarning: The data contains 'boundary' events, indicating data discontinuities. Be cautious of filtering and epoching around these events.\n",
      "  raw = read_raw_eeglab(file_path)\n"
     ]
    },
    {
     "name": "stdout",
     "output_type": "stream",
     "text": [
      "Exported subject 039 to /kaggle/working/edf_files/subject_039.edf\n"
     ]
    },
    {
     "name": "stderr",
     "output_type": "stream",
     "text": [
      "/tmp/ipykernel_33/395673528.py:22: RuntimeWarning: EDF format requires equal-length data blocks, so 0.26 seconds of zeros were appended to all channels when writing the final block.\n",
      "  raw.export(output_file,overwrite=True)\n",
      "/tmp/ipykernel_33/395673528.py:16: RuntimeWarning: Data will be preloaded. preload=False or a string preload is not supported when the data is stored in the .set file\n",
      "  raw = read_raw_eeglab(file_path)\n",
      "/tmp/ipykernel_33/395673528.py:16: RuntimeWarning: The data contains 'boundary' events, indicating data discontinuities. Be cautious of filtering and epoching around these events.\n",
      "  raw = read_raw_eeglab(file_path)\n"
     ]
    },
    {
     "name": "stdout",
     "output_type": "stream",
     "text": [
      "Exported subject 040 to /kaggle/working/edf_files/subject_040.edf\n"
     ]
    },
    {
     "name": "stderr",
     "output_type": "stream",
     "text": [
      "/tmp/ipykernel_33/395673528.py:22: RuntimeWarning: EDF format requires equal-length data blocks, so 0.9 seconds of zeros were appended to all channels when writing the final block.\n",
      "  raw.export(output_file,overwrite=True)\n",
      "/tmp/ipykernel_33/395673528.py:16: RuntimeWarning: Data will be preloaded. preload=False or a string preload is not supported when the data is stored in the .set file\n",
      "  raw = read_raw_eeglab(file_path)\n"
     ]
    },
    {
     "name": "stdout",
     "output_type": "stream",
     "text": [
      "Exported subject 041 to /kaggle/working/edf_files/subject_041.edf\n"
     ]
    },
    {
     "name": "stderr",
     "output_type": "stream",
     "text": [
      "/tmp/ipykernel_33/395673528.py:16: RuntimeWarning: The data contains 'boundary' events, indicating data discontinuities. Be cautious of filtering and epoching around these events.\n",
      "  raw = read_raw_eeglab(file_path)\n",
      "/tmp/ipykernel_33/395673528.py:22: RuntimeWarning: EDF format requires equal-length data blocks, so 0.98 seconds of zeros were appended to all channels when writing the final block.\n",
      "  raw.export(output_file,overwrite=True)\n",
      "/tmp/ipykernel_33/395673528.py:16: RuntimeWarning: Data will be preloaded. preload=False or a string preload is not supported when the data is stored in the .set file\n",
      "  raw = read_raw_eeglab(file_path)\n"
     ]
    },
    {
     "name": "stdout",
     "output_type": "stream",
     "text": [
      "Exported subject 042 to /kaggle/working/edf_files/subject_042.edf\n"
     ]
    },
    {
     "name": "stderr",
     "output_type": "stream",
     "text": [
      "/tmp/ipykernel_33/395673528.py:22: RuntimeWarning: EDF format requires equal-length data blocks, so 0.9 seconds of zeros were appended to all channels when writing the final block.\n",
      "  raw.export(output_file,overwrite=True)\n",
      "/tmp/ipykernel_33/395673528.py:16: RuntimeWarning: Data will be preloaded. preload=False or a string preload is not supported when the data is stored in the .set file\n",
      "  raw = read_raw_eeglab(file_path)\n"
     ]
    },
    {
     "name": "stdout",
     "output_type": "stream",
     "text": [
      "Exported subject 043 to /kaggle/working/edf_files/subject_043.edf\n"
     ]
    },
    {
     "name": "stderr",
     "output_type": "stream",
     "text": [
      "/tmp/ipykernel_33/395673528.py:22: RuntimeWarning: EDF format requires equal-length data blocks, so 0.4 seconds of zeros were appended to all channels when writing the final block.\n",
      "  raw.export(output_file,overwrite=True)\n",
      "/tmp/ipykernel_33/395673528.py:16: RuntimeWarning: Data will be preloaded. preload=False or a string preload is not supported when the data is stored in the .set file\n",
      "  raw = read_raw_eeglab(file_path)\n",
      "/tmp/ipykernel_33/395673528.py:16: RuntimeWarning: The data contains 'boundary' events, indicating data discontinuities. Be cautious of filtering and epoching around these events.\n",
      "  raw = read_raw_eeglab(file_path)\n"
     ]
    },
    {
     "name": "stdout",
     "output_type": "stream",
     "text": [
      "Exported subject 044 to /kaggle/working/edf_files/subject_044.edf\n"
     ]
    },
    {
     "name": "stderr",
     "output_type": "stream",
     "text": [
      "/tmp/ipykernel_33/395673528.py:22: RuntimeWarning: EDF format requires equal-length data blocks, so 0.36 seconds of zeros were appended to all channels when writing the final block.\n",
      "  raw.export(output_file,overwrite=True)\n",
      "/tmp/ipykernel_33/395673528.py:16: RuntimeWarning: Data will be preloaded. preload=False or a string preload is not supported when the data is stored in the .set file\n",
      "  raw = read_raw_eeglab(file_path)\n",
      "/tmp/ipykernel_33/395673528.py:16: RuntimeWarning: The data contains 'boundary' events, indicating data discontinuities. Be cautious of filtering and epoching around these events.\n",
      "  raw = read_raw_eeglab(file_path)\n"
     ]
    },
    {
     "name": "stdout",
     "output_type": "stream",
     "text": [
      "Exported subject 045 to /kaggle/working/edf_files/subject_045.edf\n"
     ]
    },
    {
     "name": "stderr",
     "output_type": "stream",
     "text": [
      "/tmp/ipykernel_33/395673528.py:22: RuntimeWarning: EDF format requires equal-length data blocks, so 0.96 seconds of zeros were appended to all channels when writing the final block.\n",
      "  raw.export(output_file,overwrite=True)\n",
      "/tmp/ipykernel_33/395673528.py:16: RuntimeWarning: Data will be preloaded. preload=False or a string preload is not supported when the data is stored in the .set file\n",
      "  raw = read_raw_eeglab(file_path)\n",
      "/tmp/ipykernel_33/395673528.py:16: RuntimeWarning: The data contains 'boundary' events, indicating data discontinuities. Be cautious of filtering and epoching around these events.\n",
      "  raw = read_raw_eeglab(file_path)\n"
     ]
    },
    {
     "name": "stdout",
     "output_type": "stream",
     "text": [
      "Exported subject 046 to /kaggle/working/edf_files/subject_046.edf\n",
      "Exported subject 047 to /kaggle/working/edf_files/subject_047.edf\n"
     ]
    },
    {
     "name": "stderr",
     "output_type": "stream",
     "text": [
      "/tmp/ipykernel_33/395673528.py:16: RuntimeWarning: Data will be preloaded. preload=False or a string preload is not supported when the data is stored in the .set file\n",
      "  raw = read_raw_eeglab(file_path)\n",
      "/tmp/ipykernel_33/395673528.py:16: RuntimeWarning: The data contains 'boundary' events, indicating data discontinuities. Be cautious of filtering and epoching around these events.\n",
      "  raw = read_raw_eeglab(file_path)\n",
      "/tmp/ipykernel_33/395673528.py:22: RuntimeWarning: EDF format requires equal-length data blocks, so 0.12 seconds of zeros were appended to all channels when writing the final block.\n",
      "  raw.export(output_file,overwrite=True)\n",
      "/tmp/ipykernel_33/395673528.py:16: RuntimeWarning: Data will be preloaded. preload=False or a string preload is not supported when the data is stored in the .set file\n",
      "  raw = read_raw_eeglab(file_path)\n",
      "/tmp/ipykernel_33/395673528.py:16: RuntimeWarning: The data contains 'boundary' events, indicating data discontinuities. Be cautious of filtering and epoching around these events.\n",
      "  raw = read_raw_eeglab(file_path)\n"
     ]
    },
    {
     "name": "stdout",
     "output_type": "stream",
     "text": [
      "Exported subject 048 to /kaggle/working/edf_files/subject_048.edf\n"
     ]
    },
    {
     "name": "stderr",
     "output_type": "stream",
     "text": [
      "/tmp/ipykernel_33/395673528.py:22: RuntimeWarning: EDF format requires equal-length data blocks, so 0.8 seconds of zeros were appended to all channels when writing the final block.\n",
      "  raw.export(output_file,overwrite=True)\n",
      "/tmp/ipykernel_33/395673528.py:16: RuntimeWarning: Data will be preloaded. preload=False or a string preload is not supported when the data is stored in the .set file\n",
      "  raw = read_raw_eeglab(file_path)\n",
      "/tmp/ipykernel_33/395673528.py:16: RuntimeWarning: The data contains 'boundary' events, indicating data discontinuities. Be cautious of filtering and epoching around these events.\n",
      "  raw = read_raw_eeglab(file_path)\n"
     ]
    },
    {
     "name": "stdout",
     "output_type": "stream",
     "text": [
      "Exported subject 049 to /kaggle/working/edf_files/subject_049.edf\n"
     ]
    },
    {
     "name": "stderr",
     "output_type": "stream",
     "text": [
      "/tmp/ipykernel_33/395673528.py:22: RuntimeWarning: EDF format requires equal-length data blocks, so 0.36 seconds of zeros were appended to all channels when writing the final block.\n",
      "  raw.export(output_file,overwrite=True)\n",
      "/tmp/ipykernel_33/395673528.py:16: RuntimeWarning: Data will be preloaded. preload=False or a string preload is not supported when the data is stored in the .set file\n",
      "  raw = read_raw_eeglab(file_path)\n",
      "/tmp/ipykernel_33/395673528.py:16: RuntimeWarning: The data contains 'boundary' events, indicating data discontinuities. Be cautious of filtering and epoching around these events.\n",
      "  raw = read_raw_eeglab(file_path)\n"
     ]
    },
    {
     "name": "stdout",
     "output_type": "stream",
     "text": [
      "Exported subject 050 to /kaggle/working/edf_files/subject_050.edf\n"
     ]
    },
    {
     "name": "stderr",
     "output_type": "stream",
     "text": [
      "/tmp/ipykernel_33/395673528.py:22: RuntimeWarning: EDF format requires equal-length data blocks, so 0.66 seconds of zeros were appended to all channels when writing the final block.\n",
      "  raw.export(output_file,overwrite=True)\n",
      "/tmp/ipykernel_33/395673528.py:16: RuntimeWarning: Data will be preloaded. preload=False or a string preload is not supported when the data is stored in the .set file\n",
      "  raw = read_raw_eeglab(file_path)\n",
      "/tmp/ipykernel_33/395673528.py:16: RuntimeWarning: The data contains 'boundary' events, indicating data discontinuities. Be cautious of filtering and epoching around these events.\n",
      "  raw = read_raw_eeglab(file_path)\n"
     ]
    },
    {
     "name": "stdout",
     "output_type": "stream",
     "text": [
      "Exported subject 051 to /kaggle/working/edf_files/subject_051.edf\n"
     ]
    },
    {
     "name": "stderr",
     "output_type": "stream",
     "text": [
      "/tmp/ipykernel_33/395673528.py:22: RuntimeWarning: EDF format requires equal-length data blocks, so 0.9 seconds of zeros were appended to all channels when writing the final block.\n",
      "  raw.export(output_file,overwrite=True)\n",
      "/tmp/ipykernel_33/395673528.py:16: RuntimeWarning: Data will be preloaded. preload=False or a string preload is not supported when the data is stored in the .set file\n",
      "  raw = read_raw_eeglab(file_path)\n"
     ]
    },
    {
     "name": "stdout",
     "output_type": "stream",
     "text": [
      "Exported subject 052 to /kaggle/working/edf_files/subject_052.edf\n"
     ]
    },
    {
     "name": "stderr",
     "output_type": "stream",
     "text": [
      "/tmp/ipykernel_33/395673528.py:16: RuntimeWarning: The data contains 'boundary' events, indicating data discontinuities. Be cautious of filtering and epoching around these events.\n",
      "  raw = read_raw_eeglab(file_path)\n",
      "/tmp/ipykernel_33/395673528.py:22: RuntimeWarning: EDF format requires equal-length data blocks, so 0.48 seconds of zeros were appended to all channels when writing the final block.\n",
      "  raw.export(output_file,overwrite=True)\n"
     ]
    },
    {
     "name": "stdout",
     "output_type": "stream",
     "text": [
      "Exported subject 053 to /kaggle/working/edf_files/subject_053.edf\n"
     ]
    },
    {
     "name": "stderr",
     "output_type": "stream",
     "text": [
      "/tmp/ipykernel_33/395673528.py:16: RuntimeWarning: Data will be preloaded. preload=False or a string preload is not supported when the data is stored in the .set file\n",
      "  raw = read_raw_eeglab(file_path)\n",
      "/tmp/ipykernel_33/395673528.py:16: RuntimeWarning: The data contains 'boundary' events, indicating data discontinuities. Be cautious of filtering and epoching around these events.\n",
      "  raw = read_raw_eeglab(file_path)\n",
      "/tmp/ipykernel_33/395673528.py:22: RuntimeWarning: EDF format requires equal-length data blocks, so 0.38 seconds of zeros were appended to all channels when writing the final block.\n",
      "  raw.export(output_file,overwrite=True)\n"
     ]
    },
    {
     "name": "stdout",
     "output_type": "stream",
     "text": [
      "Exported subject 054 to /kaggle/working/edf_files/subject_054.edf\n"
     ]
    },
    {
     "name": "stderr",
     "output_type": "stream",
     "text": [
      "/tmp/ipykernel_33/395673528.py:16: RuntimeWarning: Data will be preloaded. preload=False or a string preload is not supported when the data is stored in the .set file\n",
      "  raw = read_raw_eeglab(file_path)\n",
      "/tmp/ipykernel_33/395673528.py:16: RuntimeWarning: The data contains 'boundary' events, indicating data discontinuities. Be cautious of filtering and epoching around these events.\n",
      "  raw = read_raw_eeglab(file_path)\n",
      "/tmp/ipykernel_33/395673528.py:22: RuntimeWarning: EDF format requires equal-length data blocks, so 0.4 seconds of zeros were appended to all channels when writing the final block.\n",
      "  raw.export(output_file,overwrite=True)\n"
     ]
    },
    {
     "name": "stdout",
     "output_type": "stream",
     "text": [
      "Exported subject 055 to /kaggle/working/edf_files/subject_055.edf\n"
     ]
    },
    {
     "name": "stderr",
     "output_type": "stream",
     "text": [
      "/tmp/ipykernel_33/395673528.py:16: RuntimeWarning: Data will be preloaded. preload=False or a string preload is not supported when the data is stored in the .set file\n",
      "  raw = read_raw_eeglab(file_path)\n",
      "/tmp/ipykernel_33/395673528.py:16: RuntimeWarning: The data contains 'boundary' events, indicating data discontinuities. Be cautious of filtering and epoching around these events.\n",
      "  raw = read_raw_eeglab(file_path)\n",
      "/tmp/ipykernel_33/395673528.py:22: RuntimeWarning: EDF format requires equal-length data blocks, so 0.68 seconds of zeros were appended to all channels when writing the final block.\n",
      "  raw.export(output_file,overwrite=True)\n"
     ]
    },
    {
     "name": "stdout",
     "output_type": "stream",
     "text": [
      "Exported subject 056 to /kaggle/working/edf_files/subject_056.edf\n"
     ]
    },
    {
     "name": "stderr",
     "output_type": "stream",
     "text": [
      "/tmp/ipykernel_33/395673528.py:16: RuntimeWarning: Data will be preloaded. preload=False or a string preload is not supported when the data is stored in the .set file\n",
      "  raw = read_raw_eeglab(file_path)\n",
      "/tmp/ipykernel_33/395673528.py:22: RuntimeWarning: EDF format requires equal-length data blocks, so 0.5 seconds of zeros were appended to all channels when writing the final block.\n",
      "  raw.export(output_file,overwrite=True)\n"
     ]
    },
    {
     "name": "stdout",
     "output_type": "stream",
     "text": [
      "Exported subject 057 to /kaggle/working/edf_files/subject_057.edf\n"
     ]
    },
    {
     "name": "stderr",
     "output_type": "stream",
     "text": [
      "/tmp/ipykernel_33/395673528.py:16: RuntimeWarning: Data will be preloaded. preload=False or a string preload is not supported when the data is stored in the .set file\n",
      "  raw = read_raw_eeglab(file_path)\n",
      "/tmp/ipykernel_33/395673528.py:16: RuntimeWarning: The data contains 'boundary' events, indicating data discontinuities. Be cautious of filtering and epoching around these events.\n",
      "  raw = read_raw_eeglab(file_path)\n",
      "/tmp/ipykernel_33/395673528.py:22: RuntimeWarning: EDF format requires equal-length data blocks, so 0.22 seconds of zeros were appended to all channels when writing the final block.\n",
      "  raw.export(output_file,overwrite=True)\n"
     ]
    },
    {
     "name": "stdout",
     "output_type": "stream",
     "text": [
      "Exported subject 058 to /kaggle/working/edf_files/subject_058.edf\n"
     ]
    },
    {
     "name": "stderr",
     "output_type": "stream",
     "text": [
      "/tmp/ipykernel_33/395673528.py:16: RuntimeWarning: Data will be preloaded. preload=False or a string preload is not supported when the data is stored in the .set file\n",
      "  raw = read_raw_eeglab(file_path)\n",
      "/tmp/ipykernel_33/395673528.py:16: RuntimeWarning: The data contains 'boundary' events, indicating data discontinuities. Be cautious of filtering and epoching around these events.\n",
      "  raw = read_raw_eeglab(file_path)\n",
      "/tmp/ipykernel_33/395673528.py:22: RuntimeWarning: EDF format requires equal-length data blocks, so 0.88 seconds of zeros were appended to all channels when writing the final block.\n",
      "  raw.export(output_file,overwrite=True)\n"
     ]
    },
    {
     "name": "stdout",
     "output_type": "stream",
     "text": [
      "Exported subject 059 to /kaggle/working/edf_files/subject_059.edf\n"
     ]
    },
    {
     "name": "stderr",
     "output_type": "stream",
     "text": [
      "/tmp/ipykernel_33/395673528.py:16: RuntimeWarning: Data will be preloaded. preload=False or a string preload is not supported when the data is stored in the .set file\n",
      "  raw = read_raw_eeglab(file_path)\n",
      "/tmp/ipykernel_33/395673528.py:16: RuntimeWarning: The data contains 'boundary' events, indicating data discontinuities. Be cautious of filtering and epoching around these events.\n",
      "  raw = read_raw_eeglab(file_path)\n",
      "/tmp/ipykernel_33/395673528.py:22: RuntimeWarning: EDF format requires equal-length data blocks, so 0.52 seconds of zeros were appended to all channels when writing the final block.\n",
      "  raw.export(output_file,overwrite=True)\n"
     ]
    },
    {
     "name": "stdout",
     "output_type": "stream",
     "text": [
      "Exported subject 060 to /kaggle/working/edf_files/subject_060.edf\n"
     ]
    },
    {
     "name": "stderr",
     "output_type": "stream",
     "text": [
      "/tmp/ipykernel_33/395673528.py:16: RuntimeWarning: Data will be preloaded. preload=False or a string preload is not supported when the data is stored in the .set file\n",
      "  raw = read_raw_eeglab(file_path)\n",
      "/tmp/ipykernel_33/395673528.py:16: RuntimeWarning: The data contains 'boundary' events, indicating data discontinuities. Be cautious of filtering and epoching around these events.\n",
      "  raw = read_raw_eeglab(file_path)\n",
      "/tmp/ipykernel_33/395673528.py:22: RuntimeWarning: EDF format requires equal-length data blocks, so 0.72 seconds of zeros were appended to all channels when writing the final block.\n",
      "  raw.export(output_file,overwrite=True)\n"
     ]
    },
    {
     "name": "stdout",
     "output_type": "stream",
     "text": [
      "Exported subject 061 to /kaggle/working/edf_files/subject_061.edf\n"
     ]
    },
    {
     "name": "stderr",
     "output_type": "stream",
     "text": [
      "/tmp/ipykernel_33/395673528.py:16: RuntimeWarning: Data will be preloaded. preload=False or a string preload is not supported when the data is stored in the .set file\n",
      "  raw = read_raw_eeglab(file_path)\n",
      "/tmp/ipykernel_33/395673528.py:16: RuntimeWarning: The data contains 'boundary' events, indicating data discontinuities. Be cautious of filtering and epoching around these events.\n",
      "  raw = read_raw_eeglab(file_path)\n",
      "/tmp/ipykernel_33/395673528.py:22: RuntimeWarning: EDF format requires equal-length data blocks, so 0.3 seconds of zeros were appended to all channels when writing the final block.\n",
      "  raw.export(output_file,overwrite=True)\n"
     ]
    },
    {
     "name": "stdout",
     "output_type": "stream",
     "text": [
      "Exported subject 062 to /kaggle/working/edf_files/subject_062.edf\n"
     ]
    },
    {
     "name": "stderr",
     "output_type": "stream",
     "text": [
      "/tmp/ipykernel_33/395673528.py:16: RuntimeWarning: Data will be preloaded. preload=False or a string preload is not supported when the data is stored in the .set file\n",
      "  raw = read_raw_eeglab(file_path)\n",
      "/tmp/ipykernel_33/395673528.py:16: RuntimeWarning: The data contains 'boundary' events, indicating data discontinuities. Be cautious of filtering and epoching around these events.\n",
      "  raw = read_raw_eeglab(file_path)\n",
      "/tmp/ipykernel_33/395673528.py:22: RuntimeWarning: EDF format requires equal-length data blocks, so 0.06 seconds of zeros were appended to all channels when writing the final block.\n",
      "  raw.export(output_file,overwrite=True)\n"
     ]
    },
    {
     "name": "stdout",
     "output_type": "stream",
     "text": [
      "Exported subject 063 to /kaggle/working/edf_files/subject_063.edf\n"
     ]
    },
    {
     "name": "stderr",
     "output_type": "stream",
     "text": [
      "/tmp/ipykernel_33/395673528.py:16: RuntimeWarning: Data will be preloaded. preload=False or a string preload is not supported when the data is stored in the .set file\n",
      "  raw = read_raw_eeglab(file_path)\n",
      "/tmp/ipykernel_33/395673528.py:16: RuntimeWarning: The data contains 'boundary' events, indicating data discontinuities. Be cautious of filtering and epoching around these events.\n",
      "  raw = read_raw_eeglab(file_path)\n",
      "/tmp/ipykernel_33/395673528.py:22: RuntimeWarning: EDF format requires equal-length data blocks, so 0.9 seconds of zeros were appended to all channels when writing the final block.\n",
      "  raw.export(output_file,overwrite=True)\n"
     ]
    },
    {
     "name": "stdout",
     "output_type": "stream",
     "text": [
      "Exported subject 064 to /kaggle/working/edf_files/subject_064.edf\n"
     ]
    },
    {
     "name": "stderr",
     "output_type": "stream",
     "text": [
      "/tmp/ipykernel_33/395673528.py:16: RuntimeWarning: Data will be preloaded. preload=False or a string preload is not supported when the data is stored in the .set file\n",
      "  raw = read_raw_eeglab(file_path)\n",
      "/tmp/ipykernel_33/395673528.py:22: RuntimeWarning: EDF format requires equal-length data blocks, so 0.9 seconds of zeros were appended to all channels when writing the final block.\n",
      "  raw.export(output_file,overwrite=True)\n"
     ]
    },
    {
     "name": "stdout",
     "output_type": "stream",
     "text": [
      "Exported subject 065 to /kaggle/working/edf_files/subject_065.edf\n"
     ]
    },
    {
     "name": "stderr",
     "output_type": "stream",
     "text": [
      "/tmp/ipykernel_33/395673528.py:16: RuntimeWarning: Data will be preloaded. preload=False or a string preload is not supported when the data is stored in the .set file\n",
      "  raw = read_raw_eeglab(file_path)\n",
      "/tmp/ipykernel_33/395673528.py:16: RuntimeWarning: The data contains 'boundary' events, indicating data discontinuities. Be cautious of filtering and epoching around these events.\n",
      "  raw = read_raw_eeglab(file_path)\n",
      "/tmp/ipykernel_33/395673528.py:22: RuntimeWarning: EDF format requires equal-length data blocks, so 0.24 seconds of zeros were appended to all channels when writing the final block.\n",
      "  raw.export(output_file,overwrite=True)\n"
     ]
    },
    {
     "name": "stdout",
     "output_type": "stream",
     "text": [
      "Exported subject 066 to /kaggle/working/edf_files/subject_066.edf\n"
     ]
    },
    {
     "name": "stderr",
     "output_type": "stream",
     "text": [
      "/tmp/ipykernel_33/395673528.py:16: RuntimeWarning: Data will be preloaded. preload=False or a string preload is not supported when the data is stored in the .set file\n",
      "  raw = read_raw_eeglab(file_path)\n",
      "/tmp/ipykernel_33/395673528.py:22: RuntimeWarning: EDF format requires equal-length data blocks, so 0.9 seconds of zeros were appended to all channels when writing the final block.\n",
      "  raw.export(output_file,overwrite=True)\n",
      "/tmp/ipykernel_33/395673528.py:16: RuntimeWarning: Data will be preloaded. preload=False or a string preload is not supported when the data is stored in the .set file\n",
      "  raw = read_raw_eeglab(file_path)\n",
      "/tmp/ipykernel_33/395673528.py:16: RuntimeWarning: The data contains 'boundary' events, indicating data discontinuities. Be cautious of filtering and epoching around these events.\n",
      "  raw = read_raw_eeglab(file_path)\n"
     ]
    },
    {
     "name": "stdout",
     "output_type": "stream",
     "text": [
      "Exported subject 067 to /kaggle/working/edf_files/subject_067.edf\n"
     ]
    },
    {
     "name": "stderr",
     "output_type": "stream",
     "text": [
      "/tmp/ipykernel_33/395673528.py:22: RuntimeWarning: EDF format requires equal-length data blocks, so 0.9 seconds of zeros were appended to all channels when writing the final block.\n",
      "  raw.export(output_file,overwrite=True)\n",
      "/tmp/ipykernel_33/395673528.py:16: RuntimeWarning: Data will be preloaded. preload=False or a string preload is not supported when the data is stored in the .set file\n",
      "  raw = read_raw_eeglab(file_path)\n",
      "/tmp/ipykernel_33/395673528.py:16: RuntimeWarning: The data contains 'boundary' events, indicating data discontinuities. Be cautious of filtering and epoching around these events.\n",
      "  raw = read_raw_eeglab(file_path)\n"
     ]
    },
    {
     "name": "stdout",
     "output_type": "stream",
     "text": [
      "Exported subject 068 to /kaggle/working/edf_files/subject_068.edf\n"
     ]
    },
    {
     "name": "stderr",
     "output_type": "stream",
     "text": [
      "/tmp/ipykernel_33/395673528.py:22: RuntimeWarning: EDF format requires equal-length data blocks, so 0.9 seconds of zeros were appended to all channels when writing the final block.\n",
      "  raw.export(output_file,overwrite=True)\n",
      "/tmp/ipykernel_33/395673528.py:16: RuntimeWarning: Data will be preloaded. preload=False or a string preload is not supported when the data is stored in the .set file\n",
      "  raw = read_raw_eeglab(file_path)\n"
     ]
    },
    {
     "name": "stdout",
     "output_type": "stream",
     "text": [
      "Exported subject 069 to /kaggle/working/edf_files/subject_069.edf\n"
     ]
    },
    {
     "name": "stderr",
     "output_type": "stream",
     "text": [
      "/tmp/ipykernel_33/395673528.py:22: RuntimeWarning: EDF format requires equal-length data blocks, so 0.9 seconds of zeros were appended to all channels when writing the final block.\n",
      "  raw.export(output_file,overwrite=True)\n",
      "/tmp/ipykernel_33/395673528.py:16: RuntimeWarning: Data will be preloaded. preload=False or a string preload is not supported when the data is stored in the .set file\n",
      "  raw = read_raw_eeglab(file_path)\n",
      "/tmp/ipykernel_33/395673528.py:16: RuntimeWarning: The data contains 'boundary' events, indicating data discontinuities. Be cautious of filtering and epoching around these events.\n",
      "  raw = read_raw_eeglab(file_path)\n"
     ]
    },
    {
     "name": "stdout",
     "output_type": "stream",
     "text": [
      "Exported subject 070 to /kaggle/working/edf_files/subject_070.edf\n"
     ]
    },
    {
     "name": "stderr",
     "output_type": "stream",
     "text": [
      "/tmp/ipykernel_33/395673528.py:22: RuntimeWarning: EDF format requires equal-length data blocks, so 0.1 seconds of zeros were appended to all channels when writing the final block.\n",
      "  raw.export(output_file,overwrite=True)\n",
      "/tmp/ipykernel_33/395673528.py:16: RuntimeWarning: Data will be preloaded. preload=False or a string preload is not supported when the data is stored in the .set file\n",
      "  raw = read_raw_eeglab(file_path)\n",
      "/tmp/ipykernel_33/395673528.py:16: RuntimeWarning: The data contains 'boundary' events, indicating data discontinuities. Be cautious of filtering and epoching around these events.\n",
      "  raw = read_raw_eeglab(file_path)\n"
     ]
    },
    {
     "name": "stdout",
     "output_type": "stream",
     "text": [
      "Exported subject 071 to /kaggle/working/edf_files/subject_071.edf\n"
     ]
    },
    {
     "name": "stderr",
     "output_type": "stream",
     "text": [
      "/tmp/ipykernel_33/395673528.py:22: RuntimeWarning: EDF format requires equal-length data blocks, so 0.58 seconds of zeros were appended to all channels when writing the final block.\n",
      "  raw.export(output_file,overwrite=True)\n",
      "/tmp/ipykernel_33/395673528.py:16: RuntimeWarning: Data will be preloaded. preload=False or a string preload is not supported when the data is stored in the .set file\n",
      "  raw = read_raw_eeglab(file_path)\n",
      "/tmp/ipykernel_33/395673528.py:16: RuntimeWarning: The data contains 'boundary' events, indicating data discontinuities. Be cautious of filtering and epoching around these events.\n",
      "  raw = read_raw_eeglab(file_path)\n"
     ]
    },
    {
     "name": "stdout",
     "output_type": "stream",
     "text": [
      "Exported subject 072 to /kaggle/working/edf_files/subject_072.edf\n"
     ]
    },
    {
     "name": "stderr",
     "output_type": "stream",
     "text": [
      "/tmp/ipykernel_33/395673528.py:22: RuntimeWarning: EDF format requires equal-length data blocks, so 0.42 seconds of zeros were appended to all channels when writing the final block.\n",
      "  raw.export(output_file,overwrite=True)\n",
      "/tmp/ipykernel_33/395673528.py:16: RuntimeWarning: Data will be preloaded. preload=False or a string preload is not supported when the data is stored in the .set file\n",
      "  raw = read_raw_eeglab(file_path)\n"
     ]
    },
    {
     "name": "stdout",
     "output_type": "stream",
     "text": [
      "Exported subject 073 to /kaggle/working/edf_files/subject_073.edf\n"
     ]
    },
    {
     "name": "stderr",
     "output_type": "stream",
     "text": [
      "/tmp/ipykernel_33/395673528.py:16: RuntimeWarning: The data contains 'boundary' events, indicating data discontinuities. Be cautious of filtering and epoching around these events.\n",
      "  raw = read_raw_eeglab(file_path)\n",
      "/tmp/ipykernel_33/395673528.py:22: RuntimeWarning: EDF format requires equal-length data blocks, so 0.5 seconds of zeros were appended to all channels when writing the final block.\n",
      "  raw.export(output_file,overwrite=True)\n",
      "/tmp/ipykernel_33/395673528.py:16: RuntimeWarning: Data will be preloaded. preload=False or a string preload is not supported when the data is stored in the .set file\n",
      "  raw = read_raw_eeglab(file_path)\n",
      "/tmp/ipykernel_33/395673528.py:16: RuntimeWarning: The data contains 'boundary' events, indicating data discontinuities. Be cautious of filtering and epoching around these events.\n",
      "  raw = read_raw_eeglab(file_path)\n"
     ]
    },
    {
     "name": "stdout",
     "output_type": "stream",
     "text": [
      "Exported subject 074 to /kaggle/working/edf_files/subject_074.edf\n"
     ]
    },
    {
     "name": "stderr",
     "output_type": "stream",
     "text": [
      "/tmp/ipykernel_33/395673528.py:22: RuntimeWarning: EDF format requires equal-length data blocks, so 0.82 seconds of zeros were appended to all channels when writing the final block.\n",
      "  raw.export(output_file,overwrite=True)\n",
      "/tmp/ipykernel_33/395673528.py:16: RuntimeWarning: Data will be preloaded. preload=False or a string preload is not supported when the data is stored in the .set file\n",
      "  raw = read_raw_eeglab(file_path)\n"
     ]
    },
    {
     "name": "stdout",
     "output_type": "stream",
     "text": [
      "Exported subject 075 to /kaggle/working/edf_files/subject_075.edf\n"
     ]
    },
    {
     "name": "stderr",
     "output_type": "stream",
     "text": [
      "/tmp/ipykernel_33/395673528.py:22: RuntimeWarning: EDF format requires equal-length data blocks, so 0.2 seconds of zeros were appended to all channels when writing the final block.\n",
      "  raw.export(output_file,overwrite=True)\n",
      "/tmp/ipykernel_33/395673528.py:16: RuntimeWarning: Data will be preloaded. preload=False or a string preload is not supported when the data is stored in the .set file\n",
      "  raw = read_raw_eeglab(file_path)\n",
      "/tmp/ipykernel_33/395673528.py:16: RuntimeWarning: The data contains 'boundary' events, indicating data discontinuities. Be cautious of filtering and epoching around these events.\n",
      "  raw = read_raw_eeglab(file_path)\n"
     ]
    },
    {
     "name": "stdout",
     "output_type": "stream",
     "text": [
      "Exported subject 076 to /kaggle/working/edf_files/subject_076.edf\n"
     ]
    },
    {
     "name": "stderr",
     "output_type": "stream",
     "text": [
      "/tmp/ipykernel_33/395673528.py:22: RuntimeWarning: EDF format requires equal-length data blocks, so 0.86 seconds of zeros were appended to all channels when writing the final block.\n",
      "  raw.export(output_file,overwrite=True)\n",
      "/tmp/ipykernel_33/395673528.py:16: RuntimeWarning: Data will be preloaded. preload=False or a string preload is not supported when the data is stored in the .set file\n",
      "  raw = read_raw_eeglab(file_path)\n",
      "/tmp/ipykernel_33/395673528.py:16: RuntimeWarning: The data contains 'boundary' events, indicating data discontinuities. Be cautious of filtering and epoching around these events.\n",
      "  raw = read_raw_eeglab(file_path)\n"
     ]
    },
    {
     "name": "stdout",
     "output_type": "stream",
     "text": [
      "Exported subject 077 to /kaggle/working/edf_files/subject_077.edf\n"
     ]
    },
    {
     "name": "stderr",
     "output_type": "stream",
     "text": [
      "/tmp/ipykernel_33/395673528.py:22: RuntimeWarning: EDF format requires equal-length data blocks, so 0.1 seconds of zeros were appended to all channels when writing the final block.\n",
      "  raw.export(output_file,overwrite=True)\n",
      "/tmp/ipykernel_33/395673528.py:16: RuntimeWarning: Data will be preloaded. preload=False or a string preload is not supported when the data is stored in the .set file\n",
      "  raw = read_raw_eeglab(file_path)\n",
      "/tmp/ipykernel_33/395673528.py:16: RuntimeWarning: The data contains 'boundary' events, indicating data discontinuities. Be cautious of filtering and epoching around these events.\n",
      "  raw = read_raw_eeglab(file_path)\n"
     ]
    },
    {
     "name": "stdout",
     "output_type": "stream",
     "text": [
      "Exported subject 078 to /kaggle/working/edf_files/subject_078.edf\n"
     ]
    },
    {
     "name": "stderr",
     "output_type": "stream",
     "text": [
      "/tmp/ipykernel_33/395673528.py:22: RuntimeWarning: EDF format requires equal-length data blocks, so 0.32 seconds of zeros were appended to all channels when writing the final block.\n",
      "  raw.export(output_file,overwrite=True)\n",
      "/tmp/ipykernel_33/395673528.py:16: RuntimeWarning: Data will be preloaded. preload=False or a string preload is not supported when the data is stored in the .set file\n",
      "  raw = read_raw_eeglab(file_path)\n",
      "/tmp/ipykernel_33/395673528.py:16: RuntimeWarning: The data contains 'boundary' events, indicating data discontinuities. Be cautious of filtering and epoching around these events.\n",
      "  raw = read_raw_eeglab(file_path)\n"
     ]
    },
    {
     "name": "stdout",
     "output_type": "stream",
     "text": [
      "Exported subject 079 to /kaggle/working/edf_files/subject_079.edf\n"
     ]
    },
    {
     "name": "stderr",
     "output_type": "stream",
     "text": [
      "/tmp/ipykernel_33/395673528.py:22: RuntimeWarning: EDF format requires equal-length data blocks, so 0.86 seconds of zeros were appended to all channels when writing the final block.\n",
      "  raw.export(output_file,overwrite=True)\n",
      "/tmp/ipykernel_33/395673528.py:16: RuntimeWarning: Data will be preloaded. preload=False or a string preload is not supported when the data is stored in the .set file\n",
      "  raw = read_raw_eeglab(file_path)\n",
      "/tmp/ipykernel_33/395673528.py:16: RuntimeWarning: The data contains 'boundary' events, indicating data discontinuities. Be cautious of filtering and epoching around these events.\n",
      "  raw = read_raw_eeglab(file_path)\n"
     ]
    },
    {
     "name": "stdout",
     "output_type": "stream",
     "text": [
      "Exported subject 080 to /kaggle/working/edf_files/subject_080.edf\n"
     ]
    },
    {
     "name": "stderr",
     "output_type": "stream",
     "text": [
      "/tmp/ipykernel_33/395673528.py:22: RuntimeWarning: EDF format requires equal-length data blocks, so 0.52 seconds of zeros were appended to all channels when writing the final block.\n",
      "  raw.export(output_file,overwrite=True)\n",
      "/tmp/ipykernel_33/395673528.py:16: RuntimeWarning: Data will be preloaded. preload=False or a string preload is not supported when the data is stored in the .set file\n",
      "  raw = read_raw_eeglab(file_path)\n"
     ]
    },
    {
     "name": "stdout",
     "output_type": "stream",
     "text": [
      "Exported subject 081 to /kaggle/working/edf_files/subject_081.edf\n"
     ]
    },
    {
     "name": "stderr",
     "output_type": "stream",
     "text": [
      "/tmp/ipykernel_33/395673528.py:22: RuntimeWarning: EDF format requires equal-length data blocks, so 0.4 seconds of zeros were appended to all channels when writing the final block.\n",
      "  raw.export(output_file,overwrite=True)\n",
      "/tmp/ipykernel_33/395673528.py:16: RuntimeWarning: Data will be preloaded. preload=False or a string preload is not supported when the data is stored in the .set file\n",
      "  raw = read_raw_eeglab(file_path)\n"
     ]
    },
    {
     "name": "stdout",
     "output_type": "stream",
     "text": [
      "Exported subject 082 to /kaggle/working/edf_files/subject_082.edf\n"
     ]
    },
    {
     "name": "stderr",
     "output_type": "stream",
     "text": [
      "/tmp/ipykernel_33/395673528.py:22: RuntimeWarning: EDF format requires equal-length data blocks, so 0.8 seconds of zeros were appended to all channels when writing the final block.\n",
      "  raw.export(output_file,overwrite=True)\n",
      "/tmp/ipykernel_33/395673528.py:16: RuntimeWarning: Data will be preloaded. preload=False or a string preload is not supported when the data is stored in the .set file\n",
      "  raw = read_raw_eeglab(file_path)\n"
     ]
    },
    {
     "name": "stdout",
     "output_type": "stream",
     "text": [
      "Exported subject 083 to /kaggle/working/edf_files/subject_083.edf\n"
     ]
    },
    {
     "name": "stderr",
     "output_type": "stream",
     "text": [
      "/tmp/ipykernel_33/395673528.py:22: RuntimeWarning: EDF format requires equal-length data blocks, so 0.9 seconds of zeros were appended to all channels when writing the final block.\n",
      "  raw.export(output_file,overwrite=True)\n",
      "/tmp/ipykernel_33/395673528.py:16: RuntimeWarning: Data will be preloaded. preload=False or a string preload is not supported when the data is stored in the .set file\n",
      "  raw = read_raw_eeglab(file_path)\n",
      "/tmp/ipykernel_33/395673528.py:16: RuntimeWarning: The data contains 'boundary' events, indicating data discontinuities. Be cautious of filtering and epoching around these events.\n",
      "  raw = read_raw_eeglab(file_path)\n"
     ]
    },
    {
     "name": "stdout",
     "output_type": "stream",
     "text": [
      "Exported subject 084 to /kaggle/working/edf_files/subject_084.edf\n"
     ]
    },
    {
     "name": "stderr",
     "output_type": "stream",
     "text": [
      "/tmp/ipykernel_33/395673528.py:22: RuntimeWarning: EDF format requires equal-length data blocks, so 0.94 seconds of zeros were appended to all channels when writing the final block.\n",
      "  raw.export(output_file,overwrite=True)\n",
      "/tmp/ipykernel_33/395673528.py:16: RuntimeWarning: Data will be preloaded. preload=False or a string preload is not supported when the data is stored in the .set file\n",
      "  raw = read_raw_eeglab(file_path)\n",
      "/tmp/ipykernel_33/395673528.py:16: RuntimeWarning: The data contains 'boundary' events, indicating data discontinuities. Be cautious of filtering and epoching around these events.\n",
      "  raw = read_raw_eeglab(file_path)\n"
     ]
    },
    {
     "name": "stdout",
     "output_type": "stream",
     "text": [
      "Exported subject 085 to /kaggle/working/edf_files/subject_085.edf\n"
     ]
    },
    {
     "name": "stderr",
     "output_type": "stream",
     "text": [
      "/tmp/ipykernel_33/395673528.py:22: RuntimeWarning: EDF format requires equal-length data blocks, so 0.2 seconds of zeros were appended to all channels when writing the final block.\n",
      "  raw.export(output_file,overwrite=True)\n",
      "/tmp/ipykernel_33/395673528.py:16: RuntimeWarning: Data will be preloaded. preload=False or a string preload is not supported when the data is stored in the .set file\n",
      "  raw = read_raw_eeglab(file_path)\n",
      "/tmp/ipykernel_33/395673528.py:16: RuntimeWarning: The data contains 'boundary' events, indicating data discontinuities. Be cautious of filtering and epoching around these events.\n",
      "  raw = read_raw_eeglab(file_path)\n"
     ]
    },
    {
     "name": "stdout",
     "output_type": "stream",
     "text": [
      "Exported subject 086 to /kaggle/working/edf_files/subject_086.edf\n"
     ]
    },
    {
     "name": "stderr",
     "output_type": "stream",
     "text": [
      "/tmp/ipykernel_33/395673528.py:22: RuntimeWarning: EDF format requires equal-length data blocks, so 0.24 seconds of zeros were appended to all channels when writing the final block.\n",
      "  raw.export(output_file,overwrite=True)\n",
      "/tmp/ipykernel_33/395673528.py:16: RuntimeWarning: Data will be preloaded. preload=False or a string preload is not supported when the data is stored in the .set file\n",
      "  raw = read_raw_eeglab(file_path)\n",
      "/tmp/ipykernel_33/395673528.py:16: RuntimeWarning: The data contains 'boundary' events, indicating data discontinuities. Be cautious of filtering and epoching around these events.\n",
      "  raw = read_raw_eeglab(file_path)\n"
     ]
    },
    {
     "name": "stdout",
     "output_type": "stream",
     "text": [
      "Exported subject 087 to /kaggle/working/edf_files/subject_087.edf\n",
      "Exported subject 088 to /kaggle/working/edf_files/subject_088.edf\n"
     ]
    },
    {
     "name": "stderr",
     "output_type": "stream",
     "text": [
      "/tmp/ipykernel_33/395673528.py:22: RuntimeWarning: EDF format requires equal-length data blocks, so 0.3 seconds of zeros were appended to all channels when writing the final block.\n",
      "  raw.export(output_file,overwrite=True)\n"
     ]
    }
   ],
   "source": [
    "# Convert .set files to .edf format for EEGRAPH compatibility\n",
    "print(\"Converting EEG files from .set to .edf format...\")\n",
    "\n",
    "# Setup output directory\n",
    "output_folder = '/kaggle/working/edf_files'\n",
    "create_folder(output_folder)\n",
    "\n",
    "# Convert files for all subjects\n",
    "conversion_count = 0\n",
    "for subject_num in range(1, 89):\n",
    "    # Construct input file path\n",
    "    file_path = f'/kaggle/input/open-nuro-dataset/dataset/derivatives/sub-{subject_num:03d}/eeg/sub-{subject_num:03d}_task-eyesclosed_eeg.set'\n",
    "    \n",
    "    if os.path.isfile(file_path):\n",
    "        try:\n",
    "            # Load .set file using MNE\n",
    "            raw = read_raw_eeglab(file_path, preload=False)\n",
    "            \n",
    "            # Define output file path\n",
    "            output_file = os.path.join(output_folder, f'subject_{subject_num:03d}.edf')\n",
    "            \n",
    "            # Export to .edf format\n",
    "            raw.export(output_file, overwrite=True)\n",
    "            \n",
    "            conversion_count += 1\n",
    "            if conversion_count % 10 == 0:\n",
    "                print(f\"Converted {conversion_count} files...\")\n",
    "                \n",
    "        except Exception as e:\n",
    "            print(f\"Error converting subject {subject_num:03d}: {str(e)}\")\n",
    "    else:\n",
    "        print(f\"File not found for subject {subject_num:03d}\")\n",
    "\n",
    "print(f\"Conversion completed! {conversion_count} files converted to .edf format.\")"
   ]
  }
 ],
 "metadata": {
  "kaggle": {
   "accelerator": "none",
   "dataSources": [
    {
     "datasetId": 4366744,
     "sourceId": 7499077,
     "sourceType": "datasetVersion"
    }
   ],
   "dockerImageVersionId": 30698,
   "isGpuEnabled": false,
   "isInternetEnabled": true,
   "language": "python",
   "sourceType": "notebook"
  },
  "kernelspec": {
   "display_name": "Python 3",
   "language": "python",
   "name": "python3"
  },
  "language_info": {
   "codemirror_mode": {
    "name": "ipython",
    "version": 3
   },
   "file_extension": ".py",
   "mimetype": "text/x-python",
   "name": "python",
   "nbconvert_exporter": "python",
   "pygments_lexer": "ipython3",
   "version": "3.10.13"
  }
 },
 "nbformat": 4,
 "nbformat_minor": 4
}
