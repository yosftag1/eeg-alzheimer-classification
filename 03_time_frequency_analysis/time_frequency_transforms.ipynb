{
 "cells": [
  {
   "cell_type": "code",
   "execution_count": 1,
   "id": "7d9c2a12",
   "metadata": {
    "_cell_guid": "b1076dfc-b9ad-4769-8c92-a6c4dae69d19",
    "_uuid": "8f2839f25d086af736a60e9eeb907d3b93b6e0e5",
    "execution": {
     "iopub.execute_input": "2024-04-18T02:20:41.112949Z",
     "iopub.status.busy": "2024-04-18T02:20:41.111875Z",
     "iopub.status.idle": "2024-04-18T02:20:43.929037Z",
     "shell.execute_reply": "2024-04-18T02:20:43.927712Z"
    },
    "papermill": {
     "duration": 2.827924,
     "end_time": "2024-04-18T02:20:43.932447",
     "exception": false,
     "start_time": "2024-04-18T02:20:41.104523",
     "status": "completed"
    },
    "tags": []
   },
   "outputs": [],
   "source": [
    "# This Python 3 environment comes with many helpful analytics libraries installed\n",
    "# It is defined by the kaggle/python Docker image: https://github.com/kaggle/docker-python\n",
    "# For example, here's several helpful packages to load\n",
    "\n",
    "import numpy as np # linear algebra\n",
    "import pandas as pd # data processing, CSV file I/O (e.g. pd.read_csv)\n",
    "import mne\n",
    "# Input data files are available in the read-only \"../input/\" directory\n",
    "# For example, running this (by clicking run or pressing Shift+Enter) will list all files under the input directory\n",
    "from matplotlib import pyplot as plt\n",
    "import os\n",
    "\n",
    "# You can write up to 20GB to the current directory (/kaggle/working/) that gets preserved as output when you create a version using \"Save & Run All\" \n",
    "# You can also write temporary files to /kaggle/temp/, but they won't be saved outside of the current session"
   ]
  },
  {
   "cell_type": "code",
   "execution_count": 2,
   "id": "c82432d7",
   "metadata": {
    "execution": {
     "iopub.execute_input": "2024-04-18T02:20:43.944050Z",
     "iopub.status.busy": "2024-04-18T02:20:43.942930Z",
     "iopub.status.idle": "2024-04-18T02:20:43.950525Z",
     "shell.execute_reply": "2024-04-18T02:20:43.949670Z"
    },
    "papermill": {
     "duration": 0.015962,
     "end_time": "2024-04-18T02:20:43.953057",
     "exception": false,
     "start_time": "2024-04-18T02:20:43.937095",
     "status": "completed"
    },
    "tags": []
   },
   "outputs": [],
   "source": [
    "def morlet_transform(raw):\n",
    "\n",
    "    sfreq = 500\n",
    "    freqs_low = np.arange(1, 10, 1)  # Frequencies from 1 to 9 Hz with step 1\n",
    "    freqs_high = np.arange(10, 100, 5)  # Frequencies from 10 to 99 Hz with step 5\n",
    "    freqs = np.concatenate((freqs_low, freqs_high))\n",
    "\n",
    "    signals_wavlet= mne.time_frequency.tfr_array_morlet(raw, sfreq,n_cycles=freqs, freqs=freqs/2, decim=30)\n",
    " \n",
    "\n",
    "    return signals_wavlet"
   ]
  },
  {
   "cell_type": "code",
   "execution_count": 3,
   "id": "7647b68c",
   "metadata": {
    "execution": {
     "iopub.execute_input": "2024-04-18T02:20:43.963862Z",
     "iopub.status.busy": "2024-04-18T02:20:43.962719Z",
     "iopub.status.idle": "2024-04-18T02:37:14.474000Z",
     "shell.execute_reply": "2024-04-18T02:37:14.471850Z"
    },
    "papermill": {
     "duration": 990.520253,
     "end_time": "2024-04-18T02:37:14.477303",
     "exception": false,
     "start_time": "2024-04-18T02:20:43.957050",
     "status": "completed"
    },
    "tags": []
   },
   "outputs": [
    {
     "name": "stderr",
     "output_type": "stream",
     "text": [
      "[Parallel(n_jobs=1)]: Done  17 tasks      | elapsed:    6.0s\n"
     ]
    },
    {
     "name": "stdout",
     "output_type": "stream",
     "text": [
      "Subject 1: Morlet Transform saved to /kaggle/working/cleaned_data_og/morlet_transform/subject_1.npy\n"
     ]
    },
    {
     "name": "stderr",
     "output_type": "stream",
     "text": [
      "[Parallel(n_jobs=1)]: Done  17 tasks      | elapsed:    7.7s\n"
     ]
    },
    {
     "name": "stdout",
     "output_type": "stream",
     "text": [
      "Subject 2: Morlet Transform saved to /kaggle/working/cleaned_data_og/morlet_transform/subject_2.npy\n"
     ]
    },
    {
     "name": "stderr",
     "output_type": "stream",
     "text": [
      "[Parallel(n_jobs=1)]: Done  17 tasks      | elapsed:    3.0s\n"
     ]
    },
    {
     "name": "stdout",
     "output_type": "stream",
     "text": [
      "Subject 3: Morlet Transform saved to /kaggle/working/cleaned_data_og/morlet_transform/subject_3.npy\n"
     ]
    },
    {
     "name": "stderr",
     "output_type": "stream",
     "text": [
      "[Parallel(n_jobs=1)]: Done  17 tasks      | elapsed:    7.3s\n"
     ]
    },
    {
     "name": "stdout",
     "output_type": "stream",
     "text": [
      "Subject 4: Morlet Transform saved to /kaggle/working/cleaned_data_og/morlet_transform/subject_4.npy\n"
     ]
    },
    {
     "name": "stderr",
     "output_type": "stream",
     "text": [
      "[Parallel(n_jobs=1)]: Done  17 tasks      | elapsed:    8.0s\n"
     ]
    },
    {
     "name": "stdout",
     "output_type": "stream",
     "text": [
      "Subject 5: Morlet Transform saved to /kaggle/working/cleaned_data_og/morlet_transform/subject_5.npy\n"
     ]
    },
    {
     "name": "stderr",
     "output_type": "stream",
     "text": [
      "[Parallel(n_jobs=1)]: Done  17 tasks      | elapsed:    6.3s\n"
     ]
    },
    {
     "name": "stdout",
     "output_type": "stream",
     "text": [
      "Subject 6: Morlet Transform saved to /kaggle/working/cleaned_data_og/morlet_transform/subject_6.npy\n"
     ]
    },
    {
     "name": "stderr",
     "output_type": "stream",
     "text": [
      "[Parallel(n_jobs=1)]: Done  17 tasks      | elapsed:    8.0s\n"
     ]
    },
    {
     "name": "stdout",
     "output_type": "stream",
     "text": [
      "Subject 7: Morlet Transform saved to /kaggle/working/cleaned_data_og/morlet_transform/subject_7.npy\n"
     ]
    },
    {
     "name": "stderr",
     "output_type": "stream",
     "text": [
      "[Parallel(n_jobs=1)]: Done  17 tasks      | elapsed:    7.7s\n"
     ]
    },
    {
     "name": "stdout",
     "output_type": "stream",
     "text": [
      "Subject 8: Morlet Transform saved to /kaggle/working/cleaned_data_og/morlet_transform/subject_8.npy\n"
     ]
    },
    {
     "name": "stderr",
     "output_type": "stream",
     "text": [
      "[Parallel(n_jobs=1)]: Done  17 tasks      | elapsed:    5.9s\n"
     ]
    },
    {
     "name": "stdout",
     "output_type": "stream",
     "text": [
      "Subject 9: Morlet Transform saved to /kaggle/working/cleaned_data_og/morlet_transform/subject_9.npy\n"
     ]
    },
    {
     "name": "stderr",
     "output_type": "stream",
     "text": [
      "[Parallel(n_jobs=1)]: Done  17 tasks      | elapsed:   13.0s\n"
     ]
    },
    {
     "name": "stdout",
     "output_type": "stream",
     "text": [
      "Subject 10: Morlet Transform saved to /kaggle/working/cleaned_data_og/morlet_transform/subject_10.npy\n"
     ]
    },
    {
     "name": "stderr",
     "output_type": "stream",
     "text": [
      "[Parallel(n_jobs=1)]: Done  17 tasks      | elapsed:    7.7s\n"
     ]
    },
    {
     "name": "stdout",
     "output_type": "stream",
     "text": [
      "Subject 11: Morlet Transform saved to /kaggle/working/cleaned_data_og/morlet_transform/subject_11.npy\n"
     ]
    },
    {
     "name": "stderr",
     "output_type": "stream",
     "text": [
      "[Parallel(n_jobs=1)]: Done  17 tasks      | elapsed:    8.8s\n"
     ]
    },
    {
     "name": "stdout",
     "output_type": "stream",
     "text": [
      "Subject 12: Morlet Transform saved to /kaggle/working/cleaned_data_og/morlet_transform/subject_12.npy\n"
     ]
    },
    {
     "name": "stderr",
     "output_type": "stream",
     "text": [
      "[Parallel(n_jobs=1)]: Done  17 tasks      | elapsed:    8.3s\n"
     ]
    },
    {
     "name": "stdout",
     "output_type": "stream",
     "text": [
      "Subject 13: Morlet Transform saved to /kaggle/working/cleaned_data_og/morlet_transform/subject_13.npy\n"
     ]
    },
    {
     "name": "stderr",
     "output_type": "stream",
     "text": [
      "[Parallel(n_jobs=1)]: Done  17 tasks      | elapsed:    9.3s\n"
     ]
    },
    {
     "name": "stdout",
     "output_type": "stream",
     "text": [
      "Subject 14: Morlet Transform saved to /kaggle/working/cleaned_data_og/morlet_transform/subject_14.npy\n"
     ]
    },
    {
     "name": "stderr",
     "output_type": "stream",
     "text": [
      "[Parallel(n_jobs=1)]: Done  17 tasks      | elapsed:    9.0s\n"
     ]
    },
    {
     "name": "stdout",
     "output_type": "stream",
     "text": [
      "Subject 15: Morlet Transform saved to /kaggle/working/cleaned_data_og/morlet_transform/subject_15.npy\n"
     ]
    },
    {
     "name": "stderr",
     "output_type": "stream",
     "text": [
      "[Parallel(n_jobs=1)]: Done  17 tasks      | elapsed:    9.5s\n"
     ]
    },
    {
     "name": "stdout",
     "output_type": "stream",
     "text": [
      "Subject 16: Morlet Transform saved to /kaggle/working/cleaned_data_og/morlet_transform/subject_16.npy\n"
     ]
    },
    {
     "name": "stderr",
     "output_type": "stream",
     "text": [
      "[Parallel(n_jobs=1)]: Done  17 tasks      | elapsed:    8.6s\n"
     ]
    },
    {
     "name": "stdout",
     "output_type": "stream",
     "text": [
      "Subject 17: Morlet Transform saved to /kaggle/working/cleaned_data_og/morlet_transform/subject_17.npy\n"
     ]
    },
    {
     "name": "stderr",
     "output_type": "stream",
     "text": [
      "[Parallel(n_jobs=1)]: Done  17 tasks      | elapsed:    9.4s\n"
     ]
    },
    {
     "name": "stdout",
     "output_type": "stream",
     "text": [
      "Subject 18: Morlet Transform saved to /kaggle/working/cleaned_data_og/morlet_transform/subject_18.npy\n"
     ]
    },
    {
     "name": "stderr",
     "output_type": "stream",
     "text": [
      "[Parallel(n_jobs=1)]: Done  17 tasks      | elapsed:   13.0s\n"
     ]
    },
    {
     "name": "stdout",
     "output_type": "stream",
     "text": [
      "Subject 19: Morlet Transform saved to /kaggle/working/cleaned_data_og/morlet_transform/subject_19.npy\n"
     ]
    },
    {
     "name": "stderr",
     "output_type": "stream",
     "text": [
      "[Parallel(n_jobs=1)]: Done  17 tasks      | elapsed:    8.9s\n"
     ]
    },
    {
     "name": "stdout",
     "output_type": "stream",
     "text": [
      "Subject 20: Morlet Transform saved to /kaggle/working/cleaned_data_og/morlet_transform/subject_20.npy\n"
     ]
    },
    {
     "name": "stderr",
     "output_type": "stream",
     "text": [
      "[Parallel(n_jobs=1)]: Done  17 tasks      | elapsed:    9.5s\n"
     ]
    },
    {
     "name": "stdout",
     "output_type": "stream",
     "text": [
      "Subject 21: Morlet Transform saved to /kaggle/working/cleaned_data_og/morlet_transform/subject_21.npy\n"
     ]
    },
    {
     "name": "stderr",
     "output_type": "stream",
     "text": [
      "[Parallel(n_jobs=1)]: Done  17 tasks      | elapsed:    8.3s\n"
     ]
    },
    {
     "name": "stdout",
     "output_type": "stream",
     "text": [
      "Subject 22: Morlet Transform saved to /kaggle/working/cleaned_data_og/morlet_transform/subject_22.npy\n"
     ]
    },
    {
     "name": "stderr",
     "output_type": "stream",
     "text": [
      "[Parallel(n_jobs=1)]: Done  17 tasks      | elapsed:    8.5s\n"
     ]
    },
    {
     "name": "stdout",
     "output_type": "stream",
     "text": [
      "Subject 23: Morlet Transform saved to /kaggle/working/cleaned_data_og/morlet_transform/subject_23.npy\n"
     ]
    },
    {
     "name": "stderr",
     "output_type": "stream",
     "text": [
      "[Parallel(n_jobs=1)]: Done  17 tasks      | elapsed:    7.6s\n"
     ]
    },
    {
     "name": "stdout",
     "output_type": "stream",
     "text": [
      "Subject 24: Morlet Transform saved to /kaggle/working/cleaned_data_og/morlet_transform/subject_24.npy\n"
     ]
    },
    {
     "name": "stderr",
     "output_type": "stream",
     "text": [
      "[Parallel(n_jobs=1)]: Done  17 tasks      | elapsed:    7.0s\n"
     ]
    },
    {
     "name": "stdout",
     "output_type": "stream",
     "text": [
      "Subject 25: Morlet Transform saved to /kaggle/working/cleaned_data_og/morlet_transform/subject_25.npy\n"
     ]
    },
    {
     "name": "stderr",
     "output_type": "stream",
     "text": [
      "[Parallel(n_jobs=1)]: Done  17 tasks      | elapsed:    9.2s\n"
     ]
    },
    {
     "name": "stdout",
     "output_type": "stream",
     "text": [
      "Subject 26: Morlet Transform saved to /kaggle/working/cleaned_data_og/morlet_transform/subject_26.npy\n"
     ]
    },
    {
     "name": "stderr",
     "output_type": "stream",
     "text": [
      "[Parallel(n_jobs=1)]: Done  17 tasks      | elapsed:    8.6s\n"
     ]
    },
    {
     "name": "stdout",
     "output_type": "stream",
     "text": [
      "Subject 27: Morlet Transform saved to /kaggle/working/cleaned_data_og/morlet_transform/subject_27.npy\n"
     ]
    },
    {
     "name": "stderr",
     "output_type": "stream",
     "text": [
      "[Parallel(n_jobs=1)]: Done  17 tasks      | elapsed:    8.0s\n"
     ]
    },
    {
     "name": "stdout",
     "output_type": "stream",
     "text": [
      "Subject 28: Morlet Transform saved to /kaggle/working/cleaned_data_og/morlet_transform/subject_28.npy\n"
     ]
    },
    {
     "name": "stderr",
     "output_type": "stream",
     "text": [
      "[Parallel(n_jobs=1)]: Done  17 tasks      | elapsed:    7.5s\n"
     ]
    },
    {
     "name": "stdout",
     "output_type": "stream",
     "text": [
      "Subject 29: Morlet Transform saved to /kaggle/working/cleaned_data_og/morlet_transform/subject_29.npy\n"
     ]
    },
    {
     "name": "stderr",
     "output_type": "stream",
     "text": [
      "[Parallel(n_jobs=1)]: Done  17 tasks      | elapsed:    5.4s\n"
     ]
    },
    {
     "name": "stdout",
     "output_type": "stream",
     "text": [
      "Subject 30: Morlet Transform saved to /kaggle/working/cleaned_data_og/morlet_transform/subject_30.npy\n"
     ]
    },
    {
     "name": "stderr",
     "output_type": "stream",
     "text": [
      "[Parallel(n_jobs=1)]: Done  17 tasks      | elapsed:   11.4s\n"
     ]
    },
    {
     "name": "stdout",
     "output_type": "stream",
     "text": [
      "Subject 31: Morlet Transform saved to /kaggle/working/cleaned_data_og/morlet_transform/subject_31.npy\n"
     ]
    },
    {
     "name": "stderr",
     "output_type": "stream",
     "text": [
      "[Parallel(n_jobs=1)]: Done  17 tasks      | elapsed:    8.1s\n"
     ]
    },
    {
     "name": "stdout",
     "output_type": "stream",
     "text": [
      "Subject 32: Morlet Transform saved to /kaggle/working/cleaned_data_og/morlet_transform/subject_32.npy\n"
     ]
    },
    {
     "name": "stderr",
     "output_type": "stream",
     "text": [
      "[Parallel(n_jobs=1)]: Done  17 tasks      | elapsed:    7.1s\n"
     ]
    },
    {
     "name": "stdout",
     "output_type": "stream",
     "text": [
      "Subject 33: Morlet Transform saved to /kaggle/working/cleaned_data_og/morlet_transform/subject_33.npy\n"
     ]
    },
    {
     "name": "stderr",
     "output_type": "stream",
     "text": [
      "[Parallel(n_jobs=1)]: Done  17 tasks      | elapsed:    9.6s\n"
     ]
    },
    {
     "name": "stdout",
     "output_type": "stream",
     "text": [
      "Subject 34: Morlet Transform saved to /kaggle/working/cleaned_data_og/morlet_transform/subject_34.npy\n"
     ]
    },
    {
     "name": "stderr",
     "output_type": "stream",
     "text": [
      "[Parallel(n_jobs=1)]: Done  17 tasks      | elapsed:    7.5s\n"
     ]
    },
    {
     "name": "stdout",
     "output_type": "stream",
     "text": [
      "Subject 35: Morlet Transform saved to /kaggle/working/cleaned_data_og/morlet_transform/subject_35.npy\n"
     ]
    },
    {
     "name": "stderr",
     "output_type": "stream",
     "text": [
      "[Parallel(n_jobs=1)]: Done  17 tasks      | elapsed:    8.3s\n"
     ]
    },
    {
     "name": "stdout",
     "output_type": "stream",
     "text": [
      "Subject 36: Morlet Transform saved to /kaggle/working/cleaned_data_og/morlet_transform/subject_36.npy\n"
     ]
    },
    {
     "name": "stderr",
     "output_type": "stream",
     "text": [
      "[Parallel(n_jobs=1)]: Done  17 tasks      | elapsed:    7.8s\n"
     ]
    },
    {
     "name": "stdout",
     "output_type": "stream",
     "text": [
      "Subject 37: Morlet Transform saved to /kaggle/working/cleaned_data_og/morlet_transform/subject_37.npy\n"
     ]
    },
    {
     "name": "stderr",
     "output_type": "stream",
     "text": [
      "[Parallel(n_jobs=1)]: Done  17 tasks      | elapsed:    9.1s\n"
     ]
    },
    {
     "name": "stdout",
     "output_type": "stream",
     "text": [
      "Subject 38: Morlet Transform saved to /kaggle/working/cleaned_data_og/morlet_transform/subject_38.npy\n"
     ]
    },
    {
     "name": "stderr",
     "output_type": "stream",
     "text": [
      "[Parallel(n_jobs=1)]: Done  17 tasks      | elapsed:    8.4s\n"
     ]
    },
    {
     "name": "stdout",
     "output_type": "stream",
     "text": [
      "Subject 39: Morlet Transform saved to /kaggle/working/cleaned_data_og/morlet_transform/subject_39.npy\n"
     ]
    },
    {
     "name": "stderr",
     "output_type": "stream",
     "text": [
      "[Parallel(n_jobs=1)]: Done  17 tasks      | elapsed:    9.6s\n"
     ]
    },
    {
     "name": "stdout",
     "output_type": "stream",
     "text": [
      "Subject 40: Morlet Transform saved to /kaggle/working/cleaned_data_og/morlet_transform/subject_40.npy\n"
     ]
    },
    {
     "name": "stderr",
     "output_type": "stream",
     "text": [
      "[Parallel(n_jobs=1)]: Done  17 tasks      | elapsed:    9.0s\n"
     ]
    },
    {
     "name": "stdout",
     "output_type": "stream",
     "text": [
      "Subject 41: Morlet Transform saved to /kaggle/working/cleaned_data_og/morlet_transform/subject_41.npy\n"
     ]
    },
    {
     "name": "stderr",
     "output_type": "stream",
     "text": [
      "[Parallel(n_jobs=1)]: Done  17 tasks      | elapsed:    9.7s\n"
     ]
    },
    {
     "name": "stdout",
     "output_type": "stream",
     "text": [
      "Subject 42: Morlet Transform saved to /kaggle/working/cleaned_data_og/morlet_transform/subject_42.npy\n"
     ]
    },
    {
     "name": "stderr",
     "output_type": "stream",
     "text": [
      "[Parallel(n_jobs=1)]: Done  17 tasks      | elapsed:    8.5s\n"
     ]
    },
    {
     "name": "stdout",
     "output_type": "stream",
     "text": [
      "Subject 43: Morlet Transform saved to /kaggle/working/cleaned_data_og/morlet_transform/subject_43.npy\n"
     ]
    },
    {
     "name": "stderr",
     "output_type": "stream",
     "text": [
      "[Parallel(n_jobs=1)]: Done  17 tasks      | elapsed:    8.7s\n"
     ]
    },
    {
     "name": "stdout",
     "output_type": "stream",
     "text": [
      "Subject 44: Morlet Transform saved to /kaggle/working/cleaned_data_og/morlet_transform/subject_44.npy\n"
     ]
    },
    {
     "name": "stderr",
     "output_type": "stream",
     "text": [
      "[Parallel(n_jobs=1)]: Done  17 tasks      | elapsed:    8.4s\n"
     ]
    },
    {
     "name": "stdout",
     "output_type": "stream",
     "text": [
      "Subject 45: Morlet Transform saved to /kaggle/working/cleaned_data_og/morlet_transform/subject_45.npy\n"
     ]
    },
    {
     "name": "stderr",
     "output_type": "stream",
     "text": [
      "[Parallel(n_jobs=1)]: Done  17 tasks      | elapsed:    7.6s\n"
     ]
    },
    {
     "name": "stdout",
     "output_type": "stream",
     "text": [
      "Subject 46: Morlet Transform saved to /kaggle/working/cleaned_data_og/morlet_transform/subject_46.npy\n"
     ]
    },
    {
     "name": "stderr",
     "output_type": "stream",
     "text": [
      "[Parallel(n_jobs=1)]: Done  17 tasks      | elapsed:    8.2s\n"
     ]
    },
    {
     "name": "stdout",
     "output_type": "stream",
     "text": [
      "Subject 47: Morlet Transform saved to /kaggle/working/cleaned_data_og/morlet_transform/subject_47.npy\n"
     ]
    },
    {
     "name": "stderr",
     "output_type": "stream",
     "text": [
      "[Parallel(n_jobs=1)]: Done  17 tasks      | elapsed:   10.2s\n"
     ]
    },
    {
     "name": "stdout",
     "output_type": "stream",
     "text": [
      "Subject 48: Morlet Transform saved to /kaggle/working/cleaned_data_og/morlet_transform/subject_48.npy\n"
     ]
    },
    {
     "name": "stderr",
     "output_type": "stream",
     "text": [
      "[Parallel(n_jobs=1)]: Done  17 tasks      | elapsed:    7.9s\n"
     ]
    },
    {
     "name": "stdout",
     "output_type": "stream",
     "text": [
      "Subject 49: Morlet Transform saved to /kaggle/working/cleaned_data_og/morlet_transform/subject_49.npy\n"
     ]
    },
    {
     "name": "stderr",
     "output_type": "stream",
     "text": [
      "[Parallel(n_jobs=1)]: Done  17 tasks      | elapsed:    8.0s\n"
     ]
    },
    {
     "name": "stdout",
     "output_type": "stream",
     "text": [
      "Subject 50: Morlet Transform saved to /kaggle/working/cleaned_data_og/morlet_transform/subject_50.npy\n"
     ]
    },
    {
     "name": "stderr",
     "output_type": "stream",
     "text": [
      "[Parallel(n_jobs=1)]: Done  17 tasks      | elapsed:    7.5s\n"
     ]
    },
    {
     "name": "stdout",
     "output_type": "stream",
     "text": [
      "Subject 51: Morlet Transform saved to /kaggle/working/cleaned_data_og/morlet_transform/subject_51.npy\n"
     ]
    },
    {
     "name": "stderr",
     "output_type": "stream",
     "text": [
      "[Parallel(n_jobs=1)]: Done  17 tasks      | elapsed:    7.6s\n"
     ]
    },
    {
     "name": "stdout",
     "output_type": "stream",
     "text": [
      "Subject 52: Morlet Transform saved to /kaggle/working/cleaned_data_og/morlet_transform/subject_52.npy\n"
     ]
    },
    {
     "name": "stderr",
     "output_type": "stream",
     "text": [
      "[Parallel(n_jobs=1)]: Done  17 tasks      | elapsed:    7.8s\n"
     ]
    },
    {
     "name": "stdout",
     "output_type": "stream",
     "text": [
      "Subject 53: Morlet Transform saved to /kaggle/working/cleaned_data_og/morlet_transform/subject_53.npy\n"
     ]
    },
    {
     "name": "stderr",
     "output_type": "stream",
     "text": [
      "[Parallel(n_jobs=1)]: Done  17 tasks      | elapsed:    8.4s\n"
     ]
    },
    {
     "name": "stdout",
     "output_type": "stream",
     "text": [
      "Subject 54: Morlet Transform saved to /kaggle/working/cleaned_data_og/morlet_transform/subject_54.npy\n"
     ]
    },
    {
     "name": "stderr",
     "output_type": "stream",
     "text": [
      "[Parallel(n_jobs=1)]: Done  17 tasks      | elapsed:    8.2s\n"
     ]
    },
    {
     "name": "stdout",
     "output_type": "stream",
     "text": [
      "Subject 55: Morlet Transform saved to /kaggle/working/cleaned_data_og/morlet_transform/subject_55.npy\n"
     ]
    },
    {
     "name": "stderr",
     "output_type": "stream",
     "text": [
      "[Parallel(n_jobs=1)]: Done  17 tasks      | elapsed:    7.8s\n"
     ]
    },
    {
     "name": "stdout",
     "output_type": "stream",
     "text": [
      "Subject 56: Morlet Transform saved to /kaggle/working/cleaned_data_og/morlet_transform/subject_56.npy\n"
     ]
    },
    {
     "name": "stderr",
     "output_type": "stream",
     "text": [
      "[Parallel(n_jobs=1)]: Done  17 tasks      | elapsed:    8.1s\n"
     ]
    },
    {
     "name": "stdout",
     "output_type": "stream",
     "text": [
      "Subject 57: Morlet Transform saved to /kaggle/working/cleaned_data_og/morlet_transform/subject_57.npy\n"
     ]
    },
    {
     "name": "stderr",
     "output_type": "stream",
     "text": [
      "[Parallel(n_jobs=1)]: Done  17 tasks      | elapsed:    7.5s\n"
     ]
    },
    {
     "name": "stdout",
     "output_type": "stream",
     "text": [
      "Subject 58: Morlet Transform saved to /kaggle/working/cleaned_data_og/morlet_transform/subject_58.npy\n"
     ]
    },
    {
     "name": "stderr",
     "output_type": "stream",
     "text": [
      "[Parallel(n_jobs=1)]: Done  17 tasks      | elapsed:    7.7s\n"
     ]
    },
    {
     "name": "stdout",
     "output_type": "stream",
     "text": [
      "Subject 59: Morlet Transform saved to /kaggle/working/cleaned_data_og/morlet_transform/subject_59.npy\n"
     ]
    },
    {
     "name": "stderr",
     "output_type": "stream",
     "text": [
      "[Parallel(n_jobs=1)]: Done  17 tasks      | elapsed:    7.5s\n"
     ]
    },
    {
     "name": "stdout",
     "output_type": "stream",
     "text": [
      "Subject 60: Morlet Transform saved to /kaggle/working/cleaned_data_og/morlet_transform/subject_60.npy\n"
     ]
    },
    {
     "name": "stderr",
     "output_type": "stream",
     "text": [
      "[Parallel(n_jobs=1)]: Done  17 tasks      | elapsed:    8.3s\n"
     ]
    },
    {
     "name": "stdout",
     "output_type": "stream",
     "text": [
      "Subject 61: Morlet Transform saved to /kaggle/working/cleaned_data_og/morlet_transform/subject_61.npy\n"
     ]
    },
    {
     "name": "stderr",
     "output_type": "stream",
     "text": [
      "[Parallel(n_jobs=1)]: Done  17 tasks      | elapsed:    8.9s\n"
     ]
    },
    {
     "name": "stdout",
     "output_type": "stream",
     "text": [
      "Subject 62: Morlet Transform saved to /kaggle/working/cleaned_data_og/morlet_transform/subject_62.npy\n"
     ]
    },
    {
     "name": "stderr",
     "output_type": "stream",
     "text": [
      "[Parallel(n_jobs=1)]: Done  17 tasks      | elapsed:    8.3s\n"
     ]
    },
    {
     "name": "stdout",
     "output_type": "stream",
     "text": [
      "Subject 63: Morlet Transform saved to /kaggle/working/cleaned_data_og/morlet_transform/subject_63.npy\n"
     ]
    },
    {
     "name": "stderr",
     "output_type": "stream",
     "text": [
      "[Parallel(n_jobs=1)]: Done  17 tasks      | elapsed:    8.5s\n"
     ]
    },
    {
     "name": "stdout",
     "output_type": "stream",
     "text": [
      "Subject 64: Morlet Transform saved to /kaggle/working/cleaned_data_og/morlet_transform/subject_64.npy\n"
     ]
    },
    {
     "name": "stderr",
     "output_type": "stream",
     "text": [
      "[Parallel(n_jobs=1)]: Done  17 tasks      | elapsed:    9.0s\n"
     ]
    },
    {
     "name": "stdout",
     "output_type": "stream",
     "text": [
      "Subject 65: Morlet Transform saved to /kaggle/working/cleaned_data_og/morlet_transform/subject_65.npy\n"
     ]
    },
    {
     "name": "stderr",
     "output_type": "stream",
     "text": [
      "[Parallel(n_jobs=1)]: Done  17 tasks      | elapsed:    5.5s\n"
     ]
    },
    {
     "name": "stdout",
     "output_type": "stream",
     "text": [
      "Subject 66: Morlet Transform saved to /kaggle/working/cleaned_data_og/morlet_transform/subject_66.npy\n"
     ]
    },
    {
     "name": "stderr",
     "output_type": "stream",
     "text": [
      "[Parallel(n_jobs=1)]: Done  17 tasks      | elapsed:    6.3s\n"
     ]
    },
    {
     "name": "stdout",
     "output_type": "stream",
     "text": [
      "Subject 67: Morlet Transform saved to /kaggle/working/cleaned_data_og/morlet_transform/subject_67.npy\n"
     ]
    },
    {
     "name": "stderr",
     "output_type": "stream",
     "text": [
      "[Parallel(n_jobs=1)]: Done  17 tasks      | elapsed:    5.7s\n"
     ]
    },
    {
     "name": "stdout",
     "output_type": "stream",
     "text": [
      "Subject 68: Morlet Transform saved to /kaggle/working/cleaned_data_og/morlet_transform/subject_68.npy\n"
     ]
    },
    {
     "name": "stderr",
     "output_type": "stream",
     "text": [
      "[Parallel(n_jobs=1)]: Done  17 tasks      | elapsed:    6.6s\n"
     ]
    },
    {
     "name": "stdout",
     "output_type": "stream",
     "text": [
      "Subject 69: Morlet Transform saved to /kaggle/working/cleaned_data_og/morlet_transform/subject_69.npy\n"
     ]
    },
    {
     "name": "stderr",
     "output_type": "stream",
     "text": [
      "[Parallel(n_jobs=1)]: Done  17 tasks      | elapsed:    4.8s\n"
     ]
    },
    {
     "name": "stdout",
     "output_type": "stream",
     "text": [
      "Subject 70: Morlet Transform saved to /kaggle/working/cleaned_data_og/morlet_transform/subject_70.npy\n"
     ]
    },
    {
     "name": "stderr",
     "output_type": "stream",
     "text": [
      "[Parallel(n_jobs=1)]: Done  17 tasks      | elapsed:    6.2s\n"
     ]
    },
    {
     "name": "stdout",
     "output_type": "stream",
     "text": [
      "Subject 71: Morlet Transform saved to /kaggle/working/cleaned_data_og/morlet_transform/subject_71.npy\n"
     ]
    },
    {
     "name": "stderr",
     "output_type": "stream",
     "text": [
      "[Parallel(n_jobs=1)]: Done  17 tasks      | elapsed:    6.7s\n"
     ]
    },
    {
     "name": "stdout",
     "output_type": "stream",
     "text": [
      "Subject 72: Morlet Transform saved to /kaggle/working/cleaned_data_og/morlet_transform/subject_72.npy\n"
     ]
    },
    {
     "name": "stderr",
     "output_type": "stream",
     "text": [
      "[Parallel(n_jobs=1)]: Done  17 tasks      | elapsed:    8.4s\n"
     ]
    },
    {
     "name": "stdout",
     "output_type": "stream",
     "text": [
      "Subject 73: Morlet Transform saved to /kaggle/working/cleaned_data_og/morlet_transform/subject_73.npy\n"
     ]
    },
    {
     "name": "stderr",
     "output_type": "stream",
     "text": [
      "[Parallel(n_jobs=1)]: Done  17 tasks      | elapsed:   17.3s\n"
     ]
    },
    {
     "name": "stdout",
     "output_type": "stream",
     "text": [
      "Subject 74: Morlet Transform saved to /kaggle/working/cleaned_data_og/morlet_transform/subject_74.npy\n"
     ]
    },
    {
     "name": "stderr",
     "output_type": "stream",
     "text": [
      "[Parallel(n_jobs=1)]: Done  17 tasks      | elapsed:    7.5s\n"
     ]
    },
    {
     "name": "stdout",
     "output_type": "stream",
     "text": [
      "Subject 75: Morlet Transform saved to /kaggle/working/cleaned_data_og/morlet_transform/subject_75.npy\n"
     ]
    },
    {
     "name": "stderr",
     "output_type": "stream",
     "text": [
      "[Parallel(n_jobs=1)]: Done  17 tasks      | elapsed:    8.1s\n"
     ]
    },
    {
     "name": "stdout",
     "output_type": "stream",
     "text": [
      "Subject 76: Morlet Transform saved to /kaggle/working/cleaned_data_og/morlet_transform/subject_76.npy\n"
     ]
    },
    {
     "name": "stderr",
     "output_type": "stream",
     "text": [
      "[Parallel(n_jobs=1)]: Done  17 tasks      | elapsed:    7.1s\n"
     ]
    },
    {
     "name": "stdout",
     "output_type": "stream",
     "text": [
      "Subject 77: Morlet Transform saved to /kaggle/working/cleaned_data_og/morlet_transform/subject_77.npy\n"
     ]
    },
    {
     "name": "stderr",
     "output_type": "stream",
     "text": [
      "[Parallel(n_jobs=1)]: Done  17 tasks      | elapsed:    8.8s\n"
     ]
    },
    {
     "name": "stdout",
     "output_type": "stream",
     "text": [
      "Subject 78: Morlet Transform saved to /kaggle/working/cleaned_data_og/morlet_transform/subject_78.npy\n"
     ]
    },
    {
     "name": "stderr",
     "output_type": "stream",
     "text": [
      "[Parallel(n_jobs=1)]: Done  17 tasks      | elapsed:    8.2s\n"
     ]
    },
    {
     "name": "stdout",
     "output_type": "stream",
     "text": [
      "Subject 79: Morlet Transform saved to /kaggle/working/cleaned_data_og/morlet_transform/subject_79.npy\n"
     ]
    },
    {
     "name": "stderr",
     "output_type": "stream",
     "text": [
      "[Parallel(n_jobs=1)]: Done  17 tasks      | elapsed:    9.5s\n"
     ]
    },
    {
     "name": "stdout",
     "output_type": "stream",
     "text": [
      "Subject 80: Morlet Transform saved to /kaggle/working/cleaned_data_og/morlet_transform/subject_80.npy\n"
     ]
    },
    {
     "name": "stderr",
     "output_type": "stream",
     "text": [
      "[Parallel(n_jobs=1)]: Done  17 tasks      | elapsed:    8.1s\n"
     ]
    },
    {
     "name": "stdout",
     "output_type": "stream",
     "text": [
      "Subject 81: Morlet Transform saved to /kaggle/working/cleaned_data_og/morlet_transform/subject_81.npy\n"
     ]
    },
    {
     "name": "stderr",
     "output_type": "stream",
     "text": [
      "[Parallel(n_jobs=1)]: Done  17 tasks      | elapsed:    8.0s\n"
     ]
    },
    {
     "name": "stdout",
     "output_type": "stream",
     "text": [
      "Subject 82: Morlet Transform saved to /kaggle/working/cleaned_data_og/morlet_transform/subject_82.npy\n"
     ]
    },
    {
     "name": "stderr",
     "output_type": "stream",
     "text": [
      "[Parallel(n_jobs=1)]: Done  17 tasks      | elapsed:    9.1s\n"
     ]
    },
    {
     "name": "stdout",
     "output_type": "stream",
     "text": [
      "Subject 83: Morlet Transform saved to /kaggle/working/cleaned_data_og/morlet_transform/subject_83.npy\n"
     ]
    },
    {
     "name": "stderr",
     "output_type": "stream",
     "text": [
      "[Parallel(n_jobs=1)]: Done  17 tasks      | elapsed:    6.6s\n"
     ]
    },
    {
     "name": "stdout",
     "output_type": "stream",
     "text": [
      "Subject 84: Morlet Transform saved to /kaggle/working/cleaned_data_og/morlet_transform/subject_84.npy\n"
     ]
    },
    {
     "name": "stderr",
     "output_type": "stream",
     "text": [
      "[Parallel(n_jobs=1)]: Done  17 tasks      | elapsed:    5.8s\n"
     ]
    },
    {
     "name": "stdout",
     "output_type": "stream",
     "text": [
      "Subject 85: Morlet Transform saved to /kaggle/working/cleaned_data_og/morlet_transform/subject_85.npy\n"
     ]
    },
    {
     "name": "stderr",
     "output_type": "stream",
     "text": [
      "[Parallel(n_jobs=1)]: Done  17 tasks      | elapsed:    5.9s\n"
     ]
    },
    {
     "name": "stdout",
     "output_type": "stream",
     "text": [
      "Subject 86: Morlet Transform saved to /kaggle/working/cleaned_data_og/morlet_transform/subject_86.npy\n"
     ]
    },
    {
     "name": "stderr",
     "output_type": "stream",
     "text": [
      "[Parallel(n_jobs=1)]: Done  17 tasks      | elapsed:    6.0s\n"
     ]
    },
    {
     "name": "stdout",
     "output_type": "stream",
     "text": [
      "Subject 87: Morlet Transform saved to /kaggle/working/cleaned_data_og/morlet_transform/subject_87.npy\n"
     ]
    },
    {
     "name": "stderr",
     "output_type": "stream",
     "text": [
      "[Parallel(n_jobs=1)]: Done  17 tasks      | elapsed:    7.8s\n"
     ]
    },
    {
     "name": "stdout",
     "output_type": "stream",
     "text": [
      "Subject 88: Morlet Transform saved to /kaggle/working/cleaned_data_og/morlet_transform/subject_88.npy\n"
     ]
    }
   ],
   "source": [
    "import numpy as np\n",
    "from scipy.signal import coherence\n",
    "import os\n",
    "\n",
    "\n",
    "output_dir = \"/kaggle/working/cleaned_data_og/morlet_transform/\"\n",
    "if not os.path.exists(output_dir):\n",
    "    os.makedirs(output_dir)\n",
    "\n",
    "for subject in range(1, 89):\n",
    "    file_path = f\"/kaggle/input/epoched-cleaned/epochs_data/subject_{subject}.npy\"\n",
    "    output_file = os.path.join(output_dir, f\"subject_{subject}.npy\")\n",
    "    \n",
    "    if os.path.exists(file_path):\n",
    "        data = np.load(file_path)\n",
    "        z = morlet_transform(data)\n",
    "        np.save(output_file, z)\n",
    "        print(f\"Subject {subject}: Morlet Transform saved to {output_file}\")\n",
    "    else:\n",
    "        print(f\"Subject {subject} file not found, skipping.\")"
   ]
  },
  {
   "cell_type": "code",
   "execution_count": 4,
   "id": "4ea6fa92",
   "metadata": {
    "execution": {
     "iopub.execute_input": "2024-04-18T02:37:14.521641Z",
     "iopub.status.busy": "2024-04-18T02:37:14.521148Z",
     "iopub.status.idle": "2024-04-18T02:37:14.586999Z",
     "shell.execute_reply": "2024-04-18T02:37:14.586106Z"
    },
    "papermill": {
     "duration": 0.092436,
     "end_time": "2024-04-18T02:37:14.590000",
     "exception": false,
     "start_time": "2024-04-18T02:37:14.497564",
     "status": "completed"
    },
    "tags": []
   },
   "outputs": [
    {
     "name": "stdout",
     "output_type": "stream",
     "text": [
      "Subject 1 file not found, skipping.\n",
      "Subject 2 file not found, skipping.\n",
      "Subject 3 file not found, skipping.\n",
      "Subject 4 file not found, skipping.\n",
      "Subject 5 file not found, skipping.\n",
      "Subject 6 file not found, skipping.\n",
      "Subject 7 file not found, skipping.\n",
      "Subject 8 file not found, skipping.\n",
      "Subject 9 file not found, skipping.\n",
      "Subject 10 file not found, skipping.\n",
      "Subject 11 file not found, skipping.\n",
      "Subject 12 file not found, skipping.\n",
      "Subject 13 file not found, skipping.\n",
      "Subject 14 file not found, skipping.\n",
      "Subject 15 file not found, skipping.\n",
      "Subject 16 file not found, skipping.\n",
      "Subject 17 file not found, skipping.\n",
      "Subject 18 file not found, skipping.\n",
      "Subject 19 file not found, skipping.\n",
      "Subject 20 file not found, skipping.\n",
      "Subject 21 file not found, skipping.\n",
      "Subject 22 file not found, skipping.\n",
      "Subject 23 file not found, skipping.\n",
      "Subject 24 file not found, skipping.\n",
      "Subject 25 file not found, skipping.\n",
      "Subject 26 file not found, skipping.\n",
      "Subject 27 file not found, skipping.\n",
      "Subject 28 file not found, skipping.\n",
      "Subject 29 file not found, skipping.\n",
      "Subject 30 file not found, skipping.\n",
      "Subject 31 file not found, skipping.\n",
      "Subject 32 file not found, skipping.\n",
      "Subject 33 file not found, skipping.\n",
      "Subject 34 file not found, skipping.\n",
      "Subject 35 file not found, skipping.\n",
      "Subject 36 file not found, skipping.\n",
      "Subject 37 file not found, skipping.\n",
      "Subject 38 file not found, skipping.\n",
      "Subject 39 file not found, skipping.\n",
      "Subject 40 file not found, skipping.\n",
      "Subject 41 file not found, skipping.\n",
      "Subject 42 file not found, skipping.\n",
      "Subject 43 file not found, skipping.\n",
      "Subject 44 file not found, skipping.\n",
      "Subject 45 file not found, skipping.\n",
      "Subject 46 file not found, skipping.\n",
      "Subject 47 file not found, skipping.\n",
      "Subject 48 file not found, skipping.\n",
      "Subject 49 file not found, skipping.\n",
      "Subject 50 file not found, skipping.\n",
      "Subject 51 file not found, skipping.\n",
      "Subject 52 file not found, skipping.\n",
      "Subject 53 file not found, skipping.\n",
      "Subject 54 file not found, skipping.\n",
      "Subject 55 file not found, skipping.\n",
      "Subject 56 file not found, skipping.\n",
      "Subject 57 file not found, skipping.\n",
      "Subject 58 file not found, skipping.\n",
      "Subject 59 file not found, skipping.\n",
      "Subject 60 file not found, skipping.\n",
      "Subject 61 file not found, skipping.\n",
      "Subject 62 file not found, skipping.\n",
      "Subject 63 file not found, skipping.\n",
      "Subject 64 file not found, skipping.\n",
      "Subject 65 file not found, skipping.\n",
      "Subject 66 file not found, skipping.\n",
      "Subject 67 file not found, skipping.\n",
      "Subject 68 file not found, skipping.\n",
      "Subject 69 file not found, skipping.\n",
      "Subject 70 file not found, skipping.\n",
      "Subject 71 file not found, skipping.\n",
      "Subject 72 file not found, skipping.\n",
      "Subject 73 file not found, skipping.\n",
      "Subject 74 file not found, skipping.\n",
      "Subject 75 file not found, skipping.\n",
      "Subject 76 file not found, skipping.\n",
      "Subject 77 file not found, skipping.\n",
      "Subject 78 file not found, skipping.\n",
      "Subject 79 file not found, skipping.\n",
      "Subject 80 file not found, skipping.\n",
      "Subject 81 file not found, skipping.\n",
      "Subject 82 file not found, skipping.\n",
      "Subject 83 file not found, skipping.\n",
      "Subject 84 file not found, skipping.\n",
      "Subject 85 file not found, skipping.\n",
      "Subject 86 file not found, skipping.\n",
      "Subject 87 file not found, skipping.\n",
      "Subject 88 file not found, skipping.\n"
     ]
    }
   ],
   "source": [
    "import numpy as np\n",
    "from scipy.signal import coherence\n",
    "import os\n",
    "\n",
    "\n",
    "output_dir = \"/kaggle/working/cleaned_data_custom/morlet_transform/\"\n",
    "if not os.path.exists(output_dir):\n",
    "    os.makedirs(output_dir)\n",
    "\n",
    "for subject in range(1, 89):\n",
    "    file_path = f\"/kaggle/input/fork-of-cleaned-custom-epochs/subject_{subject}.npy\"\n",
    "    output_file = os.path.join(output_dir, f\"subject_{subject}.npy\")\n",
    "    \n",
    "    if os.path.exists(file_path):\n",
    "        data = np.load(file_path)\n",
    "        z = morlet_transform(data)\n",
    "        np.save(output_file, z)\n",
    "        print(f\"Subject {subject}: Morlet Transform saved to {output_file}\")\n",
    "    else:\n",
    "        print(f\"Subject {subject} file not found, skipping.\")"
   ]
  },
  {
   "cell_type": "code",
   "execution_count": 5,
   "id": "536b564c",
   "metadata": {
    "execution": {
     "iopub.execute_input": "2024-04-18T02:37:14.633534Z",
     "iopub.status.busy": "2024-04-18T02:37:14.633102Z",
     "iopub.status.idle": "2024-04-18T02:37:14.644129Z",
     "shell.execute_reply": "2024-04-18T02:37:14.642780Z"
    },
    "papermill": {
     "duration": 0.036038,
     "end_time": "2024-04-18T02:37:14.646821",
     "exception": false,
     "start_time": "2024-04-18T02:37:14.610783",
     "status": "completed"
    },
    "tags": []
   },
   "outputs": [],
   "source": [
    "import numpy as np\n",
    "from scipy import signal\n",
    "\n",
    "def compute_psd(data, sampling_rate, nperseg=256, noverlap=128):\n",
    "    \"\"\"\n",
    "    Compute the power spectral density (PSD) of data with shape (trials, channels, time).\n",
    "\n",
    "    Args:\n",
    "        data (np.ndarray): Input data with shape (trials, channels, time).\n",
    "        sampling_rate (float): Sampling rate of the data (samples per second).\n",
    "        nperseg (int, optional): Length of each segment for the welch method.\n",
    "            Default is 256.\n",
    "        noverlap (int, optional): Number of points to overlap between segments.\n",
    "            Default is 128.\n",
    "\n",
    "    Returns:\n",
    "        np.ndarray: Array of PSDs with shape (trials, channels, time_points // 2 + 1).\n",
    "    \"\"\"\n",
    "    trials, channels, time_points = data.shape\n",
    "\n",
    "    # Compute the number of frequency bins\n",
    "    nfft = nperseg\n",
    "    freq_bins = nfft // 2 + 1\n",
    "\n",
    "    # Initialize an array to store the PSDs\n",
    "    psds = np.zeros((trials, channels, freq_bins))\n",
    "\n",
    "    # Iterate over trials and channels\n",
    "    for trial in range(trials):\n",
    "        for channel in range(channels):\n",
    "            # Compute the PSD for the current trial and channel\n",
    "            f, Pxx = signal.welch(data[trial, channel, :], fs=sampling_rate, nperseg=nperseg, noverlap=noverlap, nfft=nfft)\n",
    "            psds[trial, channel, :] = Pxx\n",
    "\n",
    "    return np.array(psds)"
   ]
  },
  {
   "cell_type": "code",
   "execution_count": 6,
   "id": "a9a6fce2",
   "metadata": {
    "execution": {
     "iopub.execute_input": "2024-04-18T02:37:14.689146Z",
     "iopub.status.busy": "2024-04-18T02:37:14.688726Z",
     "iopub.status.idle": "2024-04-18T02:38:19.538226Z",
     "shell.execute_reply": "2024-04-18T02:38:19.536530Z"
    },
    "papermill": {
     "duration": 64.87509,
     "end_time": "2024-04-18T02:38:19.542116",
     "exception": false,
     "start_time": "2024-04-18T02:37:14.667026",
     "status": "completed"
    },
    "tags": []
   },
   "outputs": [
    {
     "name": "stdout",
     "output_type": "stream",
     "text": [
      "Subject 1: Morlet Transform saved to /kaggle/working/cleaned_data_og/psd/subject_1.npy\n",
      "Subject 2: Morlet Transform saved to /kaggle/working/cleaned_data_og/psd/subject_2.npy\n",
      "Subject 3: Morlet Transform saved to /kaggle/working/cleaned_data_og/psd/subject_3.npy\n",
      "Subject 4: Morlet Transform saved to /kaggle/working/cleaned_data_og/psd/subject_4.npy\n",
      "Subject 5: Morlet Transform saved to /kaggle/working/cleaned_data_og/psd/subject_5.npy\n",
      "Subject 6: Morlet Transform saved to /kaggle/working/cleaned_data_og/psd/subject_6.npy\n",
      "Subject 7: Morlet Transform saved to /kaggle/working/cleaned_data_og/psd/subject_7.npy\n",
      "Subject 8: Morlet Transform saved to /kaggle/working/cleaned_data_og/psd/subject_8.npy\n",
      "Subject 9: Morlet Transform saved to /kaggle/working/cleaned_data_og/psd/subject_9.npy\n",
      "Subject 10: Morlet Transform saved to /kaggle/working/cleaned_data_og/psd/subject_10.npy\n",
      "Subject 11: Morlet Transform saved to /kaggle/working/cleaned_data_og/psd/subject_11.npy\n",
      "Subject 12: Morlet Transform saved to /kaggle/working/cleaned_data_og/psd/subject_12.npy\n",
      "Subject 13: Morlet Transform saved to /kaggle/working/cleaned_data_og/psd/subject_13.npy\n",
      "Subject 14: Morlet Transform saved to /kaggle/working/cleaned_data_og/psd/subject_14.npy\n",
      "Subject 15: Morlet Transform saved to /kaggle/working/cleaned_data_og/psd/subject_15.npy\n",
      "Subject 16: Morlet Transform saved to /kaggle/working/cleaned_data_og/psd/subject_16.npy\n",
      "Subject 17: Morlet Transform saved to /kaggle/working/cleaned_data_og/psd/subject_17.npy\n",
      "Subject 18: Morlet Transform saved to /kaggle/working/cleaned_data_og/psd/subject_18.npy\n",
      "Subject 19: Morlet Transform saved to /kaggle/working/cleaned_data_og/psd/subject_19.npy\n",
      "Subject 20: Morlet Transform saved to /kaggle/working/cleaned_data_og/psd/subject_20.npy\n",
      "Subject 21: Morlet Transform saved to /kaggle/working/cleaned_data_og/psd/subject_21.npy\n",
      "Subject 22: Morlet Transform saved to /kaggle/working/cleaned_data_og/psd/subject_22.npy\n",
      "Subject 23: Morlet Transform saved to /kaggle/working/cleaned_data_og/psd/subject_23.npy\n",
      "Subject 24: Morlet Transform saved to /kaggle/working/cleaned_data_og/psd/subject_24.npy\n",
      "Subject 25: Morlet Transform saved to /kaggle/working/cleaned_data_og/psd/subject_25.npy\n",
      "Subject 26: Morlet Transform saved to /kaggle/working/cleaned_data_og/psd/subject_26.npy\n",
      "Subject 27: Morlet Transform saved to /kaggle/working/cleaned_data_og/psd/subject_27.npy\n",
      "Subject 28: Morlet Transform saved to /kaggle/working/cleaned_data_og/psd/subject_28.npy\n",
      "Subject 29: Morlet Transform saved to /kaggle/working/cleaned_data_og/psd/subject_29.npy\n",
      "Subject 30: Morlet Transform saved to /kaggle/working/cleaned_data_og/psd/subject_30.npy\n",
      "Subject 31: Morlet Transform saved to /kaggle/working/cleaned_data_og/psd/subject_31.npy\n",
      "Subject 32: Morlet Transform saved to /kaggle/working/cleaned_data_og/psd/subject_32.npy\n",
      "Subject 33: Morlet Transform saved to /kaggle/working/cleaned_data_og/psd/subject_33.npy\n",
      "Subject 34: Morlet Transform saved to /kaggle/working/cleaned_data_og/psd/subject_34.npy\n",
      "Subject 35: Morlet Transform saved to /kaggle/working/cleaned_data_og/psd/subject_35.npy\n",
      "Subject 36: Morlet Transform saved to /kaggle/working/cleaned_data_og/psd/subject_36.npy\n",
      "Subject 37: Morlet Transform saved to /kaggle/working/cleaned_data_og/psd/subject_37.npy\n",
      "Subject 38: Morlet Transform saved to /kaggle/working/cleaned_data_og/psd/subject_38.npy\n",
      "Subject 39: Morlet Transform saved to /kaggle/working/cleaned_data_og/psd/subject_39.npy\n",
      "Subject 40: Morlet Transform saved to /kaggle/working/cleaned_data_og/psd/subject_40.npy\n",
      "Subject 41: Morlet Transform saved to /kaggle/working/cleaned_data_og/psd/subject_41.npy\n",
      "Subject 42: Morlet Transform saved to /kaggle/working/cleaned_data_og/psd/subject_42.npy\n",
      "Subject 43: Morlet Transform saved to /kaggle/working/cleaned_data_og/psd/subject_43.npy\n",
      "Subject 44: Morlet Transform saved to /kaggle/working/cleaned_data_og/psd/subject_44.npy\n",
      "Subject 45: Morlet Transform saved to /kaggle/working/cleaned_data_og/psd/subject_45.npy\n",
      "Subject 46: Morlet Transform saved to /kaggle/working/cleaned_data_og/psd/subject_46.npy\n",
      "Subject 47: Morlet Transform saved to /kaggle/working/cleaned_data_og/psd/subject_47.npy\n",
      "Subject 48: Morlet Transform saved to /kaggle/working/cleaned_data_og/psd/subject_48.npy\n",
      "Subject 49: Morlet Transform saved to /kaggle/working/cleaned_data_og/psd/subject_49.npy\n",
      "Subject 50: Morlet Transform saved to /kaggle/working/cleaned_data_og/psd/subject_50.npy\n",
      "Subject 51: Morlet Transform saved to /kaggle/working/cleaned_data_og/psd/subject_51.npy\n",
      "Subject 52: Morlet Transform saved to /kaggle/working/cleaned_data_og/psd/subject_52.npy\n",
      "Subject 53: Morlet Transform saved to /kaggle/working/cleaned_data_og/psd/subject_53.npy\n",
      "Subject 54: Morlet Transform saved to /kaggle/working/cleaned_data_og/psd/subject_54.npy\n",
      "Subject 55: Morlet Transform saved to /kaggle/working/cleaned_data_og/psd/subject_55.npy\n",
      "Subject 56: Morlet Transform saved to /kaggle/working/cleaned_data_og/psd/subject_56.npy\n",
      "Subject 57: Morlet Transform saved to /kaggle/working/cleaned_data_og/psd/subject_57.npy\n",
      "Subject 58: Morlet Transform saved to /kaggle/working/cleaned_data_og/psd/subject_58.npy\n",
      "Subject 59: Morlet Transform saved to /kaggle/working/cleaned_data_og/psd/subject_59.npy\n",
      "Subject 60: Morlet Transform saved to /kaggle/working/cleaned_data_og/psd/subject_60.npy\n",
      "Subject 61: Morlet Transform saved to /kaggle/working/cleaned_data_og/psd/subject_61.npy\n",
      "Subject 62: Morlet Transform saved to /kaggle/working/cleaned_data_og/psd/subject_62.npy\n",
      "Subject 63: Morlet Transform saved to /kaggle/working/cleaned_data_og/psd/subject_63.npy\n",
      "Subject 64: Morlet Transform saved to /kaggle/working/cleaned_data_og/psd/subject_64.npy\n",
      "Subject 65: Morlet Transform saved to /kaggle/working/cleaned_data_og/psd/subject_65.npy\n",
      "Subject 66: Morlet Transform saved to /kaggle/working/cleaned_data_og/psd/subject_66.npy\n",
      "Subject 67: Morlet Transform saved to /kaggle/working/cleaned_data_og/psd/subject_67.npy\n",
      "Subject 68: Morlet Transform saved to /kaggle/working/cleaned_data_og/psd/subject_68.npy\n",
      "Subject 69: Morlet Transform saved to /kaggle/working/cleaned_data_og/psd/subject_69.npy\n",
      "Subject 70: Morlet Transform saved to /kaggle/working/cleaned_data_og/psd/subject_70.npy\n",
      "Subject 71: Morlet Transform saved to /kaggle/working/cleaned_data_og/psd/subject_71.npy\n",
      "Subject 72: Morlet Transform saved to /kaggle/working/cleaned_data_og/psd/subject_72.npy\n",
      "Subject 73: Morlet Transform saved to /kaggle/working/cleaned_data_og/psd/subject_73.npy\n",
      "Subject 74: Morlet Transform saved to /kaggle/working/cleaned_data_og/psd/subject_74.npy\n",
      "Subject 75: Morlet Transform saved to /kaggle/working/cleaned_data_og/psd/subject_75.npy\n",
      "Subject 76: Morlet Transform saved to /kaggle/working/cleaned_data_og/psd/subject_76.npy\n",
      "Subject 77: Morlet Transform saved to /kaggle/working/cleaned_data_og/psd/subject_77.npy\n",
      "Subject 78: Morlet Transform saved to /kaggle/working/cleaned_data_og/psd/subject_78.npy\n",
      "Subject 79: Morlet Transform saved to /kaggle/working/cleaned_data_og/psd/subject_79.npy\n",
      "Subject 80: Morlet Transform saved to /kaggle/working/cleaned_data_og/psd/subject_80.npy\n",
      "Subject 81: Morlet Transform saved to /kaggle/working/cleaned_data_og/psd/subject_81.npy\n",
      "Subject 82: Morlet Transform saved to /kaggle/working/cleaned_data_og/psd/subject_82.npy\n",
      "Subject 83: Morlet Transform saved to /kaggle/working/cleaned_data_og/psd/subject_83.npy\n",
      "Subject 84: Morlet Transform saved to /kaggle/working/cleaned_data_og/psd/subject_84.npy\n",
      "Subject 85: Morlet Transform saved to /kaggle/working/cleaned_data_og/psd/subject_85.npy\n",
      "Subject 86: Morlet Transform saved to /kaggle/working/cleaned_data_og/psd/subject_86.npy\n",
      "Subject 87: Morlet Transform saved to /kaggle/working/cleaned_data_og/psd/subject_87.npy\n",
      "Subject 88: Morlet Transform saved to /kaggle/working/cleaned_data_og/psd/subject_88.npy\n"
     ]
    }
   ],
   "source": [
    "import numpy as np\n",
    "from scipy.signal import coherence\n",
    "import os\n",
    "\n",
    "\n",
    "output_dir = \"/kaggle/working/cleaned_data_og/psd/\"\n",
    "if not os.path.exists(output_dir):\n",
    "    os.makedirs(output_dir)\n",
    "\n",
    "for subject in range(1, 89):\n",
    "    file_path = f\"/kaggle/input/epoched-cleaned/epochs_data/subject_{subject}.npy\"\n",
    "    output_file = os.path.join(output_dir, f\"subject_{subject}.npy\")\n",
    "    \n",
    "    if os.path.exists(file_path):\n",
    "        data = np.load(file_path)\n",
    "        z = compute_psd(data,500)\n",
    "        np.save(output_file, z)\n",
    "        print(f\"Subject {subject}: Morlet Transform saved to {output_file}\")\n",
    "    else:\n",
    "        print(f\"Subject {subject} file not found, skipping.\")"
   ]
  },
  {
   "cell_type": "code",
   "execution_count": 7,
   "id": "ac71c01d",
   "metadata": {
    "execution": {
     "iopub.execute_input": "2024-04-18T02:38:19.602745Z",
     "iopub.status.busy": "2024-04-18T02:38:19.602310Z",
     "iopub.status.idle": "2024-04-18T02:39:47.518254Z",
     "shell.execute_reply": "2024-04-18T02:39:47.517080Z"
    },
    "papermill": {
     "duration": 87.94958,
     "end_time": "2024-04-18T02:39:47.520930",
     "exception": false,
     "start_time": "2024-04-18T02:38:19.571350",
     "status": "completed"
    },
    "tags": []
   },
   "outputs": [
    {
     "name": "stdout",
     "output_type": "stream",
     "text": [
      "Subject 1: Morlet Transform saved to /kaggle/working/cleaned_data_custom/psd/subject_1.npy\n",
      "Subject 2: Morlet Transform saved to /kaggle/working/cleaned_data_custom/psd/subject_2.npy\n",
      "Subject 3: Morlet Transform saved to /kaggle/working/cleaned_data_custom/psd/subject_3.npy\n",
      "Subject 4: Morlet Transform saved to /kaggle/working/cleaned_data_custom/psd/subject_4.npy\n",
      "Subject 5: Morlet Transform saved to /kaggle/working/cleaned_data_custom/psd/subject_5.npy\n",
      "Subject 6: Morlet Transform saved to /kaggle/working/cleaned_data_custom/psd/subject_6.npy\n",
      "Subject 7: Morlet Transform saved to /kaggle/working/cleaned_data_custom/psd/subject_7.npy\n",
      "Subject 8: Morlet Transform saved to /kaggle/working/cleaned_data_custom/psd/subject_8.npy\n",
      "Subject 9: Morlet Transform saved to /kaggle/working/cleaned_data_custom/psd/subject_9.npy\n",
      "Subject 10: Morlet Transform saved to /kaggle/working/cleaned_data_custom/psd/subject_10.npy\n",
      "Subject 11: Morlet Transform saved to /kaggle/working/cleaned_data_custom/psd/subject_11.npy\n",
      "Subject 12: Morlet Transform saved to /kaggle/working/cleaned_data_custom/psd/subject_12.npy\n",
      "Subject 13: Morlet Transform saved to /kaggle/working/cleaned_data_custom/psd/subject_13.npy\n",
      "Subject 14: Morlet Transform saved to /kaggle/working/cleaned_data_custom/psd/subject_14.npy\n",
      "Subject 15: Morlet Transform saved to /kaggle/working/cleaned_data_custom/psd/subject_15.npy\n",
      "Subject 16: Morlet Transform saved to /kaggle/working/cleaned_data_custom/psd/subject_16.npy\n",
      "Subject 17: Morlet Transform saved to /kaggle/working/cleaned_data_custom/psd/subject_17.npy\n",
      "Subject 18: Morlet Transform saved to /kaggle/working/cleaned_data_custom/psd/subject_18.npy\n",
      "Subject 19: Morlet Transform saved to /kaggle/working/cleaned_data_custom/psd/subject_19.npy\n",
      "Subject 20: Morlet Transform saved to /kaggle/working/cleaned_data_custom/psd/subject_20.npy\n",
      "Subject 21: Morlet Transform saved to /kaggle/working/cleaned_data_custom/psd/subject_21.npy\n",
      "Subject 22: Morlet Transform saved to /kaggle/working/cleaned_data_custom/psd/subject_22.npy\n",
      "Subject 23: Morlet Transform saved to /kaggle/working/cleaned_data_custom/psd/subject_23.npy\n",
      "Subject 24: Morlet Transform saved to /kaggle/working/cleaned_data_custom/psd/subject_24.npy\n",
      "Subject 25: Morlet Transform saved to /kaggle/working/cleaned_data_custom/psd/subject_25.npy\n",
      "Subject 26: Morlet Transform saved to /kaggle/working/cleaned_data_custom/psd/subject_26.npy\n",
      "Subject 27: Morlet Transform saved to /kaggle/working/cleaned_data_custom/psd/subject_27.npy\n",
      "Subject 28: Morlet Transform saved to /kaggle/working/cleaned_data_custom/psd/subject_28.npy\n",
      "Subject 29: Morlet Transform saved to /kaggle/working/cleaned_data_custom/psd/subject_29.npy\n",
      "Subject 30: Morlet Transform saved to /kaggle/working/cleaned_data_custom/psd/subject_30.npy\n",
      "Subject 31: Morlet Transform saved to /kaggle/working/cleaned_data_custom/psd/subject_31.npy\n",
      "Subject 32: Morlet Transform saved to /kaggle/working/cleaned_data_custom/psd/subject_32.npy\n",
      "Subject 33: Morlet Transform saved to /kaggle/working/cleaned_data_custom/psd/subject_33.npy\n",
      "Subject 34: Morlet Transform saved to /kaggle/working/cleaned_data_custom/psd/subject_34.npy\n",
      "Subject 35: Morlet Transform saved to /kaggle/working/cleaned_data_custom/psd/subject_35.npy\n",
      "Subject 36: Morlet Transform saved to /kaggle/working/cleaned_data_custom/psd/subject_36.npy\n",
      "Subject 37: Morlet Transform saved to /kaggle/working/cleaned_data_custom/psd/subject_37.npy\n",
      "Subject 38: Morlet Transform saved to /kaggle/working/cleaned_data_custom/psd/subject_38.npy\n",
      "Subject 39: Morlet Transform saved to /kaggle/working/cleaned_data_custom/psd/subject_39.npy\n",
      "Subject 40: Morlet Transform saved to /kaggle/working/cleaned_data_custom/psd/subject_40.npy\n",
      "Subject 41: Morlet Transform saved to /kaggle/working/cleaned_data_custom/psd/subject_41.npy\n",
      "Subject 42: Morlet Transform saved to /kaggle/working/cleaned_data_custom/psd/subject_42.npy\n",
      "Subject 43: Morlet Transform saved to /kaggle/working/cleaned_data_custom/psd/subject_43.npy\n",
      "Subject 44: Morlet Transform saved to /kaggle/working/cleaned_data_custom/psd/subject_44.npy\n",
      "Subject 45: Morlet Transform saved to /kaggle/working/cleaned_data_custom/psd/subject_45.npy\n",
      "Subject 46: Morlet Transform saved to /kaggle/working/cleaned_data_custom/psd/subject_46.npy\n",
      "Subject 47: Morlet Transform saved to /kaggle/working/cleaned_data_custom/psd/subject_47.npy\n",
      "Subject 48: Morlet Transform saved to /kaggle/working/cleaned_data_custom/psd/subject_48.npy\n",
      "Subject 49: Morlet Transform saved to /kaggle/working/cleaned_data_custom/psd/subject_49.npy\n",
      "Subject 50: Morlet Transform saved to /kaggle/working/cleaned_data_custom/psd/subject_50.npy\n",
      "Subject 51: Morlet Transform saved to /kaggle/working/cleaned_data_custom/psd/subject_51.npy\n",
      "Subject 52: Morlet Transform saved to /kaggle/working/cleaned_data_custom/psd/subject_52.npy\n",
      "Subject 53: Morlet Transform saved to /kaggle/working/cleaned_data_custom/psd/subject_53.npy\n",
      "Subject 54: Morlet Transform saved to /kaggle/working/cleaned_data_custom/psd/subject_54.npy\n",
      "Subject 55: Morlet Transform saved to /kaggle/working/cleaned_data_custom/psd/subject_55.npy\n",
      "Subject 56: Morlet Transform saved to /kaggle/working/cleaned_data_custom/psd/subject_56.npy\n",
      "Subject 57: Morlet Transform saved to /kaggle/working/cleaned_data_custom/psd/subject_57.npy\n",
      "Subject 58: Morlet Transform saved to /kaggle/working/cleaned_data_custom/psd/subject_58.npy\n",
      "Subject 59: Morlet Transform saved to /kaggle/working/cleaned_data_custom/psd/subject_59.npy\n",
      "Subject 60: Morlet Transform saved to /kaggle/working/cleaned_data_custom/psd/subject_60.npy\n",
      "Subject 61: Morlet Transform saved to /kaggle/working/cleaned_data_custom/psd/subject_61.npy\n",
      "Subject 62: Morlet Transform saved to /kaggle/working/cleaned_data_custom/psd/subject_62.npy\n",
      "Subject 63: Morlet Transform saved to /kaggle/working/cleaned_data_custom/psd/subject_63.npy\n",
      "Subject 64: Morlet Transform saved to /kaggle/working/cleaned_data_custom/psd/subject_64.npy\n",
      "Subject 65: Morlet Transform saved to /kaggle/working/cleaned_data_custom/psd/subject_65.npy\n",
      "Subject 66: Morlet Transform saved to /kaggle/working/cleaned_data_custom/psd/subject_66.npy\n",
      "Subject 67: Morlet Transform saved to /kaggle/working/cleaned_data_custom/psd/subject_67.npy\n",
      "Subject 68: Morlet Transform saved to /kaggle/working/cleaned_data_custom/psd/subject_68.npy\n",
      "Subject 69: Morlet Transform saved to /kaggle/working/cleaned_data_custom/psd/subject_69.npy\n",
      "Subject 70: Morlet Transform saved to /kaggle/working/cleaned_data_custom/psd/subject_70.npy\n",
      "Subject 71: Morlet Transform saved to /kaggle/working/cleaned_data_custom/psd/subject_71.npy\n",
      "Subject 72: Morlet Transform saved to /kaggle/working/cleaned_data_custom/psd/subject_72.npy\n",
      "Subject 73: Morlet Transform saved to /kaggle/working/cleaned_data_custom/psd/subject_73.npy\n",
      "Subject 74: Morlet Transform saved to /kaggle/working/cleaned_data_custom/psd/subject_74.npy\n",
      "Subject 75: Morlet Transform saved to /kaggle/working/cleaned_data_custom/psd/subject_75.npy\n",
      "Subject 76: Morlet Transform saved to /kaggle/working/cleaned_data_custom/psd/subject_76.npy\n",
      "Subject 77: Morlet Transform saved to /kaggle/working/cleaned_data_custom/psd/subject_77.npy\n",
      "Subject 78: Morlet Transform saved to /kaggle/working/cleaned_data_custom/psd/subject_78.npy\n",
      "Subject 79: Morlet Transform saved to /kaggle/working/cleaned_data_custom/psd/subject_79.npy\n",
      "Subject 80: Morlet Transform saved to /kaggle/working/cleaned_data_custom/psd/subject_80.npy\n",
      "Subject 81: Morlet Transform saved to /kaggle/working/cleaned_data_custom/psd/subject_81.npy\n",
      "Subject 82: Morlet Transform saved to /kaggle/working/cleaned_data_custom/psd/subject_82.npy\n",
      "Subject 83: Morlet Transform saved to /kaggle/working/cleaned_data_custom/psd/subject_83.npy\n",
      "Subject 84: Morlet Transform saved to /kaggle/working/cleaned_data_custom/psd/subject_84.npy\n",
      "Subject 85: Morlet Transform saved to /kaggle/working/cleaned_data_custom/psd/subject_85.npy\n",
      "Subject 86: Morlet Transform saved to /kaggle/working/cleaned_data_custom/psd/subject_86.npy\n",
      "Subject 87: Morlet Transform saved to /kaggle/working/cleaned_data_custom/psd/subject_87.npy\n",
      "Subject 88: Morlet Transform saved to /kaggle/working/cleaned_data_custom/psd/subject_88.npy\n"
     ]
    }
   ],
   "source": [
    "import numpy as np\n",
    "from scipy.signal import coherence\n",
    "import os\n",
    "\n",
    "\n",
    "output_dir = \"/kaggle/working/cleaned_data_custom/psd/\"\n",
    "if not os.path.exists(output_dir):\n",
    "    os.makedirs(output_dir)\n",
    "\n",
    "for subject in range(1, 89):\n",
    "    file_path = f\"/kaggle/input/fork-of-cleaned-custom-epochs/sub-{subject:003}_epochs.npy\"\n",
    "    output_file = os.path.join(output_dir, f\"subject_{subject}.npy\")\n",
    "    \n",
    "    if os.path.exists(file_path):\n",
    "        data = np.load(file_path)\n",
    "        z = compute_psd(data,500)\n",
    "        np.save(output_file, z)\n",
    "        print(f\"Subject {subject}: Morlet Transform saved to {output_file}\")\n",
    "    else:\n",
    "        print(f\"Subject {subject} file not found, skipping.\")"
   ]
  },
  {
   "cell_type": "code",
   "execution_count": null,
   "id": "e1e84e3c",
   "metadata": {
    "papermill": {
     "duration": 0.038207,
     "end_time": "2024-04-18T02:39:47.596419",
     "exception": false,
     "start_time": "2024-04-18T02:39:47.558212",
     "status": "completed"
    },
    "tags": []
   },
   "outputs": [],
   "source": []
  }
 ],
 "metadata": {
  "kaggle": {
   "accelerator": "none",
   "dataSources": [
    {
     "datasetId": 4790312,
     "sourceId": 8109577,
     "sourceType": "datasetVersion"
    },
    {
     "sourceId": 172157158,
     "sourceType": "kernelVersion"
    }
   ],
   "dockerImageVersionId": 30684,
   "isGpuEnabled": false,
   "isInternetEnabled": true,
   "language": "python",
   "sourceType": "notebook"
  },
  "kernelspec": {
   "display_name": "Python 3",
   "language": "python",
   "name": "python3"
  },
  "language_info": {
   "codemirror_mode": {
    "name": "ipython",
    "version": 3
   },
   "file_extension": ".py",
   "mimetype": "text/x-python",
   "name": "python",
   "nbconvert_exporter": "python",
   "pygments_lexer": "ipython3",
   "version": "3.10.13"
  },
  "papermill": {
   "default_parameters": {},
   "duration": 1150.782586,
   "end_time": "2024-04-18T02:39:48.561095",
   "environment_variables": {},
   "exception": null,
   "input_path": "__notebook__.ipynb",
   "output_path": "__notebook__.ipynb",
   "parameters": {},
   "start_time": "2024-04-18T02:20:37.778509",
   "version": "2.5.0"
  }
 },
 "nbformat": 4,
 "nbformat_minor": 5
}
